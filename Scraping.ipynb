{
  "nbformat": 4,
  "nbformat_minor": 0,
  "metadata": {
    "colab": {
      "name": "Scraping.ipynb",
      "provenance": [],
      "collapsed_sections": [],
      "authorship_tag": "ABX9TyMFH5wu7rCDyFIUmTffx79E",
      "include_colab_link": true
    },
    "kernelspec": {
      "name": "python3",
      "display_name": "Python 3"
    },
    "language_info": {
      "name": "python"
    }
  },
  "cells": [
    {
      "cell_type": "markdown",
      "metadata": {
        "id": "view-in-github",
        "colab_type": "text"
      },
      "source": [
        "<a href=\"https://colab.research.google.com/github/Raziel-JKM/Python/blob/python/Scraping.ipynb\" target=\"_parent\"><img src=\"https://colab.research.google.com/assets/colab-badge.svg\" alt=\"Open In Colab\"/></a>"
      ]
    },
    {
      "cell_type": "code",
      "metadata": {
        "id": "G8A82BKKEnvI"
      },
      "source": [
        "import requests\n",
        "\n",
        "res = requests.get(\"http://naver.com\")\n",
        "\n",
        "print(\"응갑코드:\", res.status_code) #200이면 정상 , 403 - 스크래핑 불가\n",
        "\n",
        "if res.status_code == requests.codes.ok:\n",
        "    print(\"정상입니다\")\n",
        "else:\n",
        "    print(\"문제가 생겼습니다. [에러코드\",res.status_code,\"]\")"
      ],
      "execution_count": null,
      "outputs": []
    },
    {
      "cell_type": "code",
      "metadata": {
        "id": "Xr_pH5qAFXpe"
      },
      "source": [
        "\n",
        "\n",
        "#만약 403 오류가 생기면, 거기서 오류내뱉고 프로그램 종료 시켜준다\n",
        "res.raise_for_status()\n",
        "print(\"웹 스크래핑을 진행합니다\")\n"
      ],
      "execution_count": null,
      "outputs": []
    },
    {
      "cell_type": "code",
      "metadata": {
        "id": "LBxRGvEzFdyf"
      },
      "source": [
        "# 위 두개 정리해서 쓴다 \n",
        "import requests\n",
        "\n",
        "res = requests.get(\"http://naver.com\")\n",
        "res.raise_for_status()\n",
        "print(\"응갑코드:\", res.status_code)"
      ],
      "execution_count": null,
      "outputs": []
    },
    {
      "cell_type": "code",
      "metadata": {
        "id": "xKVoAAfJF5R_"
      },
      "source": [
        "print(len(res.text)) # 가져온 문서의 글자 갯수\n",
        "\n",
        "print(res.text) # 터미널에서 바로 확인"
      ],
      "execution_count": null,
      "outputs": []
    },
    {
      "cell_type": "code",
      "metadata": {
        "id": "S3KTVteBGnWw"
      },
      "source": [
        "#스크래핑 파일로 만들어보기\n",
        "with open(\"mygoogle.html\", \"w\", encoding=\"utf8\") as f:\n",
        "    f.write(res.text) # 좌측 파일에 html 형식으로 저장한다"
      ],
      "execution_count": null,
      "outputs": []
    },
    {
      "cell_type": "markdown",
      "metadata": {
        "id": "rCgmfc6vG2DH"
      },
      "source": [
        "##정규식 requer express"
      ]
    },
    {
      "cell_type": "code",
      "metadata": {
        "id": "0W5cRAYgJ73X"
      },
      "source": [
        "\n",
        "\n",
        "m = p.match(\"case\")\n",
        "print(m.group) # 매치되지 않으면 에러가 난다\n",
        "\n",
        "if m:\n",
        "m = p.match(\"caffe\")\n",
        "#print(m.group()) # 매치되지 않으면 에러가 발생한다...\n",
        "\n",
        "if m:\n",
        "    print(m.group())\n",
        "else\n",
        "    print(\"매칭되지 않음\")"
      ],
      "execution_count": null,
      "outputs": []
    },
    {
      "cell_type": "code",
      "metadata": {
        "colab": {
          "base_uri": "https://localhost:8080/"
        },
        "id": "JeK3iT43LVf_",
        "outputId": "495fac37-1eb6-4fd5-a4e4-6a4018705923"
      },
      "source": [
        "# 차량 번호판은 4글자로 구성된 상황\n",
        "# 그런데  ca?e만 생각난다\n",
        "# care, cafe, case, cave ... \n",
        "\n",
        "import re\n",
        "# 하나의 문자식을 인식하는 컴파일\n",
        "p = re.compile(\"ca.e\") \n",
        "# . (ca.e) : 하나의 문자를 의미 > care, cafe, case (o) | caffe(x)\n",
        "# ^ (^de)  : 문자열의 시작 > desk, destination(o) | fade(x)\n",
        "# $ (se$)  : 문자열의 끝 > case, base(o) | face(x)\n",
        "\n",
        "\n",
        "\n",
        "def print_match(m):\n",
        "    if m:\n",
        "        print(m.group())\n",
        "    else:\n",
        "        print(\"매칭되지 않음\")\n",
        "\n",
        "m = p.match(\"carelass\") # 여러 단어 넣어보기\n",
        "print_match(m)\n",
        "\n",
        "#print(m.group()) # 매치되지 않으면 에러가 발생"
      ],
      "execution_count": 2,
      "outputs": [
        {
          "output_type": "stream",
          "text": [
            "care\n"
          ],
          "name": "stdout"
        }
      ]
    },
    {
      "cell_type": "markdown",
      "metadata": {
        "id": "6ptbmt36nSgB"
      },
      "source": [
        "##정규식 2"
      ]
    },
    {
      "cell_type": "code",
      "metadata": {
        "id": "Nmah0VW7Lk_l"
      },
      "source": [
        "#matchs는 주어진 문자열의 처음부터 일치하는지 확인\n",
        "#search 주어진 문자열 중에 들어간 내용과 일치하는지 확인\n",
        "\n",
        "#정규식 2\n",
        "\n",
        "m = p.search(\"good care\") #search 주어진 문자열 중에 들어간 내용과 일치하는지 확인\n",
        "#good care 두번쨰 단어에 일치하는 단어가 존재\n",
        "\n",
        "print_match(m)"
      ],
      "execution_count": null,
      "outputs": []
    },
    {
      "cell_type": "code",
      "metadata": {
        "id": "iSq29xP1pNa8"
      },
      "source": [
        "# 차량 번호판은 4글자로 구성된 상황\n",
        "# 그런데  ca?e만 생각난다\n",
        "# care, cafe, case, cave ... \n",
        "\n",
        "import re\n",
        "# 하나의 문자식을 인식하는 컴파일\n",
        "p = re.compile(\"ca.e\") \n",
        "# . (ca.e) : 하나의 문자를 의미 > care, cafe, case (o) | caffe(x)\n",
        "# ^ (^de)  : 문자열의 시작 > desk, destination(o) | fade(x)\n",
        "# $ (se$)  : 문자열의 끝 > case, base(o) | face(x)\n",
        "\n",
        "\n",
        "\n",
        "def print_match(m):\n",
        "    if m:\n",
        "        print(\"m.group():\", m.group()) #일치하는 문자열 반환\n",
        "        print(\"m.string:\",m.string) #입력받은 문자열\n",
        "        print(\"m.start():\", m.start()) # 일치하는 문자열의 시작 index\n",
        "        print(\"m.end():\", m.end()) #일치하는 문자열의 끝 Index\n",
        "        print(\"m.span()\", m.span()) #일치하는 문자열의 시작 / 끝 index\n",
        "\n",
        "    else:\n",
        "        print(\"매칭되지 않음\")\n",
        "\n",
        "m = p.match(\"carelass\") #matchs는 주어진 문자열의 처음부터 일치하는지 확인\n",
        "print_match(m)\n",
        "\n",
        "#print(m.group()) # 매치되지 않으면 에러가 발생\n",
        "\n",
        "\n",
        "\n",
        "#정규식 2\n",
        "\n",
        "m = p.search(\"good care\") #search 주어진 문자열 중에 들어간 내용과 일치하는지 확인\n",
        "#good care 두번쨰 단어에 일치하는 단어가 존재\n",
        "\n",
        "print_match(m)\n",
        "\n"
      ],
      "execution_count": null,
      "outputs": []
    },
    {
      "cell_type": "code",
      "metadata": {
        "id": "RHhho7R4qC9y"
      },
      "source": [
        "lit = p.findall(\"good care cafe\") #findall : 일치하는 모든 것을 리스트 형태로 반환\n",
        "print(lit)"
      ],
      "execution_count": null,
      "outputs": []
    },
    {
      "cell_type": "markdown",
      "metadata": {
        "id": "G3OAV5Voq6-j"
      },
      "source": [
        "정규식\n",
        "\n",
        "1st re.complie(\"원하는 형태\")\n",
        "\n",
        "2nd m = p.match(\"비교할 문자열\") 주어진 문자열의 처음부터 일치하는지 확인\n",
        "\n",
        "3rd m = p.search(\"비교할 문자열\") : 주어진 문자열 중에 일치하는게 있는지 확인\n",
        "\n",
        "4th lit = p.findall(\"비교할 문자열\") : 일치하는 모든 것을 \"리스트\" 형태로 반환\n",
        "\n",
        "원하는 형태 :\n",
        "\n",
        " . (ca.e) : 하나의 문자를 의미 > care, cafe, case (o) | caffe(x)\n",
        "\n",
        " ^ (^de)  : 문자열의 시작 > desk, destination(o) | fade(x)\n",
        "\n",
        " $ (se$)  : 문자열의 끝 > case, base(o) | face(x) - 더블클릭 확인 (달러표시)"
      ]
    }
  ]
}