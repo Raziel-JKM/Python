{
  "nbformat": 4,
  "nbformat_minor": 0,
  "metadata": {
    "colab": {
      "name": "Scraping1.ipynb",
      "provenance": [],
      "collapsed_sections": [],
      "authorship_tag": "ABX9TyPYIgoC6cdNThKZZlCkrNqO",
      "include_colab_link": true
    },
    "kernelspec": {
      "name": "python3",
      "display_name": "Python 3"
    },
    "language_info": {
      "name": "python"
    }
  },
  "cells": [
    {
      "cell_type": "markdown",
      "metadata": {
        "id": "view-in-github",
        "colab_type": "text"
      },
      "source": [
        "<a href=\"https://colab.research.google.com/github/Raziel-JKM/Python/blob/python/Scraping1.ipynb\" target=\"_parent\"><img src=\"https://colab.research.google.com/assets/colab-badge.svg\" alt=\"Open In Colab\"/></a>"
      ]
    },
    {
      "cell_type": "code",
      "metadata": {
        "id": "G8A82BKKEnvI"
      },
      "source": [
        "import requests\n",
        "\n",
        "res = requests.get(\"http://naver.com\")\n",
        "\n",
        "print(\"응갑코드:\", res.status_code) #200이면 정상 , 403 - 스크래핑 불가\n",
        "\n",
        "if res.status_code == requests.codes.ok:\n",
        "    print(\"정상입니다\")\n",
        "else:\n",
        "    print(\"문제가 생겼습니다. [에러코드\",res.status_code,\"]\")"
      ],
      "execution_count": null,
      "outputs": []
    },
    {
      "cell_type": "code",
      "metadata": {
        "id": "Xr_pH5qAFXpe"
      },
      "source": [
        "\n",
        "\n",
        "#만약 403 오류가 생기면, 거기서 오류내뱉고 프로그램 종료 시켜준다\n",
        "res.raise_for_status()\n",
        "print(\"웹 스크래핑을 진행합니다\")\n"
      ],
      "execution_count": null,
      "outputs": []
    },
    {
      "cell_type": "code",
      "metadata": {
        "id": "LBxRGvEzFdyf"
      },
      "source": [
        "# 위 두개 정리해서 쓴다 \n",
        "import requests\n",
        "\n",
        "res = requests.get(\"http://naver.com\")\n",
        "res.raise_for_status()\n",
        "print(\"응갑코드:\", res.status_code)"
      ],
      "execution_count": null,
      "outputs": []
    },
    {
      "cell_type": "code",
      "metadata": {
        "id": "xKVoAAfJF5R_"
      },
      "source": [
        "print(len(res.text)) # 가져온 문서의 글자 갯수\n",
        "\n",
        "print(res.text) # 터미널에서 바로 확인"
      ],
      "execution_count": null,
      "outputs": []
    },
    {
      "cell_type": "code",
      "metadata": {
        "id": "S3KTVteBGnWw"
      },
      "source": [
        "#스크래핑 파일로 만들어보기\n",
        "with open(\"mygoogle.html\", \"w\", encoding=\"utf8\") as f:\n",
        "    f.write(res.text) # 좌측 파일에 html 형식으로 저장한다"
      ],
      "execution_count": null,
      "outputs": []
    },
    {
      "cell_type": "markdown",
      "metadata": {
        "id": "rCgmfc6vG2DH"
      },
      "source": [
        "##정규식 requer express"
      ]
    },
    {
      "cell_type": "code",
      "metadata": {
        "id": "0W5cRAYgJ73X"
      },
      "source": [
        "\n",
        "\n",
        "m = p.match(\"case\")\n",
        "print(m.group) # 매치되지 않으면 에러가 난다\n",
        "\n",
        "if m:\n",
        "m = p.match(\"caffe\")\n",
        "#print(m.group()) # 매치되지 않으면 에러가 발생한다...\n",
        "\n",
        "if m:\n",
        "    print(m.group())\n",
        "else\n",
        "    print(\"매칭되지 않음\")"
      ],
      "execution_count": null,
      "outputs": []
    },
    {
      "cell_type": "code",
      "metadata": {
        "colab": {
          "base_uri": "https://localhost:8080/"
        },
        "id": "JeK3iT43LVf_",
        "outputId": "495fac37-1eb6-4fd5-a4e4-6a4018705923"
      },
      "source": [
        "# 차량 번호판은 4글자로 구성된 상황\n",
        "# 그런데  ca?e만 생각난다\n",
        "# care, cafe, case, cave ... \n",
        "\n",
        "import re\n",
        "# 하나의 문자식을 인식하는 컴파일\n",
        "p = re.compile(\"ca.e\") \n",
        "# . (ca.e) : 하나의 문자를 의미 > care, cafe, case (o) | caffe(x)\n",
        "# ^ (^de)  : 문자열의 시작 > desk, destination(o) | fade(x)\n",
        "# $ (se$)  : 문자열의 끝 > case, base(o) | face(x)\n",
        "\n",
        "\n",
        "\n",
        "def print_match(m):\n",
        "    if m:\n",
        "        print(m.group())\n",
        "    else:\n",
        "        print(\"매칭되지 않음\")\n",
        "\n",
        "m = p.match(\"carelass\") # 여러 단어 넣어보기\n",
        "print_match(m)\n",
        "\n",
        "#print(m.group()) # 매치되지 않으면 에러가 발생"
      ],
      "execution_count": 2,
      "outputs": [
        {
          "output_type": "stream",
          "text": [
            "care\n"
          ],
          "name": "stdout"
        }
      ]
    },
    {
      "cell_type": "markdown",
      "metadata": {
        "id": "6ptbmt36nSgB"
      },
      "source": [
        "##정규식 2"
      ]
    },
    {
      "cell_type": "code",
      "metadata": {
        "id": "Nmah0VW7Lk_l"
      },
      "source": [
        "#matchs는 주어진 문자열의 처음부터 일치하는지 확인\n",
        "#search 주어진 문자열 중에 들어간 내용과 일치하는지 확인\n",
        "\n",
        "#정규식 2\n",
        "\n",
        "m = p.search(\"good care\") #search 주어진 문자열 중에 들어간 내용과 일치하는지 확인\n",
        "#good care 두번쨰 단어에 일치하는 단어가 존재\n",
        "\n",
        "print_match(m)"
      ],
      "execution_count": null,
      "outputs": []
    },
    {
      "cell_type": "code",
      "metadata": {
        "id": "iSq29xP1pNa8"
      },
      "source": [
        "# 차량 번호판은 4글자로 구성된 상황\n",
        "# 그런데  ca?e만 생각난다\n",
        "# care, cafe, case, cave ... \n",
        "\n",
        "import re\n",
        "# 하나의 문자식을 인식하는 컴파일\n",
        "p = re.compile(\"ca.e\") \n",
        "# . (ca.e) : 하나의 문자를 의미 > care, cafe, case (o) | caffe(x)\n",
        "# ^ (^de)  : 문자열의 시작 > desk, destination(o) | fade(x)\n",
        "# $ (se$)  : 문자열의 끝 > case, base(o) | face(x)\n",
        "\n",
        "\n",
        "\n",
        "def print_match(m):\n",
        "    if m:\n",
        "        print(\"m.group():\", m.group()) #일치하는 문자열 반환\n",
        "        print(\"m.string:\",m.string) #입력받은 문자열\n",
        "        print(\"m.start():\", m.start()) # 일치하는 문자열의 시작 index\n",
        "        print(\"m.end():\", m.end()) #일치하는 문자열의 끝 Index\n",
        "        print(\"m.span()\", m.span()) #일치하는 문자열의 시작 / 끝 index\n",
        "\n",
        "    else:\n",
        "        print(\"매칭되지 않음\")\n",
        "\n",
        "m = p.match(\"carelass\") #matchs는 주어진 문자열의 처음부터 일치하는지 확인\n",
        "print_match(m)\n",
        "\n",
        "#print(m.group()) # 매치되지 않으면 에러가 발생\n",
        "\n",
        "\n",
        "\n",
        "#정규식 2\n",
        "\n",
        "m = p.search(\"good care\") #search 주어진 문자열 중에 들어간 내용과 일치하는지 확인\n",
        "#good care 두번쨰 단어에 일치하는 단어가 존재\n",
        "\n",
        "print_match(m)\n",
        "\n"
      ],
      "execution_count": null,
      "outputs": []
    },
    {
      "cell_type": "code",
      "metadata": {
        "id": "RHhho7R4qC9y"
      },
      "source": [
        "lit = p.findall(\"good care cafe\") #findall : 일치하는 모든 것을 리스트 형태로 반환\n",
        "print(lit)"
      ],
      "execution_count": null,
      "outputs": []
    },
    {
      "cell_type": "markdown",
      "metadata": {
        "id": "G3OAV5Voq6-j"
      },
      "source": [
        "정규식\n",
        "\n",
        "1st re.complie(\"원하는 형태\")\n",
        "\n",
        "2nd m = p.match(\"비교할 문자열\") 주어진 문자열의 처음부터 일치하는지 확인\n",
        "\n",
        "3rd m = p.search(\"비교할 문자열\") : 주어진 문자열 중에 일치하는게 있는지 확인\n",
        "\n",
        "4th lit = p.findall(\"비교할 문자열\") : 일치하는 모든 것을 \"리스트\" 형태로 반환\n",
        "\n",
        "원하는 형태 :\n",
        "\n",
        " . (ca.e) : 하나의 문자를 의미 > care, cafe, case (o) | caffe(x)\n",
        "\n",
        " ^ (^de)  : 문자열의 시작 > desk, destination(o) | fade(x)\n",
        "\n",
        " $ (se$)  : 문자열의 끝 > case, base(o) | face(x) - 더블클릭 확인 (달러표시)\n",
        "\n",
        "- [ W3school 정규식 Part](https://www.w3schools.com/python/python_regex.asp)\n",
        "\n",
        "- python Doc [#](https://docs.python.org/3/library/re.html)"
      ]
    },
    {
      "cell_type": "markdown",
      "metadata": {
        "id": "G8tvibIn73Qj"
      },
      "source": [
        "##User Header"
      ]
    },
    {
      "cell_type": "markdown",
      "metadata": {
        "id": "DWZHWwEF4TAB"
      },
      "source": [
        "User\n",
        "403에러 사용자 헤더 정보로 서버에서는 접속자를 알 수 있다. 웹크롤링도 인식하여 차단가능\n",
        "User Agernt로 해결이 가능하다.\n",
        "\n",
        "import requests\n",
        "headers = {\"User-Agent\": \"https://www.whatismybrowser.com/detect/what-is-my-user-agent\"}\n",
        "res = reqquests.get(url, headers=headers \"http://nadocoding.tistory.com\")\n",
        "컴에서는 리퀘스트를 통해 접속하면 정보를 주지 않는다.\n",
        "res.raise_for_stattus()\n",
        "with open(\"nadocoding.html\",\"w\",encoding =\"utf8\") as f:\n",
        "    f.writh(res.text)\n",
        "\n",
        "\n",
        "\n",
        "\n",
        "    # whatismyUserAgent?\n",
        "    # https://www.whatismybrowser.com/detect/what-is-my-user-agent"
      ]
    },
    {
      "cell_type": "code",
      "metadata": {
        "colab": {
          "base_uri": "https://localhost:8080/"
        },
        "id": "WwMJHD3IBHYD",
        "outputId": "ae793196-b31a-49ee-8e31-a1050e6fb2d1"
      },
      "source": [
        "!pip install lxml\n",
        "!pip install beautifulsoup4"
      ],
      "execution_count": 5,
      "outputs": [
        {
          "output_type": "stream",
          "text": [
            "Requirement already satisfied: lxml in /usr/local/lib/python3.7/dist-packages (4.2.6)\n",
            "Requirement already satisfied: beautifulsoup4 in /usr/local/lib/python3.7/dist-packages (4.6.3)\n"
          ],
          "name": "stdout"
        }
      ]
    },
    {
      "cell_type": "code",
      "metadata": {
        "colab": {
          "base_uri": "https://localhost:8080/"
        },
        "id": "QLxtHsYYBrIx",
        "outputId": "1b7e80b6-d395-46b3-9aa4-f272e1b58ca5"
      },
      "source": [
        "!pip install lxml\n",
        "!pip install beautifulsoup4"
      ],
      "execution_count": 15,
      "outputs": [
        {
          "output_type": "stream",
          "text": [
            "Requirement already satisfied: lxml in /usr/local/lib/python3.7/dist-packages (4.2.6)\n",
            "Requirement already satisfied: beautifulsoup4 in /usr/local/lib/python3.7/dist-packages (4.6.3)\n"
          ],
          "name": "stdout"
        }
      ]
    },
    {
      "cell_type": "code",
      "metadata": {
        "colab": {
          "base_uri": "https://localhost:8080/"
        },
        "id": "fcmyHTft8CGn",
        "outputId": "c7060799-8b20-4815-f7a5-a43899b5c3c1"
      },
      "source": [
        "#터미널에 설치\n",
        "\n",
        "\n",
        "import requests\n",
        "from bs4 import BeautifulSoup\n",
        "\n",
        "url=\"https://comic.naver.com/webtoon/weekday\"\n",
        "res = requests.get(url)\n",
        "res.raise_for_status()  #문제 생기면 프로그램 종료\n",
        "\n",
        "soup = BeautifulSoup(res.text, \"lxml\")\n",
        "print(soup.title)"
      ],
      "execution_count": 17,
      "outputs": [
        {
          "output_type": "stream",
          "text": [
            "<title>네이버 만화 &gt; 요일별  웹툰 &gt; 전체웹툰</title>\n"
          ],
          "name": "stdout"
        }
      ]
    },
    {
      "cell_type": "code",
      "metadata": {
        "colab": {
          "base_uri": "https://localhost:8080/"
        },
        "id": "EpeUfhWTCLvG",
        "outputId": "9ef76747-912b-4937-9c34-bfc966749ab6"
      },
      "source": [
        "print(soup.title.get_text())"
      ],
      "execution_count": 18,
      "outputs": [
        {
          "output_type": "stream",
          "text": [
            "네이버 만화 > 요일별  웹툰 > 전체웹툰\n"
          ],
          "name": "stdout"
        }
      ]
    },
    {
      "cell_type": "code",
      "metadata": {
        "colab": {
          "base_uri": "https://localhost:8080/"
        },
        "id": "s-udHbhGCrgc",
        "outputId": "87c82ba1-8b60-4389-b154-a008ac46e3a8"
      },
      "source": [
        "print(soup.a)\n",
        "#전체 soup에서 처음 a 나오는 부분을 산출한다. / soup객체에서 처음 반환되는 a 요소를 반환 해준다."
      ],
      "execution_count": 21,
      "outputs": [
        {
          "output_type": "stream",
          "text": [
            "<a href=\"#menu\" onclick=\"document.getElementById('menu').tabIndex=-1;document.getElementById('menu').focus();return false;\"><span>메인 메뉴로 바로가기</span></a>\n"
          ],
          "name": "stdout"
        }
      ]
    },
    {
      "cell_type": "code",
      "metadata": {
        "colab": {
          "base_uri": "https://localhost:8080/"
        },
        "id": "T1vUKSkvDeLZ",
        "outputId": "62297345-5fef-47d3-b7d7-6c6adb792d85"
      },
      "source": [
        "print(soup.a.attrs)\n",
        "#속성을 알려준다"
      ],
      "execution_count": 28,
      "outputs": [
        {
          "output_type": "stream",
          "text": [
            "{'href': '#menu', 'onclick': \"document.getElementById('menu').tabIndex=-1;document.getElementById('menu').focus();return false;\"}\n"
          ],
          "name": "stdout"
        }
      ]
    },
    {
      "cell_type": "code",
      "metadata": {
        "colab": {
          "base_uri": "https://localhost:8080/"
        },
        "id": "BZ4j4ur0EHnS",
        "outputId": "ae1b0723-65ba-4010-8686-395e0a11c547"
      },
      "source": [
        "print(soup.a[\"href\"])\n",
        "#위에 딕셔너리 값에서 href에 해당하는 값을 알려준다"
      ],
      "execution_count": 30,
      "outputs": [
        {
          "output_type": "stream",
          "text": [
            "#menu\n"
          ],
          "name": "stdout"
        }
      ]
    },
    {
      "cell_type": "markdown",
      "metadata": {
        "id": "W0SO9SNBFdde"
      },
      "source": [
        "##페이지에 대한 이해도가 낮을때, find"
      ]
    },
    {
      "cell_type": "code",
      "metadata": {
        "colab": {
          "base_uri": "https://localhost:8080/"
        },
        "id": "I54YsoMRFgJ7",
        "outputId": "e7c89b12-2f95-4c7b-d16f-f6216b079a3d"
      },
      "source": [
        "print(soup.find(\"a\", attrs = {\"class\":\"Nbtn_upload\"}))\n",
        "#\"class\":\"Nbtn_upload\"에서 처음으로 발견되는 a 값을 가져올 수 있다."
      ],
      "execution_count": 32,
      "outputs": [
        {
          "output_type": "stream",
          "text": [
            "<a class=\"Nbtn_upload\" href=\"/mypage/myActivity\" onclick=\"nclk_v2(event,'olk.upload');\">웹툰 올리기</a>\n"
          ],
          "name": "stdout"
        }
      ]
    },
    {
      "cell_type": "code",
      "metadata": {
        "colab": {
          "base_uri": "https://localhost:8080/"
        },
        "id": "kpnHRVl7GIr8",
        "outputId": "ae2b4d3e-7624-4b05-a543-e5f30e6f236c"
      },
      "source": [
        "print(soup.find(attrs = {\"class\":\"Nbtn_upload\"})) # 버튼이 하나밖에 없음으로\n",
        "#\"class\":\"Nbtn_upload\"에서 처음으로 발견되는 어떤값이든 찾아줘"
      ],
      "execution_count": 33,
      "outputs": [
        {
          "output_type": "stream",
          "text": [
            "<a class=\"Nbtn_upload\" href=\"/mypage/myActivity\" onclick=\"nclk_v2(event,'olk.upload');\">웹툰 올리기</a>\n"
          ],
          "name": "stdout"
        }
      ]
    },
    {
      "cell_type": "markdown",
      "metadata": {
        "id": "kMQl2vmAHOaJ"
      },
      "source": [
        "웹툰 순위 가져오기"
      ]
    },
    {
      "cell_type": "code",
      "metadata": {
        "colab": {
          "base_uri": "https://localhost:8080/"
        },
        "id": "sVYr0QALHNhC",
        "outputId": "57998f75-a8de-4eff-def2-9223703c0583"
      },
      "source": [
        "print(soup.find(\"li\", attrs={\"class\":\"rank01\"}))"
      ],
      "execution_count": 34,
      "outputs": [
        {
          "output_type": "stream",
          "text": [
            "<li class=\"rank01\">\n",
            "<a href=\"/webtoon/detail?titleId=758037&amp;no=38\" onclick=\"nclk_v2(event,'rnk*p.cont','758037','1')\" title=\"참교육-38화\">참교육-38화</a>\n",
            "<span class=\"rankBox\">\n",
            "<img alt=\"변동없음\" height=\"10\" src=\"https://ssl.pstatic.net/static/comic/images/migration/common/arrow_no.gif\" title=\"변동없음\" width=\"7\"/> 0\n",
            "\t\t\t\t\t\t\n",
            "\t\t\t\t\t\n",
            "\t\t\t\t</span>\n",
            "</li>\n"
          ],
          "name": "stdout"
        }
      ]
    },
    {
      "cell_type": "code",
      "metadata": {
        "colab": {
          "base_uri": "https://localhost:8080/"
        },
        "id": "xblpAYrhHtSt",
        "outputId": "b963b8b1-6b97-4833-e9f0-b81e5b76f480"
      },
      "source": [
        "rank1 = soup.find(\"li\", attrs={\"class\":\"rank01\"})\n",
        "print(rank1.a) #a 요소만 가져온다"
      ],
      "execution_count": 35,
      "outputs": [
        {
          "output_type": "stream",
          "text": [
            "<a href=\"/webtoon/detail?titleId=758037&amp;no=38\" onclick=\"nclk_v2(event,'rnk*p.cont','758037','1')\" title=\"참교육-38화\">참교육-38화</a>\n"
          ],
          "name": "stdout"
        }
      ]
    },
    {
      "cell_type": "markdown",
      "metadata": {
        "id": "X9hmtN8UHz_U"
      },
      "source": [
        "# Beautifulsoup4 기본2"
      ]
    },
    {
      "cell_type": "code",
      "metadata": {
        "colab": {
          "base_uri": "https://localhost:8080/",
          "height": 53
        },
        "id": "OEdKeJh8H5CD",
        "outputId": "f3cfb3a3-ed0b-4f18-ae53-786c703fc5ea"
      },
      "source": [
        "print(rank1.a.get_text())\n",
        "#텍스트만 추출\n"
      ],
      "execution_count": 36,
      "outputs": [
        {
          "output_type": "stream",
          "text": [
            "참교육-38화\n"
          ],
          "name": "stdout"
        },
        {
          "output_type": "execute_result",
          "data": {
            "application/vnd.google.colaboratory.intrinsic+json": {
              "type": "string"
            },
            "text/plain": [
              "'\\n'"
            ]
          },
          "metadata": {
            "tags": []
          },
          "execution_count": 36
        }
      ]
    },
    {
      "cell_type": "code",
      "metadata": {
        "colab": {
          "base_uri": "https://localhost:8080/"
        },
        "id": "spN5g1UrInpY",
        "outputId": "3576182e-3e6e-40e9-8e61-4e6662488cd5"
      },
      "source": [
        "print(rank1.next_sibling)#출력값이 없다. 테그 사이에 줄바꿈이있는경우"
      ],
      "execution_count": 38,
      "outputs": [
        {
          "output_type": "stream",
          "text": [
            "\n",
            "\n"
          ],
          "name": "stdout"
        }
      ]
    },
    {
      "cell_type": "code",
      "metadata": {
        "colab": {
          "base_uri": "https://localhost:8080/"
        },
        "id": "mWXqEqO9Ibfa",
        "outputId": "bd07f344-2105-4669-b6c7-4fdd7395090f"
      },
      "source": [
        "print(rank1.next_sibling.next_sibling) #시블링 한번더해주면된다"
      ],
      "execution_count": 39,
      "outputs": [
        {
          "output_type": "stream",
          "text": [
            "<li class=\"rank02\">\n",
            "<a href=\"/webtoon/detail?titleId=183559&amp;no=497\" onclick=\"nclk_v2(event,'rnk*p.cont','183559','2')\" title=\"신의 탑-3부 78화\">신의 탑-3부 78화</a>\n",
            "<span class=\"rankBox\">\n",
            "<img alt=\"변동없음\" height=\"10\" src=\"https://ssl.pstatic.net/static/comic/images/migration/common/arrow_no.gif\" title=\"변동없음\" width=\"7\"/> 0\n",
            "\t\t\t\t\t\t\n",
            "\t\t\t\t\t\n",
            "\t\t\t\t</span>\n",
            "</li>\n"
          ],
          "name": "stdout"
        }
      ]
    },
    {
      "cell_type": "code",
      "metadata": {
        "colab": {
          "base_uri": "https://localhost:8080/"
        },
        "id": "4TGojUoiI3vj",
        "outputId": "60785a1e-4da5-46bf-858b-dcad253aa6eb"
      },
      "source": [
        "print(rank1.next_sibling.next_sibling.next_sibling.next_sibling) #한번의 줄바꿈을 건너띄고, 랭크3을 추출"
      ],
      "execution_count": 41,
      "outputs": [
        {
          "output_type": "stream",
          "text": [
            "<li class=\"rank03\">\n",
            "<a href=\"/webtoon/detail?titleId=602910&amp;no=371\" onclick=\"nclk_v2(event,'rnk*p.cont','602910','3')\" title=\"윈드브레이커-3부 - 121화 조자현 VS 노아\">윈드브레이커-3부 - 121화 조자현 VS 노아</a>\n",
            "<span class=\"rankBox\">\n",
            "<img alt=\"변동없음\" height=\"10\" src=\"https://ssl.pstatic.net/static/comic/images/migration/common/arrow_no.gif\" title=\"변동없음\" width=\"7\"/> 0\n",
            "\t\t\t\t\t\t\n",
            "\t\t\t\t\t\n",
            "\t\t\t\t</span>\n",
            "</li>\n"
          ],
          "name": "stdout"
        }
      ]
    },
    {
      "cell_type": "markdown",
      "metadata": {
        "id": "KpuFXveWJVmL"
      },
      "source": [
        "#.previous_sibling 도 가능하다"
      ]
    },
    {
      "cell_type": "code",
      "metadata": {
        "colab": {
          "base_uri": "https://localhost:8080/"
        },
        "id": "CA_HCrIuJKhI",
        "outputId": "6fc7d60c-6b89-4218-8e4f-510625f1d34d"
      },
      "source": [
        "print(rank1.parent)"
      ],
      "execution_count": 42,
      "outputs": [
        {
          "output_type": "stream",
          "text": [
            "<ol class=\"asideBoxRank\" id=\"realTimeRankFavorite\">\n",
            "<li class=\"rank01\">\n",
            "<a href=\"/webtoon/detail?titleId=758037&amp;no=38\" onclick=\"nclk_v2(event,'rnk*p.cont','758037','1')\" title=\"참교육-38화\">참교육-38화</a>\n",
            "<span class=\"rankBox\">\n",
            "<img alt=\"변동없음\" height=\"10\" src=\"https://ssl.pstatic.net/static/comic/images/migration/common/arrow_no.gif\" title=\"변동없음\" width=\"7\"/> 0\n",
            "\t\t\t\t\t\t\n",
            "\t\t\t\t\t\n",
            "\t\t\t\t</span>\n",
            "</li>\n",
            "<li class=\"rank02\">\n",
            "<a href=\"/webtoon/detail?titleId=183559&amp;no=497\" onclick=\"nclk_v2(event,'rnk*p.cont','183559','2')\" title=\"신의 탑-3부 78화\">신의 탑-3부 78화</a>\n",
            "<span class=\"rankBox\">\n",
            "<img alt=\"변동없음\" height=\"10\" src=\"https://ssl.pstatic.net/static/comic/images/migration/common/arrow_no.gif\" title=\"변동없음\" width=\"7\"/> 0\n",
            "\t\t\t\t\t\t\n",
            "\t\t\t\t\t\n",
            "\t\t\t\t</span>\n",
            "</li>\n",
            "<li class=\"rank03\">\n",
            "<a href=\"/webtoon/detail?titleId=602910&amp;no=371\" onclick=\"nclk_v2(event,'rnk*p.cont','602910','3')\" title=\"윈드브레이커-3부 - 121화 조자현 VS 노아\">윈드브레이커-3부 - 121화 조자현 VS 노아</a>\n",
            "<span class=\"rankBox\">\n",
            "<img alt=\"변동없음\" height=\"10\" src=\"https://ssl.pstatic.net/static/comic/images/migration/common/arrow_no.gif\" title=\"변동없음\" width=\"7\"/> 0\n",
            "\t\t\t\t\t\t\n",
            "\t\t\t\t\t\n",
            "\t\t\t\t</span>\n",
            "</li>\n",
            "<li class=\"rank04\">\n",
            "<a href=\"/webtoon/detail?titleId=733074&amp;no=84\" onclick=\"nclk_v2(event,'rnk*p.cont','733074','4')\" title=\"백수세끼-84화 로제 떡볶이\">백수세끼-84화 로제 떡볶이</a>\n",
            "<span class=\"rankBox\">\n",
            "<img alt=\"변동없음\" height=\"10\" src=\"https://ssl.pstatic.net/static/comic/images/migration/common/arrow_no.gif\" title=\"변동없음\" width=\"7\"/> 0\n",
            "\t\t\t\t\t\t\n",
            "\t\t\t\t\t\n",
            "\t\t\t\t</span>\n",
            "</li>\n",
            "<li class=\"rank05\">\n",
            "<a href=\"/webtoon/detail?titleId=648419&amp;no=304\" onclick=\"nclk_v2(event,'rnk*p.cont','648419','5')\" title=\"뷰티풀 군바리-299화_이동희 7\">뷰티풀 군바리-299화_이동희 7</a>\n",
            "<span class=\"rankBox\">\n",
            "<img alt=\"변동없음\" height=\"10\" src=\"https://ssl.pstatic.net/static/comic/images/migration/common/arrow_no.gif\" title=\"변동없음\" width=\"7\"/> 0\n",
            "\t\t\t\t\t\t\n",
            "\t\t\t\t\t\n",
            "\t\t\t\t</span>\n",
            "</li>\n",
            "<li class=\"rank06\">\n",
            "<a href=\"/webtoon/detail?titleId=769317&amp;no=16\" onclick=\"nclk_v2(event,'rnk*p.cont','769317','6')\" title=\"삼매경-16화\">삼매경-16화</a>\n",
            "<span class=\"rankBox\">\n",
            "<img alt=\"변동없음\" height=\"10\" src=\"https://ssl.pstatic.net/static/comic/images/migration/common/arrow_no.gif\" title=\"변동없음\" width=\"7\"/> 0\n",
            "\t\t\t\t\t\t\n",
            "\t\t\t\t\t\n",
            "\t\t\t\t</span>\n",
            "</li>\n",
            "<li class=\"rank07\">\n",
            "<a href=\"/webtoon/detail?titleId=749632&amp;no=55\" onclick=\"nclk_v2(event,'rnk*p.cont','749632','7')\" title=\"파이게임-55화\">파이게임-55화</a>\n",
            "<span class=\"rankBox\">\n",
            "<img alt=\"순위상승\" height=\"10\" src=\"https://ssl.pstatic.net/static/comic/images/migration/common/arrow_up.gif\" title=\"순위상승\" width=\"7\"/>1\n",
            "\t\t\t\t\t\t\n",
            "\t\t\t\t\t\t\n",
            "\t\t\t\t\t\n",
            "\t\t\t\t</span>\n",
            "</li>\n",
            "<li class=\"rank08\">\n",
            "<a href=\"/webtoon/detail?titleId=703849&amp;no=144\" onclick=\"nclk_v2(event,'rnk*p.cont','703849','8')\" title=\"요리GO-시즌3. 37화 어죽\">요리GO-시즌3. 37화 어죽</a>\n",
            "<span class=\"rankBox\">\n",
            "<img alt=\"순위하락\" height=\"10\" src=\"https://ssl.pstatic.net/static/comic/images/migration/common/arrow_down.gif\" title=\"순위하락\" width=\"7\"/>1\n",
            "\t\t\t\t\t\t\n",
            "\t\t\t\t\t\t\n",
            "\t\t\t\t\t\t\n",
            "\t\t\t\t\t\n",
            "\t\t\t\t</span>\n",
            "</li>\n",
            "<li class=\"rank09\">\n",
            "<a href=\"/webtoon/detail?titleId=759940&amp;no=35\" onclick=\"nclk_v2(event,'rnk*p.cont','759940','9')\" title=\"만렙돌파-35화. 진입(2)\">만렙돌파-35화. 진입(2)</a>\n",
            "<span class=\"rankBox\">\n",
            "<img alt=\"변동없음\" height=\"10\" src=\"https://ssl.pstatic.net/static/comic/images/migration/common/arrow_no.gif\" title=\"변동없음\" width=\"7\"/> 0\n",
            "\t\t\t\t\t\t\n",
            "\t\t\t\t\t\n",
            "\t\t\t\t</span>\n",
            "</li>\n",
            "<li class=\"rank10\">\n",
            "<a href=\"/webtoon/detail?titleId=709731&amp;no=147\" onclick=\"nclk_v2(event,'rnk*p.cont','709731','10')\" title=\"유일무이 로맨스-147화\">유일무이 로맨스-147화</a>\n",
            "<span class=\"rankBox\">\n",
            "<img alt=\"변동없음\" height=\"10\" src=\"https://ssl.pstatic.net/static/comic/images/migration/common/arrow_no.gif\" title=\"변동없음\" width=\"7\"/> 0\n",
            "\t\t\t\t\t\t\n",
            "\t\t\t\t\t\n",
            "\t\t\t\t</span>\n",
            "</li>\n",
            "</ol>\n"
          ],
          "name": "stdout"
        }
      ]
    },
    {
      "cell_type": "code",
      "metadata": {
        "colab": {
          "base_uri": "https://localhost:8080/"
        },
        "id": "C-c58a5gJ4Wf",
        "outputId": "9f20e764-f33e-432a-87f1-ff5e1da2fb1d"
      },
      "source": [
        "print(rank1.parent.get_text())"
      ],
      "execution_count": 43,
      "outputs": [
        {
          "output_type": "stream",
          "text": [
            "\n",
            "\n",
            "참교육-38화\n",
            "\n",
            " 0\n",
            "\t\t\t\t\t\t\n",
            "\t\t\t\t\t\n",
            "\t\t\t\t\n",
            "\n",
            "\n",
            "신의 탑-3부 78화\n",
            "\n",
            " 0\n",
            "\t\t\t\t\t\t\n",
            "\t\t\t\t\t\n",
            "\t\t\t\t\n",
            "\n",
            "\n",
            "윈드브레이커-3부 - 121화 조자현 VS 노아\n",
            "\n",
            " 0\n",
            "\t\t\t\t\t\t\n",
            "\t\t\t\t\t\n",
            "\t\t\t\t\n",
            "\n",
            "\n",
            "백수세끼-84화 로제 떡볶이\n",
            "\n",
            " 0\n",
            "\t\t\t\t\t\t\n",
            "\t\t\t\t\t\n",
            "\t\t\t\t\n",
            "\n",
            "\n",
            "뷰티풀 군바리-299화_이동희 7\n",
            "\n",
            " 0\n",
            "\t\t\t\t\t\t\n",
            "\t\t\t\t\t\n",
            "\t\t\t\t\n",
            "\n",
            "\n",
            "삼매경-16화\n",
            "\n",
            " 0\n",
            "\t\t\t\t\t\t\n",
            "\t\t\t\t\t\n",
            "\t\t\t\t\n",
            "\n",
            "\n",
            "파이게임-55화\n",
            "\n",
            "1\n",
            "\t\t\t\t\t\t\n",
            "\t\t\t\t\t\t\n",
            "\t\t\t\t\t\n",
            "\t\t\t\t\n",
            "\n",
            "\n",
            "요리GO-시즌3. 37화 어죽\n",
            "\n",
            "1\n",
            "\t\t\t\t\t\t\n",
            "\t\t\t\t\t\t\n",
            "\t\t\t\t\t\t\n",
            "\t\t\t\t\t\n",
            "\t\t\t\t\n",
            "\n",
            "\n",
            "만렙돌파-35화. 진입(2)\n",
            "\n",
            " 0\n",
            "\t\t\t\t\t\t\n",
            "\t\t\t\t\t\n",
            "\t\t\t\t\n",
            "\n",
            "\n",
            "유일무이 로맨스-147화\n",
            "\n",
            " 0\n",
            "\t\t\t\t\t\t\n",
            "\t\t\t\t\t\n",
            "\t\t\t\t\n",
            "\n",
            "\n"
          ],
          "name": "stdout"
        }
      ]
    },
    {
      "cell_type": "code",
      "metadata": {
        "colab": {
          "base_uri": "https://localhost:8080/"
        },
        "id": "y89osgGWKDaj",
        "outputId": "b8f8f76c-7376-47f0-eb12-ca142a598eed"
      },
      "source": [
        "print(rank1.find_next_sibling(\"li\")) #li에 해당하는 태그만 찾기 "
      ],
      "execution_count": 45,
      "outputs": [
        {
          "output_type": "stream",
          "text": [
            "<li class=\"rank02\">\n",
            "<a href=\"/webtoon/detail?titleId=183559&amp;no=497\" onclick=\"nclk_v2(event,'rnk*p.cont','183559','2')\" title=\"신의 탑-3부 78화\">신의 탑-3부 78화</a>\n",
            "<span class=\"rankBox\">\n",
            "<img alt=\"변동없음\" height=\"10\" src=\"https://ssl.pstatic.net/static/comic/images/migration/common/arrow_no.gif\" title=\"변동없음\" width=\"7\"/> 0\n",
            "\t\t\t\t\t\t\n",
            "\t\t\t\t\t\n",
            "\t\t\t\t</span>\n",
            "</li>\n"
          ],
          "name": "stdout"
        }
      ]
    },
    {
      "cell_type": "markdown",
      "metadata": {
        "id": "T4PMKU7nLHZM"
      },
      "source": [
        "##siblings"
      ]
    },
    {
      "cell_type": "code",
      "metadata": {
        "colab": {
          "base_uri": "https://localhost:8080/"
        },
        "id": "dfK5QVM0KKh6",
        "outputId": "3345777f-8e81-4b28-e264-65793ef2bdb7"
      },
      "source": [
        "print(rank1.find_next_siblings(\"li\"))#s를 붙여주면 형제들 다데려옴"
      ],
      "execution_count": 46,
      "outputs": [
        {
          "output_type": "stream",
          "text": [
            "[<li class=\"rank02\">\n",
            "<a href=\"/webtoon/detail?titleId=183559&amp;no=497\" onclick=\"nclk_v2(event,'rnk*p.cont','183559','2')\" title=\"신의 탑-3부 78화\">신의 탑-3부 78화</a>\n",
            "<span class=\"rankBox\">\n",
            "<img alt=\"변동없음\" height=\"10\" src=\"https://ssl.pstatic.net/static/comic/images/migration/common/arrow_no.gif\" title=\"변동없음\" width=\"7\"/> 0\n",
            "\t\t\t\t\t\t\n",
            "\t\t\t\t\t\n",
            "\t\t\t\t</span>\n",
            "</li>, <li class=\"rank03\">\n",
            "<a href=\"/webtoon/detail?titleId=602910&amp;no=371\" onclick=\"nclk_v2(event,'rnk*p.cont','602910','3')\" title=\"윈드브레이커-3부 - 121화 조자현 VS 노아\">윈드브레이커-3부 - 121화 조자현 VS 노아</a>\n",
            "<span class=\"rankBox\">\n",
            "<img alt=\"변동없음\" height=\"10\" src=\"https://ssl.pstatic.net/static/comic/images/migration/common/arrow_no.gif\" title=\"변동없음\" width=\"7\"/> 0\n",
            "\t\t\t\t\t\t\n",
            "\t\t\t\t\t\n",
            "\t\t\t\t</span>\n",
            "</li>, <li class=\"rank04\">\n",
            "<a href=\"/webtoon/detail?titleId=733074&amp;no=84\" onclick=\"nclk_v2(event,'rnk*p.cont','733074','4')\" title=\"백수세끼-84화 로제 떡볶이\">백수세끼-84화 로제 떡볶이</a>\n",
            "<span class=\"rankBox\">\n",
            "<img alt=\"변동없음\" height=\"10\" src=\"https://ssl.pstatic.net/static/comic/images/migration/common/arrow_no.gif\" title=\"변동없음\" width=\"7\"/> 0\n",
            "\t\t\t\t\t\t\n",
            "\t\t\t\t\t\n",
            "\t\t\t\t</span>\n",
            "</li>, <li class=\"rank05\">\n",
            "<a href=\"/webtoon/detail?titleId=648419&amp;no=304\" onclick=\"nclk_v2(event,'rnk*p.cont','648419','5')\" title=\"뷰티풀 군바리-299화_이동희 7\">뷰티풀 군바리-299화_이동희 7</a>\n",
            "<span class=\"rankBox\">\n",
            "<img alt=\"변동없음\" height=\"10\" src=\"https://ssl.pstatic.net/static/comic/images/migration/common/arrow_no.gif\" title=\"변동없음\" width=\"7\"/> 0\n",
            "\t\t\t\t\t\t\n",
            "\t\t\t\t\t\n",
            "\t\t\t\t</span>\n",
            "</li>, <li class=\"rank06\">\n",
            "<a href=\"/webtoon/detail?titleId=769317&amp;no=16\" onclick=\"nclk_v2(event,'rnk*p.cont','769317','6')\" title=\"삼매경-16화\">삼매경-16화</a>\n",
            "<span class=\"rankBox\">\n",
            "<img alt=\"변동없음\" height=\"10\" src=\"https://ssl.pstatic.net/static/comic/images/migration/common/arrow_no.gif\" title=\"변동없음\" width=\"7\"/> 0\n",
            "\t\t\t\t\t\t\n",
            "\t\t\t\t\t\n",
            "\t\t\t\t</span>\n",
            "</li>, <li class=\"rank07\">\n",
            "<a href=\"/webtoon/detail?titleId=749632&amp;no=55\" onclick=\"nclk_v2(event,'rnk*p.cont','749632','7')\" title=\"파이게임-55화\">파이게임-55화</a>\n",
            "<span class=\"rankBox\">\n",
            "<img alt=\"순위상승\" height=\"10\" src=\"https://ssl.pstatic.net/static/comic/images/migration/common/arrow_up.gif\" title=\"순위상승\" width=\"7\"/>1\n",
            "\t\t\t\t\t\t\n",
            "\t\t\t\t\t\t\n",
            "\t\t\t\t\t\n",
            "\t\t\t\t</span>\n",
            "</li>, <li class=\"rank08\">\n",
            "<a href=\"/webtoon/detail?titleId=703849&amp;no=144\" onclick=\"nclk_v2(event,'rnk*p.cont','703849','8')\" title=\"요리GO-시즌3. 37화 어죽\">요리GO-시즌3. 37화 어죽</a>\n",
            "<span class=\"rankBox\">\n",
            "<img alt=\"순위하락\" height=\"10\" src=\"https://ssl.pstatic.net/static/comic/images/migration/common/arrow_down.gif\" title=\"순위하락\" width=\"7\"/>1\n",
            "\t\t\t\t\t\t\n",
            "\t\t\t\t\t\t\n",
            "\t\t\t\t\t\t\n",
            "\t\t\t\t\t\n",
            "\t\t\t\t</span>\n",
            "</li>, <li class=\"rank09\">\n",
            "<a href=\"/webtoon/detail?titleId=759940&amp;no=35\" onclick=\"nclk_v2(event,'rnk*p.cont','759940','9')\" title=\"만렙돌파-35화. 진입(2)\">만렙돌파-35화. 진입(2)</a>\n",
            "<span class=\"rankBox\">\n",
            "<img alt=\"변동없음\" height=\"10\" src=\"https://ssl.pstatic.net/static/comic/images/migration/common/arrow_no.gif\" title=\"변동없음\" width=\"7\"/> 0\n",
            "\t\t\t\t\t\t\n",
            "\t\t\t\t\t\n",
            "\t\t\t\t</span>\n",
            "</li>, <li class=\"rank10\">\n",
            "<a href=\"/webtoon/detail?titleId=709731&amp;no=147\" onclick=\"nclk_v2(event,'rnk*p.cont','709731','10')\" title=\"유일무이 로맨스-147화\">유일무이 로맨스-147화</a>\n",
            "<span class=\"rankBox\">\n",
            "<img alt=\"변동없음\" height=\"10\" src=\"https://ssl.pstatic.net/static/comic/images/migration/common/arrow_no.gif\" title=\"변동없음\" width=\"7\"/> 0\n",
            "\t\t\t\t\t\t\n",
            "\t\t\t\t\t\n",
            "\t\t\t\t</span>\n",
            "</li>]\n"
          ],
          "name": "stdout"
        }
      ]
    },
    {
      "cell_type": "code",
      "metadata": {
        "colab": {
          "base_uri": "https://localhost:8080/"
        },
        "id": "QA6iF61LNRSY",
        "outputId": "53a52aa0-0008-4bf0-f853-5577042d16ba"
      },
      "source": [
        "webtoon = soup.find(\"a\")\n",
        "print(webtoon)"
      ],
      "execution_count": 48,
      "outputs": [
        {
          "output_type": "stream",
          "text": [
            "<a href=\"#menu\" onclick=\"document.getElementById('menu').tabIndex=-1;document.getElementById('menu').focus();return false;\"><span>메인 메뉴로 바로가기</span></a>\n"
          ],
          "name": "stdout"
        }
      ]
    }
  ]
}