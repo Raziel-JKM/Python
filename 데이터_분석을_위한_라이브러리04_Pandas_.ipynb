{
  "nbformat": 4,
  "nbformat_minor": 0,
  "metadata": {
    "colab": {
      "name": "데이터 분석을 위한 라이브러리04 Pandas .ipynb",
      "provenance": [],
      "authorship_tag": "ABX9TyNS22hT/GmLtr8LZjWnjAHB",
      "include_colab_link": true
    },
    "kernelspec": {
      "name": "python3",
      "display_name": "Python 3"
    },
    "language_info": {
      "name": "python"
    }
  },
  "cells": [
    {
      "cell_type": "markdown",
      "metadata": {
        "id": "view-in-github",
        "colab_type": "text"
      },
      "source": [
        "<a href=\"https://colab.research.google.com/github/Raziel-JKM/Python/blob/python/%EB%8D%B0%EC%9D%B4%ED%84%B0_%EB%B6%84%EC%84%9D%EC%9D%84_%EC%9C%84%ED%95%9C_%EB%9D%BC%EC%9D%B4%EB%B8%8C%EB%9F%AC%EB%A6%AC04_Pandas_.ipynb\" target=\"_parent\"><img src=\"https://colab.research.google.com/assets/colab-badge.svg\" alt=\"Open In Colab\"/></a>"
      ]
    },
    {
      "cell_type": "markdown",
      "metadata": {
        "id": "kJswnBYqFhQp"
      },
      "source": [
        "데이터 프레임 정렬하기"
      ]
    },
    {
      "cell_type": "code",
      "metadata": {
        "id": "tTijwctrEFrl"
      },
      "source": [
        "df = df.sort_indax(axis = 0) #인덱스 값을 기준으로 정렬"
      ],
      "execution_count": null,
      "outputs": []
    },
    {
      "cell_type": "code",
      "metadata": {
        "id": "8QxGMBwLEjEZ"
      },
      "source": [
        "df = df.sort_indax(axis = 1, ascending = False) #False - 내림차순으로 정렬"
      ],
      "execution_count": null,
      "outputs": []
    },
    {
      "cell_type": "code",
      "metadata": {
        "id": "tgo_6rj1Enik"
      },
      "source": [
        "df.sort_values('col1', ascending = True ) #컬럼 기준으로 오름차순 #_values임을 주의"
      ],
      "execution_count": null,
      "outputs": []
    },
    {
      "cell_type": "code",
      "metadata": {
        "id": "2FLcYiTQFN-y"
      },
      "source": [
        "df.sort_values('col1', ascending = False ) # 컬럼 기준으로 내림차순"
      ],
      "execution_count": null,
      "outputs": []
    },
    {
      "cell_type": "code",
      "metadata": {
        "id": "-qvAl_BNFl9r"
      },
      "source": [
        "df.sort_values('col1','col2', ascending = [True, False]) # col1,col2순으로 정렬하고 / col1은 오름차순, col2는 내림차순으로 정렬 / 각각따로 적용가능"
      ],
      "execution_count": null,
      "outputs": []
    },
    {
      "cell_type": "markdown",
      "metadata": {
        "id": "xXGCiL0rGPP5"
      },
      "source": [
        "[실습1] 데이터프레임 정렬하기"
      ]
    },
    {
      "cell_type": "code",
      "metadata": {
        "colab": {
          "base_uri": "https://localhost:8080/"
        },
        "id": "l1JX6Cu4GOdF",
        "outputId": "1723ba83-e91d-4a57-a657-bb2139fb487a"
      },
      "source": [
        "import numpy as np\n",
        "import pandas as pd\n",
        "\n",
        "print(\"DataFrame: \")\n",
        "df = pd.DataFrame({\n",
        "    'col1' : [2, 1, 9, 8, 7, 4],\n",
        "    'col2' : ['A', 'A', 'B', np.nan, 'D', 'C'],\n",
        "    'col3': [0, 1, 9, 4, 2, 3],\n",
        "})\n",
        "print(df, \"\\n\")"
      ],
      "execution_count": 3,
      "outputs": [
        {
          "output_type": "stream",
          "text": [
            "DataFrame: \n",
            "   col1 col2  col3\n",
            "0     2    A     0\n",
            "1     1    A     1\n",
            "2     9    B     9\n",
            "3     8  NaN     4\n",
            "4     7    D     2\n",
            "5     4    C     3 \n",
            "\n"
          ],
          "name": "stdout"
        }
      ]
    },
    {
      "cell_type": "markdown",
      "metadata": {
        "id": "q9uUZAaqGW79"
      },
      "source": [
        "\n",
        "\n",
        "# 정렬 코드 입력해보기    \n",
        "# 1. col1을 기준으로 오름차순으로 정렬하기.\n",
        "\n",
        "# 2. col2를 기준으로 내림차순으로 정렬하기.\n",
        "\n",
        "# 3. col2를 기준으로 오름차순으로, col1를 기준으로 내림차순으로 정렬하기."
      ]
    },
    {
      "cell_type": "code",
      "metadata": {
        "colab": {
          "base_uri": "https://localhost:8080/"
        },
        "id": "oNAwS-n8GaVM",
        "outputId": "b1ce3e83-939f-442a-d023-34a051f99f6d"
      },
      "source": [
        "sorted_df1 = df.sort_values('col1',ascending=True)\n",
        "print(sorted_df1)"
      ],
      "execution_count": 8,
      "outputs": [
        {
          "output_type": "stream",
          "text": [
            "   col1 col2  col3\n",
            "1     1    A     1\n",
            "0     2    A     0\n",
            "5     4    C     3\n",
            "4     7    D     2\n",
            "3     8  NaN     4\n",
            "2     9    B     9\n"
          ],
          "name": "stdout"
        }
      ]
    },
    {
      "cell_type": "code",
      "metadata": {
        "colab": {
          "base_uri": "https://localhost:8080/"
        },
        "id": "1QrbrXQKGm3N",
        "outputId": "35790221-0723-47a2-d525-6960190958f9"
      },
      "source": [
        "sorted_df2 = df.sort_values('col2',ascending=False)\n",
        "print(sorted_df2)"
      ],
      "execution_count": 9,
      "outputs": [
        {
          "output_type": "stream",
          "text": [
            "   col1 col2  col3\n",
            "4     7    D     2\n",
            "5     4    C     3\n",
            "2     9    B     9\n",
            "0     2    A     0\n",
            "1     1    A     1\n",
            "3     8  NaN     4\n"
          ],
          "name": "stdout"
        }
      ]
    },
    {
      "cell_type": "code",
      "metadata": {
        "colab": {
          "base_uri": "https://localhost:8080/"
        },
        "id": "QmHhe7wnH3vc",
        "outputId": "0988737f-d887-434a-9903-ffabff0263c1"
      },
      "source": [
        "sorted_df3 = df.sort_values(['col2','col2'],ascending=[ True,False])\n",
        "print(sorted_df3)"
      ],
      "execution_count": 11,
      "outputs": [
        {
          "output_type": "stream",
          "text": [
            "   col1 col2  col3\n",
            "0     2    A     0\n",
            "1     1    A     1\n",
            "2     9    B     9\n",
            "5     4    C     3\n",
            "4     7    D     2\n",
            "3     8  NaN     4\n"
          ],
          "name": "stdout"
        }
      ]
    },
    {
      "cell_type": "markdown",
      "metadata": {
        "id": "XWZy1VTaImtf"
      },
      "source": [
        "\n",
        "\n",
        "---\n",
        "데이터프레임 분석용 함수\n",
        "\n",
        "집계함수 count, max min sum\n"
      ]
    },
    {
      "cell_type": "code",
      "metadata": {
        "colab": {
          "base_uri": "https://localhost:8080/"
        },
        "id": "xcRZHZk0IDsM",
        "outputId": "22e77c4c-fa6a-4674-8a3a-02ec5ab6c9d6"
      },
      "source": [
        "data = {\n",
        "    'korea':[50,60,70],\n",
        "    'math':[10,np.nan, 40]\n",
        "}\n",
        "\n",
        "df= pd.DataFrame(data, index = ['a','b','c'])\n",
        "df.count(axis = 0) #열 기준\n",
        "df.count(axis = 1) #행 기준"
      ],
      "execution_count": 12,
      "outputs": [
        {
          "output_type": "execute_result",
          "data": {
            "text/plain": [
              "a    2\n",
              "b    1\n",
              "c    2\n",
              "dtype: int64"
            ]
          },
          "metadata": {
            "tags": []
          },
          "execution_count": 12
        }
      ]
    },
    {
      "cell_type": "code",
      "metadata": {
        "colab": {
          "base_uri": "https://localhost:8080/"
        },
        "id": "vkW-STkGJSe7",
        "outputId": "584b2423-e340-48de-ae35-16b5dff6ec16"
      },
      "source": [
        "df.max() # 최댓값\n",
        "df.min() # 최솟값"
      ],
      "execution_count": 13,
      "outputs": [
        {
          "output_type": "execute_result",
          "data": {
            "text/plain": [
              "korea    50.0\n",
              "math     10.0\n",
              "dtype: float64"
            ]
          },
          "metadata": {
            "tags": []
          },
          "execution_count": 13
        }
      ]
    },
    {
      "cell_type": "code",
      "metadata": {
        "colab": {
          "base_uri": "https://localhost:8080/"
        },
        "id": "4fp6rlsuJuVQ",
        "outputId": "4a2cc1d6-a3c0-4341-caf4-5346ead7530c"
      },
      "source": [
        "df.sum() # 합계\n",
        "df.mean() # 평균"
      ],
      "execution_count": 14,
      "outputs": [
        {
          "output_type": "execute_result",
          "data": {
            "text/plain": [
              "korea    60.0\n",
              "math     25.0\n",
              "dtype: float64"
            ]
          },
          "metadata": {
            "tags": []
          },
          "execution_count": 14
        }
      ]
    },
    {
      "cell_type": "code",
      "metadata": {
        "colab": {
          "base_uri": "https://localhost:8080/"
        },
        "id": "Z2PvwWsoJ9I7",
        "outputId": "2c906deb-8386-43e5-d340-2363f17121ac"
      },
      "source": [
        "df.sum(axis=1)\n",
        "df.mean(axis=1 , skipna= True) #(60+nan)/2 = nan -> skipna는 nan값 무시"
      ],
      "execution_count": 19,
      "outputs": [
        {
          "output_type": "execute_result",
          "data": {
            "text/plain": [
              "a    30.0\n",
              "b    60.0\n",
              "c    55.0\n",
              "dtype: float64"
            ]
          },
          "metadata": {
            "tags": []
          },
          "execution_count": 19
        }
      ]
    },
    {
      "cell_type": "markdown",
      "metadata": {
        "id": "7fbE27pSKweN"
      },
      "source": [
        "NaN값이 존재하는 column의 평균 구하여 Nan값 대체"
      ]
    },
    {
      "cell_type": "code",
      "metadata": {
        "colab": {
          "base_uri": "https://localhost:8080/"
        },
        "id": "xmYcKEfYKVM7",
        "outputId": "9c99ed85-db93-4a8b-a9be-0cee1c7d4539"
      },
      "source": [
        "B_avg = df['math'].mean()\n",
        "print(B_avg)"
      ],
      "execution_count": 21,
      "outputs": [
        {
          "output_type": "stream",
          "text": [
            "25.0\n"
          ],
          "name": "stdout"
        }
      ]
    },
    {
      "cell_type": "code",
      "metadata": {
        "colab": {
          "base_uri": "https://localhost:8080/"
        },
        "id": "tJxS9RX_LBgt",
        "outputId": "41196b31-3aa7-4725-d354-1addc67b49e1"
      },
      "source": [
        "df['math'] = df['math'].fillna(B_avg) #df의 math 컬럼의 NaN값 대체\n",
        "print(B_avg)"
      ],
      "execution_count": 31,
      "outputs": [
        {
          "output_type": "stream",
          "text": [
            "a    10.0\n",
            "b    25.0\n",
            "c    40.0\n",
            "Name: math, dtype: float64\n"
          ],
          "name": "stdout"
        }
      ]
    },
    {
      "cell_type": "code",
      "metadata": {
        "colab": {
          "base_uri": "https://localhost:8080/"
        },
        "id": "RixZdmsyLM0v",
        "outputId": "76344f38-f238-41fc-d8b7-2147193ada46"
      },
      "source": [
        "# 대체 후 평균\n",
        "df.mean(axis=1, skipna=False)"
      ],
      "execution_count": 32,
      "outputs": [
        {
          "output_type": "execute_result",
          "data": {
            "text/plain": [
              "a    30.0\n",
              "b    42.5\n",
              "c    55.0\n",
              "dtype: float64"
            ]
          },
          "metadata": {
            "tags": []
          },
          "execution_count": 32
        }
      ]
    },
    {
      "cell_type": "markdown",
      "metadata": {
        "id": "C0hCaB3dMM7Q"
      },
      "source": [
        "실습]집계함수"
      ]
    },
    {
      "cell_type": "code",
      "metadata": {
        "colab": {
          "base_uri": "https://localhost:8080/"
        },
        "id": "9rzgh3leLzMX",
        "outputId": "b7f19552-9706-4d6c-c44a-19d2102a4d77"
      },
      "source": [
        "import numpy as np\n",
        "import pandas as pd\n",
        "\n",
        "data = {\n",
        "    'korean' : [50, 60, 70],\n",
        "    'math' : [10, np.nan, 40]\n",
        "}\n",
        "df = pd.DataFrame(data, index = ['a','b','c'])\n",
        "print(df, \"\\n\")\n",
        "\n",
        "# 각 컬럼별 데이터 개수\n",
        "col_num = df.count(axis=0) #컬럼별이니 axis=0 필요\n",
        "print(col_num, \"\\n\")\n",
        "\n",
        "# 각 행별 데이터 개수\n",
        "row_num = df.count(axis=1)\n",
        "print(row_num, \"\\n\")\n",
        "\n",
        "# 각 컬럼별 최댓값\n",
        "col_max = df.max()\n",
        "print(col_max, \"\\n\")\n",
        "\n",
        "# 각 컬럼별 최솟값\n",
        "col_min = df.min()\n",
        "print(col_min, \"\\n\")\n",
        "\n",
        "# 각 컬럼별 합계\n",
        "col_sum = df.sum()\n",
        "print(col_sum, \"\\n\")\n",
        "\n",
        "# 컬럼의 최솟값으로 NaN값 대체\n",
        "math_min = df['math'].min()\n",
        "df['math'] = df['math'].fillna(math_min)\n",
        "print(df, \"\\n\")\n",
        "\n",
        "# 각 컬럼별 평균\n",
        "col_avg = df.mean()\n",
        "print(col_avg, \"\\n\")\n"
      ],
      "execution_count": 39,
      "outputs": [
        {
          "output_type": "stream",
          "text": [
            "   korean  math\n",
            "a      50  10.0\n",
            "b      60   NaN\n",
            "c      70  40.0 \n",
            "\n",
            "korean    3\n",
            "math      2\n",
            "dtype: int64 \n",
            "\n",
            "a    2\n",
            "b    1\n",
            "c    2\n",
            "dtype: int64 \n",
            "\n",
            "korean    70.0\n",
            "math      40.0\n",
            "dtype: float64 \n",
            "\n",
            "korean    50.0\n",
            "math      10.0\n",
            "dtype: float64 \n",
            "\n",
            "korean    180.0\n",
            "math       50.0\n",
            "dtype: float64 \n",
            "\n",
            "   korean  math\n",
            "a      50  10.0\n",
            "b      60  10.0\n",
            "c      70  40.0 \n",
            "\n",
            "korean    60.0\n",
            "math      20.0\n",
            "dtype: float64 \n",
            "\n"
          ],
          "name": "stdout"
        }
      ]
    },
    {
      "cell_type": "markdown",
      "metadata": {
        "id": "O4_ZMEI7OHNS"
      },
      "source": [
        "03 그룹으로 묶기 group by"
      ]
    },
    {
      "cell_type": "code",
      "metadata": {
        "colab": {
          "base_uri": "https://localhost:8080/",
          "height": 236
        },
        "id": "PpJIm1qQMb_o",
        "outputId": "7e99b24c-c96c-4bf7-db9a-3ce8da8440fd"
      },
      "source": [
        "df = pd.DataFrame({\n",
        "    'data1': range(6),\n",
        "    'data2': [4,4,6,0,6,1],\n",
        "    'key':['A','B','C','A','B','C']\n",
        "    })\n",
        "df"
      ],
      "execution_count": 42,
      "outputs": [
        {
          "output_type": "execute_result",
          "data": {
            "text/html": [
              "<div>\n",
              "<style scoped>\n",
              "    .dataframe tbody tr th:only-of-type {\n",
              "        vertical-align: middle;\n",
              "    }\n",
              "\n",
              "    .dataframe tbody tr th {\n",
              "        vertical-align: top;\n",
              "    }\n",
              "\n",
              "    .dataframe thead th {\n",
              "        text-align: right;\n",
              "    }\n",
              "</style>\n",
              "<table border=\"1\" class=\"dataframe\">\n",
              "  <thead>\n",
              "    <tr style=\"text-align: right;\">\n",
              "      <th></th>\n",
              "      <th>data1</th>\n",
              "      <th>data2</th>\n",
              "      <th>key</th>\n",
              "    </tr>\n",
              "  </thead>\n",
              "  <tbody>\n",
              "    <tr>\n",
              "      <th>0</th>\n",
              "      <td>0</td>\n",
              "      <td>4</td>\n",
              "      <td>A</td>\n",
              "    </tr>\n",
              "    <tr>\n",
              "      <th>1</th>\n",
              "      <td>1</td>\n",
              "      <td>4</td>\n",
              "      <td>B</td>\n",
              "    </tr>\n",
              "    <tr>\n",
              "      <th>2</th>\n",
              "      <td>2</td>\n",
              "      <td>6</td>\n",
              "      <td>C</td>\n",
              "    </tr>\n",
              "    <tr>\n",
              "      <th>3</th>\n",
              "      <td>3</td>\n",
              "      <td>0</td>\n",
              "      <td>A</td>\n",
              "    </tr>\n",
              "    <tr>\n",
              "      <th>4</th>\n",
              "      <td>4</td>\n",
              "      <td>6</td>\n",
              "      <td>B</td>\n",
              "    </tr>\n",
              "    <tr>\n",
              "      <th>5</th>\n",
              "      <td>5</td>\n",
              "      <td>1</td>\n",
              "      <td>C</td>\n",
              "    </tr>\n",
              "  </tbody>\n",
              "</table>\n",
              "</div>"
            ],
            "text/plain": [
              "   data1  data2 key\n",
              "0      0      4   A\n",
              "1      1      4   B\n",
              "2      2      6   C\n",
              "3      3      0   A\n",
              "4      4      6   B\n",
              "5      5      1   C"
            ]
          },
          "metadata": {
            "tags": []
          },
          "execution_count": 42
        }
      ]
    },
    {
      "cell_type": "code",
      "metadata": {
        "colab": {
          "base_uri": "https://localhost:8080/",
          "height": 175
        },
        "id": "1P1kjWEIOuC-",
        "outputId": "e7115d26-c4b4-4d78-b10f-e402467ba90f"
      },
      "source": [
        "df.groupby('key').sum()#1번"
      ],
      "execution_count": 44,
      "outputs": [
        {
          "output_type": "execute_result",
          "data": {
            "text/html": [
              "<div>\n",
              "<style scoped>\n",
              "    .dataframe tbody tr th:only-of-type {\n",
              "        vertical-align: middle;\n",
              "    }\n",
              "\n",
              "    .dataframe tbody tr th {\n",
              "        vertical-align: top;\n",
              "    }\n",
              "\n",
              "    .dataframe thead th {\n",
              "        text-align: right;\n",
              "    }\n",
              "</style>\n",
              "<table border=\"1\" class=\"dataframe\">\n",
              "  <thead>\n",
              "    <tr style=\"text-align: right;\">\n",
              "      <th></th>\n",
              "      <th>data1</th>\n",
              "      <th>data2</th>\n",
              "    </tr>\n",
              "    <tr>\n",
              "      <th>key</th>\n",
              "      <th></th>\n",
              "      <th></th>\n",
              "    </tr>\n",
              "  </thead>\n",
              "  <tbody>\n",
              "    <tr>\n",
              "      <th>A</th>\n",
              "      <td>3</td>\n",
              "      <td>4</td>\n",
              "    </tr>\n",
              "    <tr>\n",
              "      <th>B</th>\n",
              "      <td>5</td>\n",
              "      <td>10</td>\n",
              "    </tr>\n",
              "    <tr>\n",
              "      <th>C</th>\n",
              "      <td>7</td>\n",
              "      <td>7</td>\n",
              "    </tr>\n",
              "  </tbody>\n",
              "</table>\n",
              "</div>"
            ],
            "text/plain": [
              "     data1  data2\n",
              "key              \n",
              "A        3      4\n",
              "B        5     10\n",
              "C        7      7"
            ]
          },
          "metadata": {
            "tags": []
          },
          "execution_count": 44
        }
      ]
    },
    {
      "cell_type": "code",
      "metadata": {
        "colab": {
          "base_uri": "https://localhost:8080/",
          "height": 268
        },
        "id": "J_6ujkHqO0eu",
        "outputId": "52886f06-b96c-46d0-cd83-eb009a339b17"
      },
      "source": [
        "df.groupby(['key','data1']).sum()"
      ],
      "execution_count": 45,
      "outputs": [
        {
          "output_type": "execute_result",
          "data": {
            "text/html": [
              "<div>\n",
              "<style scoped>\n",
              "    .dataframe tbody tr th:only-of-type {\n",
              "        vertical-align: middle;\n",
              "    }\n",
              "\n",
              "    .dataframe tbody tr th {\n",
              "        vertical-align: top;\n",
              "    }\n",
              "\n",
              "    .dataframe thead th {\n",
              "        text-align: right;\n",
              "    }\n",
              "</style>\n",
              "<table border=\"1\" class=\"dataframe\">\n",
              "  <thead>\n",
              "    <tr style=\"text-align: right;\">\n",
              "      <th></th>\n",
              "      <th></th>\n",
              "      <th>data2</th>\n",
              "    </tr>\n",
              "    <tr>\n",
              "      <th>key</th>\n",
              "      <th>data1</th>\n",
              "      <th></th>\n",
              "    </tr>\n",
              "  </thead>\n",
              "  <tbody>\n",
              "    <tr>\n",
              "      <th rowspan=\"2\" valign=\"top\">A</th>\n",
              "      <th>0</th>\n",
              "      <td>4</td>\n",
              "    </tr>\n",
              "    <tr>\n",
              "      <th>3</th>\n",
              "      <td>0</td>\n",
              "    </tr>\n",
              "    <tr>\n",
              "      <th rowspan=\"2\" valign=\"top\">B</th>\n",
              "      <th>1</th>\n",
              "      <td>4</td>\n",
              "    </tr>\n",
              "    <tr>\n",
              "      <th>4</th>\n",
              "      <td>6</td>\n",
              "    </tr>\n",
              "    <tr>\n",
              "      <th rowspan=\"2\" valign=\"top\">C</th>\n",
              "      <th>2</th>\n",
              "      <td>6</td>\n",
              "    </tr>\n",
              "    <tr>\n",
              "      <th>5</th>\n",
              "      <td>1</td>\n",
              "    </tr>\n",
              "  </tbody>\n",
              "</table>\n",
              "</div>"
            ],
            "text/plain": [
              "           data2\n",
              "key data1       \n",
              "A   0          4\n",
              "    3          0\n",
              "B   1          4\n",
              "    4          6\n",
              "C   2          6\n",
              "    5          1"
            ]
          },
          "metadata": {
            "tags": []
          },
          "execution_count": 45
        }
      ]
    },
    {
      "cell_type": "code",
      "metadata": {
        "colab": {
          "base_uri": "https://localhost:8080/",
          "height": 236
        },
        "id": "6fTzPyG_QMv4",
        "outputId": "aabb14d8-581e-4f16-bc1c-b7ede54ab003"
      },
      "source": [
        "df"
      ],
      "execution_count": 48,
      "outputs": [
        {
          "output_type": "execute_result",
          "data": {
            "text/html": [
              "<div>\n",
              "<style scoped>\n",
              "    .dataframe tbody tr th:only-of-type {\n",
              "        vertical-align: middle;\n",
              "    }\n",
              "\n",
              "    .dataframe tbody tr th {\n",
              "        vertical-align: top;\n",
              "    }\n",
              "\n",
              "    .dataframe thead th {\n",
              "        text-align: right;\n",
              "    }\n",
              "</style>\n",
              "<table border=\"1\" class=\"dataframe\">\n",
              "  <thead>\n",
              "    <tr style=\"text-align: right;\">\n",
              "      <th></th>\n",
              "      <th>data1</th>\n",
              "      <th>data2</th>\n",
              "      <th>key</th>\n",
              "    </tr>\n",
              "  </thead>\n",
              "  <tbody>\n",
              "    <tr>\n",
              "      <th>0</th>\n",
              "      <td>0</td>\n",
              "      <td>4</td>\n",
              "      <td>A</td>\n",
              "    </tr>\n",
              "    <tr>\n",
              "      <th>1</th>\n",
              "      <td>1</td>\n",
              "      <td>4</td>\n",
              "      <td>B</td>\n",
              "    </tr>\n",
              "    <tr>\n",
              "      <th>2</th>\n",
              "      <td>2</td>\n",
              "      <td>6</td>\n",
              "      <td>C</td>\n",
              "    </tr>\n",
              "    <tr>\n",
              "      <th>3</th>\n",
              "      <td>3</td>\n",
              "      <td>0</td>\n",
              "      <td>A</td>\n",
              "    </tr>\n",
              "    <tr>\n",
              "      <th>4</th>\n",
              "      <td>4</td>\n",
              "      <td>6</td>\n",
              "      <td>B</td>\n",
              "    </tr>\n",
              "    <tr>\n",
              "      <th>5</th>\n",
              "      <td>5</td>\n",
              "      <td>1</td>\n",
              "      <td>C</td>\n",
              "    </tr>\n",
              "  </tbody>\n",
              "</table>\n",
              "</div>"
            ],
            "text/plain": [
              "   data1  data2 key\n",
              "0      0      4   A\n",
              "1      1      4   B\n",
              "2      2      6   C\n",
              "3      3      0   A\n",
              "4      4      6   B\n",
              "5      5      1   C"
            ]
          },
          "metadata": {
            "tags": []
          },
          "execution_count": 48
        }
      ]
    },
    {
      "cell_type": "code",
      "metadata": {
        "colab": {
          "base_uri": "https://localhost:8080/",
          "height": 205
        },
        "id": "LuPKv6UBPCR3",
        "outputId": "f3510d69-2c59-4bd7-f233-313b7c3e8079"
      },
      "source": [
        "#groupby를 통해서 집계를 한번에 계산하는 방법\n",
        "df.groupby('key').aggregate(['min', np.median, max])  #먼저 key 로 그룹바이 후,  data1,data2 각각 3개 적용 "
      ],
      "execution_count": 47,
      "outputs": [
        {
          "output_type": "execute_result",
          "data": {
            "text/html": [
              "<div>\n",
              "<style scoped>\n",
              "    .dataframe tbody tr th:only-of-type {\n",
              "        vertical-align: middle;\n",
              "    }\n",
              "\n",
              "    .dataframe tbody tr th {\n",
              "        vertical-align: top;\n",
              "    }\n",
              "\n",
              "    .dataframe thead tr th {\n",
              "        text-align: left;\n",
              "    }\n",
              "\n",
              "    .dataframe thead tr:last-of-type th {\n",
              "        text-align: right;\n",
              "    }\n",
              "</style>\n",
              "<table border=\"1\" class=\"dataframe\">\n",
              "  <thead>\n",
              "    <tr>\n",
              "      <th></th>\n",
              "      <th colspan=\"3\" halign=\"left\">data1</th>\n",
              "      <th colspan=\"3\" halign=\"left\">data2</th>\n",
              "    </tr>\n",
              "    <tr>\n",
              "      <th></th>\n",
              "      <th>min</th>\n",
              "      <th>median</th>\n",
              "      <th>max</th>\n",
              "      <th>min</th>\n",
              "      <th>median</th>\n",
              "      <th>max</th>\n",
              "    </tr>\n",
              "    <tr>\n",
              "      <th>key</th>\n",
              "      <th></th>\n",
              "      <th></th>\n",
              "      <th></th>\n",
              "      <th></th>\n",
              "      <th></th>\n",
              "      <th></th>\n",
              "    </tr>\n",
              "  </thead>\n",
              "  <tbody>\n",
              "    <tr>\n",
              "      <th>A</th>\n",
              "      <td>0</td>\n",
              "      <td>1.5</td>\n",
              "      <td>3</td>\n",
              "      <td>0</td>\n",
              "      <td>2.0</td>\n",
              "      <td>4</td>\n",
              "    </tr>\n",
              "    <tr>\n",
              "      <th>B</th>\n",
              "      <td>1</td>\n",
              "      <td>2.5</td>\n",
              "      <td>4</td>\n",
              "      <td>4</td>\n",
              "      <td>5.0</td>\n",
              "      <td>6</td>\n",
              "    </tr>\n",
              "    <tr>\n",
              "      <th>C</th>\n",
              "      <td>2</td>\n",
              "      <td>3.5</td>\n",
              "      <td>5</td>\n",
              "      <td>1</td>\n",
              "      <td>3.5</td>\n",
              "      <td>6</td>\n",
              "    </tr>\n",
              "  </tbody>\n",
              "</table>\n",
              "</div>"
            ],
            "text/plain": [
              "    data1            data2           \n",
              "      min median max   min median max\n",
              "key                                  \n",
              "A       0    1.5   3     0    2.0   4\n",
              "B       1    2.5   4     4    5.0   6\n",
              "C       2    3.5   5     1    3.5   6"
            ]
          },
          "metadata": {
            "tags": []
          },
          "execution_count": 47
        }
      ]
    },
    {
      "cell_type": "code",
      "metadata": {
        "colab": {
          "base_uri": "https://localhost:8080/",
          "height": 175
        },
        "id": "Phkfqe2GQFJk",
        "outputId": "c7b1ea04-e5e7-4458-fe9e-e10fe6003bd0"
      },
      "source": [
        "df.groupby('key').aggregate({'data1': 'min', 'data2': np.sum}) # 주의하기 ##먼저 key 로 그룹바이 후,"
      ],
      "execution_count": 50,
      "outputs": [
        {
          "output_type": "execute_result",
          "data": {
            "text/html": [
              "<div>\n",
              "<style scoped>\n",
              "    .dataframe tbody tr th:only-of-type {\n",
              "        vertical-align: middle;\n",
              "    }\n",
              "\n",
              "    .dataframe tbody tr th {\n",
              "        vertical-align: top;\n",
              "    }\n",
              "\n",
              "    .dataframe thead th {\n",
              "        text-align: right;\n",
              "    }\n",
              "</style>\n",
              "<table border=\"1\" class=\"dataframe\">\n",
              "  <thead>\n",
              "    <tr style=\"text-align: right;\">\n",
              "      <th></th>\n",
              "      <th>data1</th>\n",
              "      <th>data2</th>\n",
              "    </tr>\n",
              "    <tr>\n",
              "      <th>key</th>\n",
              "      <th></th>\n",
              "      <th></th>\n",
              "    </tr>\n",
              "  </thead>\n",
              "  <tbody>\n",
              "    <tr>\n",
              "      <th>A</th>\n",
              "      <td>0</td>\n",
              "      <td>4</td>\n",
              "    </tr>\n",
              "    <tr>\n",
              "      <th>B</th>\n",
              "      <td>1</td>\n",
              "      <td>10</td>\n",
              "    </tr>\n",
              "    <tr>\n",
              "      <th>C</th>\n",
              "      <td>2</td>\n",
              "      <td>7</td>\n",
              "    </tr>\n",
              "  </tbody>\n",
              "</table>\n",
              "</div>"
            ],
            "text/plain": [
              "     data1  data2\n",
              "key              \n",
              "A        0      4\n",
              "B        1     10\n",
              "C        2      7"
            ]
          },
          "metadata": {
            "tags": []
          },
          "execution_count": 50
        }
      ]
    },
    {
      "cell_type": "markdown",
      "metadata": {
        "id": "FeOFj49SRoUW"
      },
      "source": [
        ""
      ]
    },
    {
      "cell_type": "code",
      "metadata": {
        "id": "w-JzocIRQeip"
      },
      "source": [
        "#groupby를 통해서 그룹 속성을 기준으로 데이터 필터링\n",
        "def filter_by_mean(x):\n",
        "    return x['data2'].mean()>3"
      ],
      "execution_count": 53,
      "outputs": []
    },
    {
      "cell_type": "code",
      "metadata": {
        "colab": {
          "base_uri": "https://localhost:8080/",
          "height": 175
        },
        "id": "lrcMoCJQSH6T",
        "outputId": "024e0999-3721-4c86-b964-acbe7f63cbfd"
      },
      "source": [
        "df.groupby('key').mean()"
      ],
      "execution_count": 54,
      "outputs": [
        {
          "output_type": "execute_result",
          "data": {
            "text/html": [
              "<div>\n",
              "<style scoped>\n",
              "    .dataframe tbody tr th:only-of-type {\n",
              "        vertical-align: middle;\n",
              "    }\n",
              "\n",
              "    .dataframe tbody tr th {\n",
              "        vertical-align: top;\n",
              "    }\n",
              "\n",
              "    .dataframe thead th {\n",
              "        text-align: right;\n",
              "    }\n",
              "</style>\n",
              "<table border=\"1\" class=\"dataframe\">\n",
              "  <thead>\n",
              "    <tr style=\"text-align: right;\">\n",
              "      <th></th>\n",
              "      <th>data1</th>\n",
              "      <th>data2</th>\n",
              "    </tr>\n",
              "    <tr>\n",
              "      <th>key</th>\n",
              "      <th></th>\n",
              "      <th></th>\n",
              "    </tr>\n",
              "  </thead>\n",
              "  <tbody>\n",
              "    <tr>\n",
              "      <th>A</th>\n",
              "      <td>1.5</td>\n",
              "      <td>2.0</td>\n",
              "    </tr>\n",
              "    <tr>\n",
              "      <th>B</th>\n",
              "      <td>2.5</td>\n",
              "      <td>5.0</td>\n",
              "    </tr>\n",
              "    <tr>\n",
              "      <th>C</th>\n",
              "      <td>3.5</td>\n",
              "      <td>3.5</td>\n",
              "    </tr>\n",
              "  </tbody>\n",
              "</table>\n",
              "</div>"
            ],
            "text/plain": [
              "     data1  data2\n",
              "key              \n",
              "A      1.5    2.0\n",
              "B      2.5    5.0\n",
              "C      3.5    3.5"
            ]
          },
          "metadata": {
            "tags": []
          },
          "execution_count": 54
        }
      ]
    },
    {
      "cell_type": "code",
      "metadata": {
        "colab": {
          "base_uri": "https://localhost:8080/",
          "height": 175
        },
        "id": "-OVp76gCSLCm",
        "outputId": "3875cd50-070c-449b-e4b7-bd039a2ab092"
      },
      "source": [
        "df.groupby('key').filter(filter_by_mean)"
      ],
      "execution_count": 55,
      "outputs": [
        {
          "output_type": "execute_result",
          "data": {
            "text/html": [
              "<div>\n",
              "<style scoped>\n",
              "    .dataframe tbody tr th:only-of-type {\n",
              "        vertical-align: middle;\n",
              "    }\n",
              "\n",
              "    .dataframe tbody tr th {\n",
              "        vertical-align: top;\n",
              "    }\n",
              "\n",
              "    .dataframe thead th {\n",
              "        text-align: right;\n",
              "    }\n",
              "</style>\n",
              "<table border=\"1\" class=\"dataframe\">\n",
              "  <thead>\n",
              "    <tr style=\"text-align: right;\">\n",
              "      <th></th>\n",
              "      <th>data1</th>\n",
              "      <th>data2</th>\n",
              "      <th>key</th>\n",
              "    </tr>\n",
              "  </thead>\n",
              "  <tbody>\n",
              "    <tr>\n",
              "      <th>1</th>\n",
              "      <td>1</td>\n",
              "      <td>4</td>\n",
              "      <td>B</td>\n",
              "    </tr>\n",
              "    <tr>\n",
              "      <th>2</th>\n",
              "      <td>2</td>\n",
              "      <td>6</td>\n",
              "      <td>C</td>\n",
              "    </tr>\n",
              "    <tr>\n",
              "      <th>4</th>\n",
              "      <td>4</td>\n",
              "      <td>6</td>\n",
              "      <td>B</td>\n",
              "    </tr>\n",
              "    <tr>\n",
              "      <th>5</th>\n",
              "      <td>5</td>\n",
              "      <td>1</td>\n",
              "      <td>C</td>\n",
              "    </tr>\n",
              "  </tbody>\n",
              "</table>\n",
              "</div>"
            ],
            "text/plain": [
              "   data1  data2 key\n",
              "1      1      4   B\n",
              "2      2      6   C\n",
              "4      4      6   B\n",
              "5      5      1   C"
            ]
          },
          "metadata": {
            "tags": []
          },
          "execution_count": 55
        }
      ]
    },
    {
      "cell_type": "code",
      "metadata": {
        "colab": {
          "base_uri": "https://localhost:8080/",
          "height": 175
        },
        "id": "IZDofws3SRwe",
        "outputId": "801cd6bb-0625-453a-b7cb-efa321225669"
      },
      "source": [
        "#groupby를 통해서 묶인 데이터에 함수 적용 # df 와 비교\n",
        "\n",
        "df.groupby('key').apply(lambda x: x.max()- x.min())"
      ],
      "execution_count": 56,
      "outputs": [
        {
          "output_type": "execute_result",
          "data": {
            "text/html": [
              "<div>\n",
              "<style scoped>\n",
              "    .dataframe tbody tr th:only-of-type {\n",
              "        vertical-align: middle;\n",
              "    }\n",
              "\n",
              "    .dataframe tbody tr th {\n",
              "        vertical-align: top;\n",
              "    }\n",
              "\n",
              "    .dataframe thead th {\n",
              "        text-align: right;\n",
              "    }\n",
              "</style>\n",
              "<table border=\"1\" class=\"dataframe\">\n",
              "  <thead>\n",
              "    <tr style=\"text-align: right;\">\n",
              "      <th></th>\n",
              "      <th>data1</th>\n",
              "      <th>data2</th>\n",
              "    </tr>\n",
              "    <tr>\n",
              "      <th>key</th>\n",
              "      <th></th>\n",
              "      <th></th>\n",
              "    </tr>\n",
              "  </thead>\n",
              "  <tbody>\n",
              "    <tr>\n",
              "      <th>A</th>\n",
              "      <td>3</td>\n",
              "      <td>4</td>\n",
              "    </tr>\n",
              "    <tr>\n",
              "      <th>B</th>\n",
              "      <td>3</td>\n",
              "      <td>2</td>\n",
              "    </tr>\n",
              "    <tr>\n",
              "      <th>C</th>\n",
              "      <td>3</td>\n",
              "      <td>5</td>\n",
              "    </tr>\n",
              "  </tbody>\n",
              "</table>\n",
              "</div>"
            ],
            "text/plain": [
              "     data1  data2\n",
              "key              \n",
              "A        3      4\n",
              "B        3      2\n",
              "C        3      5"
            ]
          },
          "metadata": {
            "tags": []
          },
          "execution_count": 56
        }
      ]
    },
    {
      "cell_type": "code",
      "metadata": {
        "colab": {
          "base_uri": "https://localhost:8080/",
          "height": 236
        },
        "id": "bTPto0HxTOwn",
        "outputId": "c8c59dab-7173-4d7d-e7b0-ae5ae232a848"
      },
      "source": [
        "df"
      ],
      "execution_count": 57,
      "outputs": [
        {
          "output_type": "execute_result",
          "data": {
            "text/html": [
              "<div>\n",
              "<style scoped>\n",
              "    .dataframe tbody tr th:only-of-type {\n",
              "        vertical-align: middle;\n",
              "    }\n",
              "\n",
              "    .dataframe tbody tr th {\n",
              "        vertical-align: top;\n",
              "    }\n",
              "\n",
              "    .dataframe thead th {\n",
              "        text-align: right;\n",
              "    }\n",
              "</style>\n",
              "<table border=\"1\" class=\"dataframe\">\n",
              "  <thead>\n",
              "    <tr style=\"text-align: right;\">\n",
              "      <th></th>\n",
              "      <th>data1</th>\n",
              "      <th>data2</th>\n",
              "      <th>key</th>\n",
              "    </tr>\n",
              "  </thead>\n",
              "  <tbody>\n",
              "    <tr>\n",
              "      <th>0</th>\n",
              "      <td>0</td>\n",
              "      <td>4</td>\n",
              "      <td>A</td>\n",
              "    </tr>\n",
              "    <tr>\n",
              "      <th>1</th>\n",
              "      <td>1</td>\n",
              "      <td>4</td>\n",
              "      <td>B</td>\n",
              "    </tr>\n",
              "    <tr>\n",
              "      <th>2</th>\n",
              "      <td>2</td>\n",
              "      <td>6</td>\n",
              "      <td>C</td>\n",
              "    </tr>\n",
              "    <tr>\n",
              "      <th>3</th>\n",
              "      <td>3</td>\n",
              "      <td>0</td>\n",
              "      <td>A</td>\n",
              "    </tr>\n",
              "    <tr>\n",
              "      <th>4</th>\n",
              "      <td>4</td>\n",
              "      <td>6</td>\n",
              "      <td>B</td>\n",
              "    </tr>\n",
              "    <tr>\n",
              "      <th>5</th>\n",
              "      <td>5</td>\n",
              "      <td>1</td>\n",
              "      <td>C</td>\n",
              "    </tr>\n",
              "  </tbody>\n",
              "</table>\n",
              "</div>"
            ],
            "text/plain": [
              "   data1  data2 key\n",
              "0      0      4   A\n",
              "1      1      4   B\n",
              "2      2      6   C\n",
              "3      3      0   A\n",
              "4      4      6   B\n",
              "5      5      1   C"
            ]
          },
          "metadata": {
            "tags": []
          },
          "execution_count": 57
        }
      ]
    },
    {
      "cell_type": "code",
      "metadata": {
        "id": "bfzha3uyTXl9"
      },
      "source": [
        "#groupby로 묶인 데이터에서 데이터 추출하기\n",
        "\n",
        "df = pd.read_csv(\"./univ.csv\")\n",
        "#상위 5개 데이터\n",
        "\n",
        "df.head() #데이터 추출\n",
        "\n",
        "df.groupby(\"시도\").get_group(\"충남\")\n",
        "len(df.groupby(\"시도\").get_group(\"충남\"))"
      ],
      "execution_count": null,
      "outputs": []
    },
    {
      "cell_type": "markdown",
      "metadata": {
        "id": "EJmjBjlxUgqS"
      },
      "source": [
        "\n",
        "\n",
        "---\n",
        "\n",
        "[실습3] 그룹으로 묶기"
      ]
    },
    {
      "cell_type": "code",
      "metadata": {
        "colab": {
          "base_uri": "https://localhost:8080/"
        },
        "id": "ujcVqqwhT_2g",
        "outputId": "a5e57673-3741-431a-f8d2-a1ab3ce256e1"
      },
      "source": [
        "import numpy as np\n",
        "import pandas as pd\n",
        "\n",
        "df = pd.DataFrame({\n",
        "    'key': ['A', 'B', 'C', 'A', 'B', 'C'],\n",
        "    'data1': [1, 2, 3, 1, 2, 3],\n",
        "    'data2': [4, 4, 6, 0, 6, 1]\n",
        "})\n",
        "print(\"DataFrame:\")\n",
        "print(df, \"\\n\")\n"
      ],
      "execution_count": 59,
      "outputs": [
        {
          "output_type": "stream",
          "text": [
            "DataFrame:\n",
            "  key  data1  data2\n",
            "0   A      1      4\n",
            "1   B      2      4\n",
            "2   C      3      6\n",
            "3   A      1      0\n",
            "4   B      2      6\n",
            "5   C      3      1 \n",
            "\n"
          ],
          "name": "stdout"
        }
      ]
    },
    {
      "cell_type": "markdown",
      "metadata": {
        "id": "Su2Dj0QKUrZy"
      },
      "source": [
        "# groupby 함수를 이용해봅시다.\n",
        "# key를 기준으로 묶어 합계를 구해 출력해보세요.\n",
        "\n",
        "\n",
        "# key와 data1을 기준으로 묶어 합계를 구해 출력해보세요.\n",
        "\n",
        "\n"
      ]
    },
    {
      "cell_type": "code",
      "metadata": {
        "colab": {
          "base_uri": "https://localhost:8080/"
        },
        "id": "u_qCuv7oUpTp",
        "outputId": "a1d8b459-6b78-48ec-86ea-26990f94fce0"
      },
      "source": [
        "print(df.groupby('key').sum())"
      ],
      "execution_count": 63,
      "outputs": [
        {
          "output_type": "stream",
          "text": [
            "     data1  data2\n",
            "key              \n",
            "A        2      4\n",
            "B        4     10\n",
            "C        6      7\n"
          ],
          "name": "stdout"
        }
      ]
    },
    {
      "cell_type": "code",
      "metadata": {
        "colab": {
          "base_uri": "https://localhost:8080/"
        },
        "id": "tFV-pibhU3DF",
        "outputId": "fb35d4db-15c3-445c-9d0b-865f082eff73"
      },
      "source": [
        "print(df.groupby(['key','data1']).sum()) #data1도 1에대해서 묶이니까 높이가 다르다 #주의"
      ],
      "execution_count": 66,
      "outputs": [
        {
          "output_type": "stream",
          "text": [
            "           data2\n",
            "key data1       \n",
            "A   1          4\n",
            "B   2         10\n",
            "C   3          7\n"
          ],
          "name": "stdout"
        }
      ]
    },
    {
      "cell_type": "markdown",
      "metadata": {
        "id": "1930pm7LV1PB"
      },
      "source": [
        "\n",
        "\n",
        "---\n",
        "\n"
      ]
    },
    {
      "cell_type": "code",
      "metadata": {
        "colab": {
          "base_uri": "https://localhost:8080/"
        },
        "id": "r0yRlAoHVcvE",
        "outputId": "a4e76ec0-1118-4721-a4c9-9a7f86a15106"
      },
      "source": [
        "import numpy as np\n",
        "import pandas as pd\n",
        "\n",
        "df = pd.DataFrame({\n",
        "    'key': ['A', 'B', 'C', 'A', 'B', 'C'],\n",
        "    'data1': [0, 1, 2, 3, 4, 5],\n",
        "    'data2': [4, 4, 6, 0, 6, 1]\n",
        "})\n",
        "print(\"DataFrame:\")\n",
        "print(df, \"\\n\")\n"
      ],
      "execution_count": 67,
      "outputs": [
        {
          "output_type": "stream",
          "text": [
            "DataFrame:\n",
            "  key  data1  data2\n",
            "0   A      0      4\n",
            "1   B      1      4\n",
            "2   C      2      6\n",
            "3   A      3      0\n",
            "4   B      4      6\n",
            "5   C      5      1 \n",
            "\n"
          ],
          "name": "stdout"
        }
      ]
    },
    {
      "cell_type": "markdown",
      "metadata": {
        "id": "pVHPv3lhWCmD"
      },
      "source": [
        "# aggregate를 이용하여 요약 통계량을 산출해봅시다.\n",
        "# 데이터 프레임을 'key' 칼럼으로 묶고, data1과 data2 각각의 최솟값, 중앙값, 최댓값을 출력하세요.\n",
        "\n",
        "\n",
        "\n",
        "# 데이터 프레임을 'key' 칼럼으로 묶고, data1의 최솟값, data2의 합계를 출력하세요.\n",
        "\n",
        "\n",
        "\n"
      ]
    },
    {
      "cell_type": "code",
      "metadata": {
        "colab": {
          "base_uri": "https://localhost:8080/"
        },
        "id": "_ctA3YRMWAPK",
        "outputId": "aa1bea8d-e3f7-4978-ef5a-3b9cdf867a52"
      },
      "source": [
        "print(df.groupby('key').aggregate([min, np.median, max]))"
      ],
      "execution_count": 70,
      "outputs": [
        {
          "output_type": "stream",
          "text": [
            "    data1            data2           \n",
            "      min median max   min median max\n",
            "key                                  \n",
            "A       0    1.5   3     0    2.0   4\n",
            "B       1    2.5   4     4    5.0   6\n",
            "C       2    3.5   5     1    3.5   6\n"
          ],
          "name": "stdout"
        }
      ]
    },
    {
      "cell_type": "code",
      "metadata": {
        "colab": {
          "base_uri": "https://localhost:8080/"
        },
        "id": "sOPElSr9WcJa",
        "outputId": "a9152c71-4a7a-41ff-80b5-401dec30d658"
      },
      "source": [
        "print(df.groupby('key').aggregate({'data1':min, 'data2':sum}))"
      ],
      "execution_count": 72,
      "outputs": [
        {
          "output_type": "stream",
          "text": [
            "     data1  data2\n",
            "key              \n",
            "A        0      4\n",
            "B        1     10\n",
            "C        2      7\n"
          ],
          "name": "stdout"
        }
      ]
    },
    {
      "cell_type": "code",
      "metadata": {
        "id": "PQtcufxCW-jX"
      },
      "source": [
        ""
      ],
      "execution_count": null,
      "outputs": []
    }
  ]
}