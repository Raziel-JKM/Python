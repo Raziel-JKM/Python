{
  "nbformat": 4,
  "nbformat_minor": 0,
  "metadata": {
    "colab": {
      "name": "파이썬.pynb",
      "provenance": [],
      "collapsed_sections": [],
      "authorship_tag": "ABX9TyOyDJB1dJCgKA1S60h1/gH8",
      "include_colab_link": true
    },
    "kernelspec": {
      "name": "python3",
      "display_name": "Python 3"
    },
    "language_info": {
      "name": "python"
    }
  },
  "cells": [
    {
      "cell_type": "markdown",
      "metadata": {
        "id": "view-in-github",
        "colab_type": "text"
      },
      "source": [
        "<a href=\"https://colab.research.google.com/github/Raziel-JKM/Python/blob/python/%ED%8C%8C%EC%9D%B4%EC%8D%AC_pynb.ipynb\" target=\"_parent\"><img src=\"https://colab.research.google.com/assets/colab-badge.svg\" alt=\"Open In Colab\"/></a>"
      ]
    },
    {
      "cell_type": "code",
      "metadata": {
        "colab": {
          "base_uri": "https://localhost:8080/"
        },
        "id": "od6X9BWf_EKh",
        "outputId": "e05a2e66-fb2a-41c9-b00e-614363ecb5f0"
      },
      "source": [
        "my_list = []\n",
        "my_list.append(5)\n",
        "my_list.append(4)\n",
        "my_list.append(2)\n",
        "my_list.append(1)\n",
        "\n",
        "print(my_list) #[1, 2, 3]"
      ],
      "execution_count": 3,
      "outputs": [
        {
          "output_type": "stream",
          "text": [
            "[5, 4, 2, 1]\n"
          ],
          "name": "stdout"
        }
      ]
    },
    {
      "cell_type": "markdown",
      "metadata": {
        "id": "WsPN6Tdo_lnW"
      },
      "source": [
        "\n",
        "\n",
        "---\n",
        "\n",
        "정렬"
      ]
    },
    {
      "cell_type": "code",
      "metadata": {
        "colab": {
          "base_uri": "https://localhost:8080/"
        },
        "id": "RvvGfDHP_Igj",
        "outputId": "800a7e9d-92b9-4cd1-fe5b-852d2c555127"
      },
      "source": [
        "my_list = ['banana', 'apple', 'carrot']\n",
        "my_list.sort()\n",
        "print(my_list) #['apple', 'banana', 'carrot']\n"
      ],
      "execution_count": 2,
      "outputs": [
        {
          "output_type": "stream",
          "text": [
            "['apple', 'banana', 'carrot']\n"
          ],
          "name": "stdout"
        }
      ]
    },
    {
      "cell_type": "code",
      "metadata": {
        "colab": {
          "base_uri": "https://localhost:8080/"
        },
        "id": "FUGCOCKF_UaM",
        "outputId": "79242a16-edf3-410c-8fd4-df5ac30edee2"
      },
      "source": [
        "my_list = [5,4,3,2]\n",
        "my_list.sort()\n",
        "print(my_list) #기본적으로 오름차순 정렬\n"
      ],
      "execution_count": 1,
      "outputs": [
        {
          "output_type": "stream",
          "text": [
            "[2, 3, 4, 5]\n"
          ],
          "name": "stdout"
        }
      ]
    },
    {
      "cell_type": "markdown",
      "metadata": {
        "id": "_lhW1yaa_p0R"
      },
      "source": [
        "\n",
        "\n",
        "---\n",
        "\n",
        "시퀀스 자료형 = [문자열 + 리스트]\n",
        "- 순서가 존재한다 \n",
        "\n",
        "a = \"Once\" #문자열\n",
        "\n",
        "b = ['T','W','I'] #리스트\n",
        "\n",
        "c = (1,2,3,4,5) #튜프"
      ]
    },
    {
      "cell_type": "code",
      "metadata": {
        "colab": {
          "base_uri": "https://localhost:8080/"
        },
        "id": "bh4rLLdkAKmh",
        "outputId": "b2e240d7-a08a-4030-9f9d-5a2702e1aab1"
      },
      "source": [
        "a = \"Once\" #문자열\n",
        "\n",
        "b = ['T','W','I'] #리스트\n",
        "print(a[1])\n",
        "\n",
        "print(b[1:2])"
      ],
      "execution_count": 16,
      "outputs": [
        {
          "output_type": "stream",
          "text": [
            "n\n",
            "['W']\n"
          ],
          "name": "stdout"
        }
      ]
    },
    {
      "cell_type": "code",
      "metadata": {
        "colab": {
          "base_uri": "https://localhost:8080/"
        },
        "id": "SykvwpOoAMmz",
        "outputId": "74d9e88e-273f-49c9-b189-dcdbd0bb4093"
      },
      "source": [
        "#멤버 조회\n",
        "a = \"Once\" #문자열\n",
        "\n",
        "b = ['T','W','I','C','E'] #리스트\n",
        "\n",
        "print('O' in a)\n",
        "\n",
        "print('b' in b)"
      ],
      "execution_count": 19,
      "outputs": [
        {
          "output_type": "stream",
          "text": [
            "True\n",
            "False\n"
          ],
          "name": "stdout"
        }
      ]
    },
    {
      "cell_type": "code",
      "metadata": {
        "colab": {
          "base_uri": "https://localhost:8080/"
        },
        "id": "J54eh6xIBZIO",
        "outputId": "a2ef3ab5-2635-4c49-ec34-cbcc4a4d8625"
      },
      "source": [
        "#길이 확인\n",
        "a = \"Once\" #문자열\n",
        "\n",
        "b = ['T','W','I','C','E'] #리스트\n",
        "\n",
        "print(len(a))\n",
        "print(len(b))"
      ],
      "execution_count": 20,
      "outputs": [
        {
          "output_type": "stream",
          "text": [
            "4\n",
            "5\n"
          ],
          "name": "stdout"
        }
      ]
    },
    {
      "cell_type": "code",
      "metadata": {
        "colab": {
          "base_uri": "https://localhost:8080/"
        },
        "id": "2tsjVBsBBqjF",
        "outputId": "aa8bc3b1-1e6b-41e1-f0c6-7acb332400a1"
      },
      "source": [
        "#연결 연산\n",
        "\n",
        "c = ['T','W','I']+['C','E']\n",
        "print(c)"
      ],
      "execution_count": 22,
      "outputs": [
        {
          "output_type": "stream",
          "text": [
            "['T', 'W', 'I', 'C', 'E']\n"
          ],
          "name": "stdout"
        }
      ]
    },
    {
      "cell_type": "code",
      "metadata": {
        "colab": {
          "base_uri": "https://localhost:8080/"
        },
        "id": "JWV0toEOB0No",
        "outputId": "f1162790-6651-4e4a-801f-e6300f4f9edf"
      },
      "source": [
        "#반복 연산\n",
        "#연산자로 시퀀스를 반복 할 수 있다.\n",
        "\n",
        "d = \"shy\"*3\n",
        "print(d)"
      ],
      "execution_count": 24,
      "outputs": [
        {
          "output_type": "stream",
          "text": [
            "shyshyshy\n"
          ],
          "name": "stdout"
        }
      ]
    },
    {
      "cell_type": "markdown",
      "metadata": {
        "id": "nHmCl6s6DB3L"
      },
      "source": [
        "\n",
        "\n",
        "---\n",
        "Index Slice\n",
        "\n"
      ]
    },
    {
      "cell_type": "code",
      "metadata": {
        "colab": {
          "base_uri": "https://localhost:8080/"
        },
        "id": "btduKYydB_79",
        "outputId": "be1ca1f1-7071-4514-d9a4-cedaf82a564f"
      },
      "source": [
        "my_str = \"Impossible\"\n",
        "my_list =  [\"Apple\", \"Banana\", \"Chamwae\", \"Durian\"]\n",
        "\n",
        "\n",
        "var1 = my_list[2]\n",
        "var2 = my_str[2:]\n",
        "\n",
        "print(my_list[2]) #3\n",
        "print(my_list[1:4]) #[2, 3, 4]"
      ],
      "execution_count": 25,
      "outputs": [
        {
          "output_type": "stream",
          "text": [
            "Chamwae\n",
            "['Banana', 'Chamwae', 'Durian']\n"
          ],
          "name": "stdout"
        }
      ]
    },
    {
      "cell_type": "code",
      "metadata": {
        "colab": {
          "base_uri": "https://localhost:8080/"
        },
        "id": "WOeScMfKDPLs",
        "outputId": "570ed428-68d1-49b0-9a9d-a09a2b9596af"
      },
      "source": [
        "my_str = \"Impossible\"\n",
        "#my_str의 길이\n",
        "print(len(my_str)) #3 - my_str의 길이\n",
        "\n",
        "#\"Egg\"가 my_list에 들어있는지 확인\n",
        "print(\"Egg\" in my_str) #False - 존재하지 않음"
      ],
      "execution_count": 27,
      "outputs": [
        {
          "output_type": "stream",
          "text": [
            "10\n",
            "False\n"
          ],
          "name": "stdout"
        }
      ]
    },
    {
      "cell_type": "markdown",
      "metadata": {
        "id": "0DB4hmskENan"
      },
      "source": [
        "딕셔너리(Dictionary)"
      ]
    },
    {
      "cell_type": "code",
      "metadata": {
        "colab": {
          "base_uri": "https://localhost:8080/"
        },
        "id": "M6tmVoS3EQ8V",
        "outputId": "edae178b-f7a9-486f-d21e-54c17a65804c"
      },
      "source": [
        "dict_zero = {}\n",
        "person = {'name' : 'Michael' , 'age':10}\n",
        "\n",
        "\n",
        "#딕셔너리에서 자료를 꺼내 올 수 있다.\n",
        "print(person['name'])\n",
        "print(person['age'])"
      ],
      "execution_count": 39,
      "outputs": [
        {
          "output_type": "stream",
          "text": [
            "Michael\n",
            "10\n"
          ],
          "name": "stdout"
        }
      ]
    },
    {
      "cell_type": "code",
      "metadata": {
        "colab": {
          "base_uri": "https://localhost:8080/"
        },
        "id": "88U_o81vErUb",
        "outputId": "1758cf17-eb9a-4fe4-c7ee-ad0e48d9a7f7"
      },
      "source": [
        "#값을 넣어 줄 수 도 있다\n",
        "person['Hometown']='Seoul'\n",
        "print(person)"
      ],
      "execution_count": 40,
      "outputs": [
        {
          "output_type": "stream",
          "text": [
            "{'name': 'Michael', 'age': 10, 'Hometown': 'Seoul'}\n"
          ],
          "name": "stdout"
        }
      ]
    },
    {
      "cell_type": "code",
      "metadata": {
        "colab": {
          "base_uri": "https://localhost:8080/"
        },
        "id": "sqbAhTgHFY_D",
        "outputId": "1f6aa48e-6aab-4c25-8640-0c9a6d0c1e73"
      },
      "source": [
        "#값을 삭제도 가능 / #기본값을 바꿔버림\n",
        "del person['age']\n",
        "print(person)"
      ],
      "execution_count": 41,
      "outputs": [
        {
          "output_type": "stream",
          "text": [
            "{'name': 'Michael', 'Hometown': 'Seoul'}\n"
          ],
          "name": "stdout"
        }
      ]
    },
    {
      "cell_type": "markdown",
      "metadata": {
        "id": "bTzPqO3hFvSi"
      },
      "source": [
        "딕셔너리의 특징 key는 변할 수 없는 자료형\n",
        "-> 리스트는 안되고 튜플은 된다!"
      ]
    },
    {
      "cell_type": "code",
      "metadata": {
        "colab": {
          "base_uri": "https://localhost:8080/",
          "height": 200
        },
        "id": "IqPms58FFjo3",
        "outputId": "1dc88ccd-cc54-4ef9-875e-ec28ab06dfe4"
      },
      "source": [
        "datas = {[1,2,3]:'Alphabet'} #Error\n",
        "         #KEY - list는 안됨\n",
        "print(datas)"
      ],
      "execution_count": 45,
      "outputs": [
        {
          "output_type": "error",
          "ename": "TypeError",
          "evalue": "ignored",
          "traceback": [
            "\u001b[0;31m---------------------------------------------------------------------------\u001b[0m",
            "\u001b[0;31mTypeError\u001b[0m                                 Traceback (most recent call last)",
            "\u001b[0;32m<ipython-input-45-3e257bc52b05>\u001b[0m in \u001b[0;36m<module>\u001b[0;34m()\u001b[0m\n\u001b[0;32m----> 1\u001b[0;31m \u001b[0mdatas\u001b[0m \u001b[0;34m=\u001b[0m \u001b[0;34m{\u001b[0m\u001b[0;34m[\u001b[0m\u001b[0;36m1\u001b[0m\u001b[0;34m,\u001b[0m\u001b[0;36m2\u001b[0m\u001b[0;34m,\u001b[0m\u001b[0;36m3\u001b[0m\u001b[0;34m]\u001b[0m\u001b[0;34m:\u001b[0m\u001b[0;34m'Alphabet'\u001b[0m\u001b[0;34m}\u001b[0m \u001b[0;31m#Error\u001b[0m\u001b[0;34m\u001b[0m\u001b[0;34m\u001b[0m\u001b[0m\n\u001b[0m\u001b[1;32m      2\u001b[0m          \u001b[0;31m#KEY - list는 안됨\u001b[0m\u001b[0;34m\u001b[0m\u001b[0;34m\u001b[0m\u001b[0;34m\u001b[0m\u001b[0m\n\u001b[1;32m      3\u001b[0m \u001b[0mprint\u001b[0m\u001b[0;34m(\u001b[0m\u001b[0mdatas\u001b[0m\u001b[0;34m)\u001b[0m\u001b[0;34m\u001b[0m\u001b[0;34m\u001b[0m\u001b[0m\n",
            "\u001b[0;31mTypeError\u001b[0m: unhashable type: 'list'"
          ]
        }
      ]
    },
    {
      "cell_type": "code",
      "metadata": {
        "colab": {
          "base_uri": "https://localhost:8080/"
        },
        "id": "X9kER58_fAyU",
        "outputId": "75bb807f-a761-410d-c143-4fd9e11fe7ea"
      },
      "source": [
        "datas = {(1,2,3): 'Nember'} #OK\n",
        "         #KEY - 튜플은 가능\n",
        "print(datas)"
      ],
      "execution_count": 50,
      "outputs": [
        {
          "output_type": "stream",
          "text": [
            "{(1, 2, 3): 'Nember'}\n"
          ],
          "name": "stdout"
        }
      ]
    },
    {
      "cell_type": "markdown",
      "metadata": {
        "id": "WqCp5Ur8f6Hw"
      },
      "source": [
        "\n",
        "\n",
        "---\n",
        "\n"
      ]
    },
    {
      "cell_type": "code",
      "metadata": {
        "colab": {
          "base_uri": "https://localhost:8080/"
        },
        "id": "LY0CoMPZfs5L",
        "outputId": "4da3b91f-e8b7-4589-a741-ec938e306742"
      },
      "source": [
        "my_dict = {\"사과\":\"apple\", \"바나나\":\"banana\", \"당근\":\"carrot\"}\n",
        "print(my_dict)"
      ],
      "execution_count": 58,
      "outputs": [
        {
          "output_type": "stream",
          "text": [
            "{'사과': 'apple', '바나나': 'banana', '당근': 'carrot'}\n"
          ],
          "name": "stdout"
        }
      ]
    },
    {
      "cell_type": "code",
      "metadata": {
        "id": "8WqsBj_rgMcA"
      },
      "source": [
        "var1 = my_dict[\"사과\"]"
      ],
      "execution_count": 57,
      "outputs": []
    },
    {
      "cell_type": "code",
      "metadata": {
        "colab": {
          "base_uri": "https://localhost:8080/"
        },
        "id": "sHUajnzDgTvk",
        "outputId": "51187539-6bbb-4ea5-9fdd-73ca8373247e"
      },
      "source": [
        "del my_dict[\"당근\"]\n",
        "print(my_dict)"
      ],
      "execution_count": 59,
      "outputs": [
        {
          "output_type": "stream",
          "text": [
            "{'사과': 'apple', '바나나': 'banana'}\n"
          ],
          "name": "stdout"
        }
      ]
    },
    {
      "cell_type": "code",
      "metadata": {
        "colab": {
          "base_uri": "https://localhost:8080/"
        },
        "id": "QXuiUanwghtL",
        "outputId": "80129e63-58ab-450b-f574-630297ff1cdc"
      },
      "source": [
        "my_dict[\"체리\"] = \"cherry\"\n",
        "print(my_dict)"
      ],
      "execution_count": 61,
      "outputs": [
        {
          "output_type": "stream",
          "text": [
            "{'사과': 'apple', '바나나': 'banana', '체리': 'cherry'}\n"
          ],
          "name": "stdout"
        }
      ]
    },
    {
      "cell_type": "markdown",
      "metadata": {
        "id": "A7J-9-kWhFtD"
      },
      "source": [
        "\n",
        "\n",
        "---\n",
        "\n"
      ]
    },
    {
      "cell_type": "code",
      "metadata": {
        "colab": {
          "base_uri": "https://localhost:8080/"
        },
        "id": "fYdjcBxbhnUJ",
        "outputId": "3f17a230-ba76-4865-8014-baadf99ba129"
      },
      "source": [
        "my_dict = {}\n",
        "\n",
        "my_dict[1] = \"Integer\"\n",
        "\n",
        "my_dict['a'] = \"String\"\n",
        "\n",
        "my_dict[(1,2,3)] = \"Tuple\"\n",
        "\n",
        "print(my_dict)\n",
        "\n"
      ],
      "execution_count": 64,
      "outputs": [
        {
          "output_type": "stream",
          "text": [
            "{1: 'Integer', 'a': 'String', (1, 2, 3): 'Tuple'}\n"
          ],
          "name": "stdout"
        }
      ]
    },
    {
      "cell_type": "code",
      "metadata": {
        "colab": {
          "base_uri": "https://localhost:8080/"
        },
        "id": "j0f2D3osgzP2",
        "outputId": "35567d7e-4df5-47aa-f5f9-a02065568d78"
      },
      "source": [
        "try:\n",
        "    #여기에 [1, 2, 3] → \"List\"의 대응관계를 만들어봅시다.\n",
        "    my_dict[[1, 2, 3]] = \"List\" #- 는 불가능!!\n",
        "\n",
        "except TypeError:\n",
        "    print(\"List는 Dictionary의 Key가 될 수 없습니다.\")"
      ],
      "execution_count": 67,
      "outputs": [
        {
          "output_type": "stream",
          "text": [
            "List는 Dictionary의 Key가 될 수 없습니다.\n"
          ],
          "name": "stdout"
        }
      ]
    },
    {
      "cell_type": "code",
      "metadata": {
        "id": "_ngOxut7hfXP"
      },
      "source": [
        "try:\n",
        "    #여기에 [1, 2, 3] → \"List\"의 대응관계를 만들어봅시다.\n",
        "    my_dict[(1, 2, 3)] = \"List\" # - 튜플 형태는 리스트가능\n",
        "\n",
        "except TypeError:\n",
        "    print(\"List는 Dictionary의 Key가 될 수 없습니다.\")"
      ],
      "execution_count": 66,
      "outputs": []
    }
  ]
}