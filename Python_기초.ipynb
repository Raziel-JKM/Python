{
  "nbformat": 4,
  "nbformat_minor": 0,
  "metadata": {
    "colab": {
      "name": "Python 기초.ipynb",
      "provenance": [],
      "authorship_tag": "ABX9TyNzpSHYYNTQNeamolAOdH8r",
      "include_colab_link": true
    },
    "kernelspec": {
      "name": "python3",
      "display_name": "Python 3"
    },
    "language_info": {
      "name": "python"
    }
  },
  "cells": [
    {
      "cell_type": "markdown",
      "metadata": {
        "id": "view-in-github",
        "colab_type": "text"
      },
      "source": [
        "<a href=\"https://colab.research.google.com/github/Raziel-JKM/Python/blob/python/Python_%EA%B8%B0%EC%B4%88.ipynb\" target=\"_parent\"><img src=\"https://colab.research.google.com/assets/colab-badge.svg\" alt=\"Open In Colab\"/></a>"
      ]
    },
    {
      "cell_type": "code",
      "metadata": {
        "colab": {
          "base_uri": "https://localhost:8080/"
        },
        "id": "Gna9-QUBEwjY",
        "outputId": "191906a9-7ff8-4275-e2eb-970c6de1966e"
      },
      "source": [
        "my_list = [10,20,30,40,50]\n",
        "\n",
        "var1 = sum(my_list)\n",
        "\n",
        "var2 = len(my_list)\n",
        "\n",
        "var3 = var1/var2 #평균 구하는법 숙지!!\n",
        "\n",
        "print(var1, var2, var3)"
      ],
      "execution_count": 3,
      "outputs": [
        {
          "output_type": "stream",
          "text": [
            "150 5 30.0\n"
          ],
          "name": "stdout"
        }
      ]
    },
    {
      "cell_type": "markdown",
      "metadata": {
        "id": "mFDAVHXYFa1M"
      },
      "source": [
        "\n",
        "\n",
        "---\n",
        "return\n"
      ]
    },
    {
      "cell_type": "code",
      "metadata": {
        "colab": {
          "base_uri": "https://localhost:8080/"
        },
        "id": "0UWAVX9HFBSf",
        "outputId": "6fec4ba1-fc58-4c15-e162-99c436097b92"
      },
      "source": [
        "def plus_print(a, b): #함수안에서 사용될 매개변수\n",
        "\n",
        "    print(a+b)\n",
        "\n",
        "def times_return(a, b):\n",
        "    return a*b \n",
        "\n",
        "plus_print(3,4) #print와 return을 착각하지 않기 \n",
        "\n",
        "print(times_return(3,4))\n",
        "\n",
        "#<print와 return의 차이점>\n",
        "#print는 눈에 보여주는 역할\n",
        "#return은 함수 안에서 일어 나는 일을 알려준다\n"
      ],
      "execution_count": 6,
      "outputs": [
        {
          "output_type": "stream",
          "text": [
            "7\n",
            "12\n"
          ],
          "name": "stdout"
        }
      ]
    },
    {
      "cell_type": "code",
      "metadata": {
        "id": "PAl5DqkiGmG9"
      },
      "source": [
        ""
      ],
      "execution_count": null,
      "outputs": []
    },
    {
      "cell_type": "markdown",
      "metadata": {
        "id": "9IDeRFHIGlkb"
      },
      "source": [
        "\n",
        "\n",
        "---\n",
        "\n",
        "메소드(Method)"
      ]
    },
    {
      "cell_type": "code",
      "metadata": {
        "id": "483_LhHZF8nz"
      },
      "source": [
        "#특정 자료에 대해 특정 기능을 하는 코드 -> 함수\n",
        "\n",
        "my_list = [1,2,3]\n",
        "\n",
        "my_list.append(4)\n",
        "\n",
        "my_list.count(2)\n",
        "\n",
        "my_list.pop()"
      ],
      "execution_count": null,
      "outputs": []
    },
    {
      "cell_type": "code",
      "metadata": {
        "id": "q6pgJi9uHHoP"
      },
      "source": [
        "# 메소드와 함수\n",
        "# 메소드 - 특정 자료와 연관지어 기능을 한다. 자료뒤에 .을 찍어 사용\n",
        "# 함수 - 특정 기능을 한다.\n",
        "\n",
        "# 함수의 예\n",
        "\n",
        "my_list = [10,20,30,40,50]\n",
        "\n",
        "sum(my_list)\n",
        "\n",
        "len(my_list)\n",
        "\n",
        "min(my_list)"
      ],
      "execution_count": null,
      "outputs": []
    },
    {
      "cell_type": "code",
      "metadata": {
        "id": "dbUuIsKyH8pn"
      },
      "source": [
        "my_dict = {1:\"One\", 2:\"Two\", 3:\"Three\"}\n",
        "\n",
        "var1 = my_dict.keys()\n",
        "\n",
        "var2 = my_dict.values()"
      ],
      "execution_count": 7,
      "outputs": []
    },
    {
      "cell_type": "markdown",
      "metadata": {
        "id": "6_CQ9njkJGo-"
      },
      "source": [
        "---\n",
        "매개변수(parameter) : 함수를 정의할 때(만들 때) 넘겨받은 값을 관리하는 변수\n",
        "\n",
        "인자(argument) : 함수를 호출할 때(사용할 때) 함수로 넘겨주는 자료\n"
      ]
    },
    {
      "cell_type": "code",
      "metadata": {
        "colab": {
          "base_uri": "https://localhost:8080/"
        },
        "id": "_M3zftO0IPRU",
        "outputId": "585f1afa-3458-4744-f68a-d3f9780b213f"
      },
      "source": [
        "def solve(a,b):\n",
        "    return a*b\n",
        "\n",
        "var1 = solve(3 ,4) #3,4는 인자 함수로 값을 넘겨준다.\n",
        "\n",
        "var2 = solve(3, ['Cham'])\n",
        "\n",
        "print(var1, var2)"
      ],
      "execution_count": 8,
      "outputs": [
        {
          "output_type": "stream",
          "text": [
            "12 ['Cham', 'Cham', 'Cham']\n"
          ],
          "name": "stdout"
        }
      ]
    },
    {
      "cell_type": "code",
      "metadata": {
        "id": "E5puU2PkI9i-"
      },
      "source": [
        ""
      ],
      "execution_count": null,
      "outputs": []
    }
  ]
}