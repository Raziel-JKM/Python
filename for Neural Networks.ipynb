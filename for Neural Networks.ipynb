{
  "nbformat": 4,
  "nbformat_minor": 0,
  "metadata": {
    "anaconda-cloud": {},
    "kernelspec": {
      "display_name": "Python 3",
      "language": "python",
      "name": "python3"
    },
    "language_info": {
      "codemirror_mode": {
        "name": "ipython",
        "version": 3
      },
      "file_extension": ".py",
      "mimetype": "text/x-python",
      "name": "python",
      "nbconvert_exporter": "python",
      "pygments_lexer": "ipython3",
      "version": "3.6.1"
    },
    "colab": {
      "name": "1_basics.ipynb",
      "provenance": [],
      "include_colab_link": true
    }
  },
  "cells": [
    {
      "cell_type": "markdown",
      "metadata": {
        "id": "view-in-github",
        "colab_type": "text"
      },
      "source": [
        "<a href=\"https://colab.research.google.com/github/Raziel-JKM/Python/blob/python/for%20Neural%20Networks.ipynb\" target=\"_parent\"><img src=\"https://colab.research.google.com/assets/colab-badge.svg\" alt=\"Open In Colab\"/></a>"
      ]
    },
    {
      "cell_type": "code",
      "metadata": {
        "collapsed": true,
        "id": "vkhRXkW2UOFo"
      },
      "source": [
        "import numpy as np"
      ],
      "execution_count": null,
      "outputs": []
    },
    {
      "cell_type": "code",
      "metadata": {
        "id": "rDTnLMvnUOFr",
        "outputId": "2b7334a0-21d6-4768-bd46-e8aad6d66fd4"
      },
      "source": [
        "# column vector\n",
        "c = np.array([1,2,3])\n",
        "print(c.shape)\n",
        "\n",
        "# obtaining a particular entry\n",
        "print (c[0])"
      ],
      "execution_count": null,
      "outputs": [
        {
          "output_type": "stream",
          "text": [
            "(3,)\n",
            "1\n"
          ],
          "name": "stdout"
        }
      ]
    },
    {
      "cell_type": "code",
      "metadata": {
        "id": "XK0obThBUOFt",
        "outputId": "4ff4842c-3067-4935-8c03-a2a0d498dd3e"
      },
      "source": [
        "# row vector\n",
        "r = np.array([ [1,2,3] ]) # 1*3인 로우 벡터\n",
        "print (r.shape)"
      ],
      "execution_count": null,
      "outputs": [
        {
          "output_type": "stream",
          "text": [
            "(1, 3)\n"
          ],
          "name": "stdout"
        }
      ]
    },
    {
      "cell_type": "code",
      "metadata": {
        "id": "MUpCU4kpUOFu",
        "outputId": "a420ebed-1637-442e-8547-8f3fae95752e"
      },
      "source": [
        "# obtaining a particular entry\n",
        "print (r[0,1])"
      ],
      "execution_count": null,
      "outputs": [
        {
          "output_type": "stream",
          "text": [
            "2\n"
          ],
          "name": "stdout"
        }
      ]
    },
    {
      "cell_type": "code",
      "metadata": {
        "id": "J7GF0YwCUOFv",
        "outputId": "fdcc9508-e7b8-4b46-920a-878bdff2c5d9"
      },
      "source": [
        "# creating a matrix with all zeros\n",
        "a = np.zeros((2,2))\n",
        "print (a)\n",
        "# creating a matrix with all ones\n",
        "b = np.ones((2,2))\n",
        "print (b)\n",
        "             \n",
        "# creating a matrix filled with the same constant\n",
        "c = np.full((2,2), 7)\n",
        "print (c)\n",
        "             \n",
        "# creating a matrix with random values\n",
        "d = np.random.random((2,2))\n",
        "print (d)"
      ],
      "execution_count": null,
      "outputs": [
        {
          "output_type": "stream",
          "text": [
            "[[ 0.  0.]\n",
            " [ 0.  0.]]\n",
            "[[ 1.  1.]\n",
            " [ 1.  1.]]\n",
            "[[7 7]\n",
            " [7 7]]\n",
            "[[ 0.93589863  0.19331487]\n",
            " [ 0.14309097  0.43003853]]\n"
          ],
          "name": "stdout"
        }
      ]
    },
    {
      "cell_type": "code",
      "metadata": {
        "scrolled": true,
        "id": "OGLmYBNsUOFw",
        "outputId": "f42aa350-acc3-487e-8294-8e936bee4520"
      },
      "source": [
        "# creating a matrix\n",
        "A=np.array([[1,2],[3,4],[5,6]])\n",
        "print (A)\n"
      ],
      "execution_count": null,
      "outputs": [
        {
          "output_type": "stream",
          "text": [
            "[[1 2]\n",
            " [3 4]\n",
            " [5 6]]\n"
          ],
          "name": "stdout"
        }
      ]
    },
    {
      "cell_type": "code",
      "metadata": {
        "id": "gcqIbBmwUOFx",
        "outputId": "9dd4a50a-2bb4-4d67-f6e5-4390e1bd1921"
      },
      "source": [
        "# creating another matrix\n",
        "B=np.array([[11,12,13,14],[15,16,17,18]])\n",
        "B"
      ],
      "execution_count": null,
      "outputs": [
        {
          "output_type": "execute_result",
          "data": {
            "text/plain": [
              "array([[11, 12, 13, 14],\n",
              "       [15, 16, 17, 18]])"
            ]
          },
          "metadata": {
            "tags": []
          },
          "execution_count": 27
        }
      ]
    },
    {
      "cell_type": "code",
      "metadata": {
        "id": "skPGtzerUOFx",
        "outputId": "0cf07275-27ce-4109-a4ed-41421a733147"
      },
      "source": [
        "# transpose a matrix\n",
        "A.T"
      ],
      "execution_count": null,
      "outputs": [
        {
          "output_type": "execute_result",
          "data": {
            "text/plain": [
              "array([[1, 3, 5],\n",
              "       [2, 4, 6]])"
            ]
          },
          "metadata": {
            "tags": []
          },
          "execution_count": 28
        }
      ]
    },
    {
      "cell_type": "code",
      "metadata": {
        "scrolled": true,
        "id": "gq6fCdGOUOFy",
        "outputId": "0a6bbb02-d5ec-4c8a-fb48-3a321edbe798"
      },
      "source": [
        "# matrix-matrix multiplication\n",
        "np.dot(A,B)"
      ],
      "execution_count": null,
      "outputs": [
        {
          "output_type": "execute_result",
          "data": {
            "text/plain": [
              "array([[ 41,  44,  47,  50],\n",
              "       [ 93, 100, 107, 114],\n",
              "       [145, 156, 167, 178]])"
            ]
          },
          "metadata": {
            "tags": []
          },
          "execution_count": 29
        }
      ]
    },
    {
      "cell_type": "code",
      "metadata": {
        "id": "o7lCOSPKUOFy",
        "outputId": "f9082dc6-ce72-4f23-bb21-4de95d616617"
      },
      "source": [
        "# matrix-matrix multiplication \n",
        "# size should match!\n",
        "np.dot(B,A) #사이즈가 맞지않아서 에러가 난다."
      ],
      "execution_count": null,
      "outputs": [
        {
          "output_type": "error",
          "ename": "ValueError",
          "evalue": "shapes (2,4) and (3,2) not aligned: 4 (dim 1) != 3 (dim 0)",
          "traceback": [
            "\u001b[0;31m---------------------------------------------------------------\u001b[0m",
            "\u001b[0;31mValueError\u001b[0m                    Traceback (most recent call last)",
            "\u001b[0;32m<ipython-input-30-1c2410a4aca9>\u001b[0m in \u001b[0;36m<module>\u001b[0;34m()\u001b[0m\n\u001b[1;32m      1\u001b[0m \u001b[0;31m# matrix-matrix multiplication\u001b[0m\u001b[0;34m\u001b[0m\u001b[0;34m\u001b[0m\u001b[0m\n\u001b[1;32m      2\u001b[0m \u001b[0;31m# size should match!\u001b[0m\u001b[0;34m\u001b[0m\u001b[0;34m\u001b[0m\u001b[0m\n\u001b[0;32m----> 3\u001b[0;31m \u001b[0mnp\u001b[0m\u001b[0;34m.\u001b[0m\u001b[0mdot\u001b[0m\u001b[0;34m(\u001b[0m\u001b[0mB\u001b[0m\u001b[0;34m,\u001b[0m\u001b[0mA\u001b[0m\u001b[0;34m)\u001b[0m\u001b[0;34m\u001b[0m\u001b[0m\n\u001b[0m",
            "\u001b[0;31mValueError\u001b[0m: shapes (2,4) and (3,2) not aligned: 4 (dim 1) != 3 (dim 0)"
          ]
        }
      ]
    },
    {
      "cell_type": "code",
      "metadata": {
        "collapsed": true,
        "id": "060oyzY-UOFz"
      },
      "source": [
        "# coefficient matrix A and a vector b\n",
        "A=np.array([[60, 5.5, 1],[65, 5.0, 0],[55, 6.0, 1]])\n",
        "b=np.array([66, 70, 78])"
      ],
      "execution_count": null,
      "outputs": []
    },
    {
      "cell_type": "code",
      "metadata": {
        "id": "iMbRr1YJUOFz",
        "outputId": "a699705a-670b-43c6-8fd7-3f7793e8b93d"
      },
      "source": [
        "# identity matrix \n",
        "eye3 = np.eye(3)\n",
        "eye3"
      ],
      "execution_count": null,
      "outputs": [
        {
          "output_type": "execute_result",
          "data": {
            "text/plain": [
              "array([[ 1.,  0.,  0.],\n",
              "       [ 0.,  1.,  0.],\n",
              "       [ 0.,  0.,  1.]])"
            ]
          },
          "metadata": {
            "tags": []
          },
          "execution_count": 33
        }
      ]
    },
    {
      "cell_type": "code",
      "metadata": {
        "id": "KhWTCHdwUOF0",
        "outputId": "b87b28a7-7f91-4bf9-b3dc-506d1a13c3c5"
      },
      "source": [
        "# computing an inverse\n",
        "from numpy.linalg import inv\n",
        "A_inv = inv(A)\n",
        "A_inv"
      ],
      "execution_count": null,
      "outputs": [
        {
          "output_type": "execute_result",
          "data": {
            "text/plain": [
              "array([[ 0.08695652,  0.00869565, -0.08695652],\n",
              "       [-1.13043478,  0.08695652,  1.13043478],\n",
              "       [ 2.        , -1.        , -1.        ]])"
            ]
          },
          "metadata": {
            "tags": []
          },
          "execution_count": 35
        }
      ]
    },
    {
      "cell_type": "code",
      "metadata": {
        "id": "y5eLVrISUOF0",
        "outputId": "4358d47c-4b99-4b2c-f8e6-5afcf3fb8dd4"
      },
      "source": [
        "# wrong matrix multiplication #닷을써야 아이덴티 매트릭스가 나온다(역행렬계산)\n",
        "A*A_inv"
      ],
      "execution_count": null,
      "outputs": [
        {
          "output_type": "execute_result",
          "data": {
            "text/plain": [
              "array([[  5.21739130e+00,   4.78260870e-02,  -8.69565217e-02],\n",
              "       [ -7.34782609e+01,   4.34782609e-01,   0.00000000e+00],\n",
              "       [  1.10000000e+02,  -6.00000000e+00,  -1.00000000e+00]])"
            ]
          },
          "metadata": {
            "tags": []
          },
          "execution_count": 36
        }
      ]
    },
    {
      "cell_type": "code",
      "metadata": {
        "id": "Zz4Fk5WJUOF1",
        "outputId": "cae15ff7-c215-4237-b3be-86b027007d60"
      },
      "source": [
        "# correct matrix multiplication\n",
        "A.dot(A_inv)"
      ],
      "execution_count": null,
      "outputs": [
        {
          "output_type": "execute_result",
          "data": {
            "text/plain": [
              "array([[ 1.,  0.,  0.],\n",
              "       [ 0.,  1.,  0.],\n",
              "       [ 0.,  0.,  1.]])"
            ]
          },
          "metadata": {
            "tags": []
          },
          "execution_count": 38
        }
      ]
    },
    {
      "cell_type": "code",
      "metadata": {
        "id": "c532CpmAUOF1",
        "outputId": "2e3a0051-5089-48df-eeda-b78bf8113285"
      },
      "source": [
        "# solution of a linear system\n",
        "x=A_inv.dot(b)\n",
        "x"
      ],
      "execution_count": null,
      "outputs": [
        {
          "output_type": "execute_result",
          "data": {
            "text/plain": [
              "array([ -0.43478261,  19.65217391, -16.        ])"
            ]
          },
          "metadata": {
            "tags": []
          },
          "execution_count": 40
        }
      ]
    },
    {
      "cell_type": "code",
      "metadata": {
        "id": "0LVmZyQyUOF2",
        "outputId": "7d5465af-b255-4bda-e7fa-ea3c972232f3"
      },
      "source": [
        "# a better way to solve the same linear system\n",
        "from numpy.linalg import solve\n",
        "x = solve(A,b)\n",
        "x"
      ],
      "execution_count": null,
      "outputs": [
        {
          "output_type": "execute_result",
          "data": {
            "text/plain": [
              "array([ -0.43478261,  19.65217391, -16.        ])"
            ]
          },
          "metadata": {
            "tags": []
          },
          "execution_count": 41
        }
      ]
    },
    {
      "cell_type": "code",
      "metadata": {
        "collapsed": true,
        "id": "981S8d4uUOF2"
      },
      "source": [
        ""
      ],
      "execution_count": null,
      "outputs": []
    }
  ]
}