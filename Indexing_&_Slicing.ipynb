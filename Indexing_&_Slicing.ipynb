{
  "nbformat": 4,
  "nbformat_minor": 0,
  "metadata": {
    "colab": {
      "name": " Indexing & Slicing.ipynb",
      "provenance": [],
      "authorship_tag": "ABX9TyOuuinAzDIog9iLiTrtPDdV",
      "include_colab_link": true
    },
    "kernelspec": {
      "name": "python3",
      "display_name": "Python 3"
    },
    "language_info": {
      "name": "python"
    }
  },
  "cells": [
    {
      "cell_type": "markdown",
      "metadata": {
        "id": "view-in-github",
        "colab_type": "text"
      },
      "source": [
        "<a href=\"https://colab.research.google.com/github/Raziel-JKM/Python/blob/python/Indexing_%26_Slicing.ipynb\" target=\"_parent\"><img src=\"https://colab.research.google.com/assets/colab-badge.svg\" alt=\"Open In Colab\"/></a>"
      ]
    },
    {
      "cell_type": "markdown",
      "metadata": {
        "id": "u8jphJpfmPPG"
      },
      "source": [
        "##Indexing & Slicing"
      ]
    },
    {
      "cell_type": "code",
      "metadata": {
        "colab": {
          "base_uri": "https://localhost:8080/"
        },
        "id": "rkJttFMzmmEZ",
        "outputId": "b02bab38-3d0b-4f3b-d123-4a58e3c90a22"
      },
      "source": [
        "import numpy as np\n",
        "\n",
        "matrix = np.arange(1, 13, 1).reshape(3, 4)\n",
        "print(matrix)\n",
        "\n",
        "# 1. Indexing을 통해 값 2를 출력해보세요.\n",
        "answer1 = matrix[0, 1]\n",
        "\n",
        "# 2. Slicing을 통해 매트릭스 일부인 9, 10을 가져와 출력해보세요.\n",
        "answer2 = matrix[2:, :2] #matrix[2, 2]\n",
        "\n",
        "# 3. Boolean indexing을 통해 5보다 작은 수를 찾아 출력해보세요.\n",
        "answer3 = matrix[matrix<5]\n",
        "\n",
        "# 4. Fancy indexing을 통해 두 번째 행만 추출하여 출력해보세요.\n",
        "answer4 = matrix[[1]] #matrix[2]\n",
        "\n",
        "# 위에서 구한 정답을 출력해봅시다.\n",
        "print(answer1)\n",
        "print(answer2)\n",
        "print(answer3)\n",
        "print(answer4)"
      ],
      "execution_count": 7,
      "outputs": [
        {
          "output_type": "stream",
          "text": [
            "[[ 1  2  3  4]\n",
            " [ 5  6  7  8]\n",
            " [ 9 10 11 12]]\n",
            "2\n",
            "[[ 9 10]]\n",
            "[1 2 3 4]\n",
            "[[5 6 7 8]]\n"
          ],
          "name": "stdout"
        }
      ]
    },
    {
      "cell_type": "markdown",
      "metadata": {
        "id": "QGn607LtnYah"
      },
      "source": [
        "배열의 인덱스를 활용하여 값을 찾아내거나 배열의 일부분을 가져올 수 있습니다. 이를 Indexing & Slicing이라 합니다."
      ]
    },
    {
      "cell_type": "code",
      "metadata": {
        "colab": {
          "base_uri": "https://localhost:8080/",
          "height": 131
        },
        "id": "QPdo1U7NnZ-H",
        "outputId": "88c9862b-4335-490b-b29f-f85188c380dd"
      },
      "source": [
        "x = np.arang(7)\n",
        "print(x[3])  # 3\n",
        "print(x[1:4]  # [1 2 3]\n"
      ],
      "execution_count": 6,
      "outputs": [
        {
          "output_type": "error",
          "ename": "SyntaxError",
          "evalue": "ignored",
          "traceback": [
            "\u001b[0;36m  File \u001b[0;32m\"<ipython-input-6-b1e14152a261>\"\u001b[0;36m, line \u001b[0;32m3\u001b[0m\n\u001b[0;31m    print(x[1:4]  # [1 2 3]\u001b[0m\n\u001b[0m                           ^\u001b[0m\n\u001b[0;31mSyntaxError\u001b[0m\u001b[0;31m:\u001b[0m unexpected EOF while parsing\n"
          ]
        }
      ]
    },
    {
      "cell_type": "markdown",
      "metadata": {
        "id": "nKyBuA7knQgr"
      },
      "source": [
        "Boolean mask를 이용하여 원하는 값을 추출하는 것은 Boolean indexing이라 합니다."
      ]
    },
    {
      "cell_type": "code",
      "metadata": {
        "colab": {
          "base_uri": "https://localhost:8080/"
        },
        "id": "wgUzKww3nSCG",
        "outputId": "1b3118e7-e40e-4315-b1bb-73f48fbf88ae"
      },
      "source": [
        "x = np.arange(7)\n",
        "print(x[x < 3])  # [0 1 2]\n",
        "print(x[x % 2 == 0])  # [2 4 6]\n"
      ],
      "execution_count": 4,
      "outputs": [
        {
          "output_type": "stream",
          "text": [
            "[0 1 2]\n",
            "[0 2 4 6]\n"
          ],
          "name": "stdout"
        }
      ]
    },
    {
      "cell_type": "markdown",
      "metadata": {
        "id": "brCuJHcMmTop"
      },
      "source": [
        "배열의 각 요소 선택을 Index 배열을 전달하여 지정하는 방식은 Fancy indexing이라 합니다.\n",
        "\n"
      ]
    },
    {
      "cell_type": "code",
      "metadata": {
        "id": "DBOT3CgHnI76"
      },
      "source": [
        "x = np.arange(7)\n",
        "print(x[[1, 3, 5]]  # [1 3 5]"
      ],
      "execution_count": null,
      "outputs": []
    },
    {
      "cell_type": "markdown",
      "metadata": {
        "id": "CNpNTmSxvVs5"
      },
      "source": [
        "## 변수 mix에 있는 \"쌀\"의 개수를 세봅시다.\n",
        "mix = \"쌀씰쌀쌀씰쌀씰쌀씰쌀쌀씰쌀씰쌀씰쌀쌀씰쌀씰쌀씰쌀쌀씰쌀씰쌀씰쌀쌀씰쌀씰쌀씰쌀쌀씰쌀씰쌀씰쌀쌀씰쌀씰쌀씰쌀쌀씰쌀씰쌀씰쌀쌀씰쌀씰쌀씰쌀쌀씰쌀씰쌀씰쌀쌀씰쌀씰쌀씰쌀쌀씰쌀씰쌀씰쌀쌀씰쌀씰쌀씰쌀쌀씰쌀씰쌀씰쌀쌀씰쌀씰쌀씰쌀쌀씰쌀씰쌀씰쌀쌀씰쌀씰쌀씰쌀쌀씰쌀씰쌀씰쌀쌀씰쌀씰쌀씰쌀쌀씰쌀씰쌀씰쌀쌀씰쌀씰쌀씰쌀쌀씰쌀씰쌀씰쌀쌀씰쌀씰쌀씰쌀쌀씰쌀씰쌀씰쌀쌀씰쌀씰쌀씰쌀쌀씰쌀씰쌀씰쌀쌀씰쌀씰쌀씰쌀쌀씰쌀씰쌀씰쌀쌀씰쌀씰쌀씰쌀쌀씰쌀씰쌀씰쌀쌀씰쌀씰쌀씰쌀쌀씰쌀씰쌀씰쌀쌀씰쌀씰쌀씰쌀쌀씰쌀씰쌀씰쌀쌀씰쌀씰쌀씰쌀쌀씰쌀씰쌀씰쌀쌀씰쌀씰쌀씰쌀쌀씰쌀씰쌀씰쌀쌀씰쌀씰쌀씰쌀쌀씰쌀씰쌀씰쌀쌀씰쌀씰쌀씰쌀쌀씰쌀씰쌀씰쌀쌀씰쌀씰쌀씰쌀쌀씰쌀씰쌀씰쌀쌀씰쌀씰쌀씰쌀쌀씰쌀씰쌀씰쌀쌀씰쌀씰쌀씰쌀쌀씰쌀씰쌀씰쌀쌀씰쌀씰쌀씰쌀쌀씰쌀씰쌀씰쌀쌀씰쌀씰쌀씰쌀쌀씰쌀씰쌀씰쌀쌀씰쌀씰쌀씰쌀쌀씰쌀씰쌀씰쌀쌀씰쌀씰쌀씰쌀쌀씰쌀씰쌀씰쌀쌀씰쌀씰쌀씰쌀쌀씰쌀씰쌀씰쌀쌀씰쌀씰쌀씰쌀쌀씰쌀씰쌀씰쌀쌀씰쌀씰쌀씰쌀쌀씰쌀씰쌀씰쌀쌀씰쌀씰쌀씰쌀쌀씰쌀씰쌀씰쌀쌀씰쌀씰쌀씰쌀쌀씰쌀씰쌀씰쌀쌀씰쌀씰쌀씰쌀쌀씰쌀씰쌀씰쌀쌀씰쌀씰쌀씰쌀쌀씰쌀씰쌀씰쌀쌀씰쌀씰쌀씰쌀쌀씰쌀씰쌀씰쌀쌀씰쌀씰쌀씰쌀쌀씰쌀씰쌀씰쌀쌀씰쌀씰\"\n",
        "\n"
      ]
    },
    {
      "cell_type": "code",
      "metadata": {
        "id": "WsQBaleWvyxz"
      },
      "source": [
        "mix = \"쌀씰쌀쌀씰쌀씰쌀씰쌀쌀씰쌀씰쌀씰쌀쌀씰쌀씰쌀씰쌀쌀씰쌀씰쌀씰쌀쌀씰쌀씰쌀씰쌀쌀씰쌀씰쌀씰쌀쌀씰쌀씰쌀씰쌀쌀씰쌀씰쌀씰쌀쌀씰쌀씰쌀씰쌀쌀씰쌀씰쌀씰쌀쌀씰쌀씰쌀씰쌀쌀씰쌀씰쌀씰쌀쌀씰쌀씰쌀씰쌀쌀씰쌀씰쌀씰쌀쌀씰쌀씰쌀씰쌀쌀씰쌀씰쌀씰쌀쌀씰쌀씰쌀씰쌀쌀씰쌀씰쌀씰쌀쌀씰쌀씰쌀씰쌀쌀씰쌀씰쌀씰쌀쌀씰쌀씰쌀씰쌀쌀씰쌀씰쌀씰쌀쌀씰쌀씰쌀씰쌀쌀씰쌀씰쌀씰쌀쌀씰쌀씰쌀씰쌀쌀씰쌀씰쌀씰쌀쌀씰쌀씰쌀씰쌀쌀씰쌀씰쌀씰쌀쌀씰쌀씰쌀씰쌀쌀씰쌀씰쌀씰쌀쌀씰쌀씰쌀씰쌀쌀씰쌀씰쌀씰쌀쌀씰쌀씰쌀씰쌀쌀씰쌀씰쌀씰쌀쌀씰쌀씰쌀씰쌀쌀씰쌀씰쌀씰쌀쌀씰쌀씰쌀씰쌀쌀씰쌀씰쌀씰쌀쌀씰쌀씰쌀씰쌀쌀씰쌀씰쌀씰쌀쌀씰쌀씰쌀씰쌀쌀씰쌀씰쌀씰쌀쌀씰쌀씰쌀씰쌀쌀씰쌀씰쌀씰쌀쌀씰쌀씰쌀씰쌀쌀씰쌀씰쌀씰쌀쌀씰쌀씰쌀씰쌀쌀씰쌀씰쌀씰쌀쌀씰쌀씰쌀씰쌀쌀씰쌀씰쌀씰쌀쌀씰쌀씰쌀씰쌀쌀씰쌀씰쌀씰쌀쌀씰쌀씰쌀씰쌀쌀씰쌀씰쌀씰쌀쌀씰쌀씰쌀씰쌀쌀씰쌀씰쌀씰쌀쌀씰쌀씰쌀씰쌀쌀씰쌀씰쌀씰쌀쌀씰쌀씰쌀씰쌀쌀씰쌀씰쌀씰쌀쌀씰쌀씰쌀씰쌀쌀씰쌀씰쌀씰쌀쌀씰쌀씰쌀씰쌀쌀씰쌀씰쌀씰쌀쌀씰쌀씰쌀씰쌀쌀씰쌀씰쌀씰쌀쌀씰쌀씰쌀씰쌀쌀씰쌀씰쌀씰쌀쌀씰쌀씰쌀씰쌀쌀씰쌀씰쌀씰쌀쌀씰쌀씰쌀씰쌀쌀씰쌀씰쌀씰쌀쌀씰쌀씰쌀씰쌀쌀씰쌀씰쌀씰쌀쌀씰쌀씰\""
      ],
      "execution_count": 9,
      "outputs": []
    },
    {
      "cell_type": "code",
      "metadata": {
        "colab": {
          "base_uri": "https://localhost:8080/"
        },
        "id": "9h4yvXg-vSg7",
        "outputId": "5b19d31b-e203-4b46-c4b9-781ef2b2eb9d"
      },
      "source": [
        "\n",
        "count_ssal = 0\n",
        "for i in mix:\n",
        "    if i == '쌀':\n",
        "        count_ssal +=1\n",
        "print(count_ssal)"
      ],
      "execution_count": 10,
      "outputs": [
        {
          "output_type": "stream",
          "text": [
            "300\n"
          ],
          "name": "stdout"
        }
      ]
    },
    {
      "cell_type": "markdown",
      "metadata": {
        "id": "jAi07cMp0Zqu"
      },
      "source": [
        "반복할 숫자의 범위를 알고있다면? range(__ , __)!\n",
        "\n",
        "연속된 정수를 담은 시퀀스가 필요한 경우에는, 이를 만들어주는 함수 range()를 사용합니다.\n",
        "\n",
        "range(a, b) : a 이상 b 미만의 연속된 정수가 담긴 시퀀스를 만들어주는 함수\n",
        "따라서 다음과 같이 작성하면 1부터 100까지 숫자를 한줄에 하나씩 출력합니다."
      ]
    },
    {
      "cell_type": "code",
      "metadata": {
        "id": "T_B3G6100bkY"
      },
      "source": [
        "for i in range(1, 101):\n",
        "    print(i)\n",
        "\n"
      ],
      "execution_count": null,
      "outputs": []
    },
    {
      "cell_type": "markdown",
      "metadata": {
        "id": "oEGzCvL90iGi"
      },
      "source": [
        "반복할 횟수를 알고있다면? range(__)!\n",
        "\n",
        "반복할 횟수를 알고 있는 경우에는, range()를 이용해서 편하게 반복문을 만들 수 있습니다.\n",
        "\n",
        "range(a) : a번 반복\n",
        "따라서 다음과 같이 작성하면 “안녕!”을 5번 출력합니다."
      ]
    },
    {
      "cell_type": "code",
      "metadata": {
        "id": "812gzrb30jmm"
      },
      "source": [
        "for i in range(5):\n",
        "    print(\"안녕!\")\n"
      ],
      "execution_count": null,
      "outputs": []
    },
    {
      "cell_type": "code",
      "metadata": {
        "id": "zBkF6pYx1Car"
      },
      "source": [
        "for i in range(5):\n",
        "        print(\"I Love Python!\")\n"
      ],
      "execution_count": null,
      "outputs": []
    },
    {
      "cell_type": "markdown",
      "metadata": {
        "id": "eKGH3aJE2NnV"
      },
      "source": [
        "19단을 외자!\n",
        "\n",
        "초등학교 2학년, 삼일은 삼, 삼이는 육…\n",
        "구구단을 열심히 외웠던 기억! 다들 있으신가요?\n",
        "그런데 인도에서는 무려 19단까지 외운다고 해요!\n",
        "\n",
        "하지만 우리는 19단을 할 줄 모르죠…\n",
        "for와 range를 이용해\n",
        "이를 컴퓨터에게 대신 시켜봅시다!\n",
        "\n",
        "19단을 외워 아래의 결과처럼 출력해보아요!"
      ]
    },
    {
      "cell_type": "code",
      "metadata": {
        "id": "_26C0gIR2Ijg"
      },
      "source": [
        "#for-range()를 이용해서 19단을 전부 출력해봅시다!\n",
        "for i in range(1, 20):\n",
        "\n",
        "    print(\"19 *\",i,\"=\",19*i)"
      ],
      "execution_count": null,
      "outputs": []
    }
  ]
}