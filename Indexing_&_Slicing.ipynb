{
  "nbformat": 4,
  "nbformat_minor": 0,
  "metadata": {
    "colab": {
      "name": " Indexing & Slicing.ipynb",
      "provenance": [],
      "authorship_tag": "ABX9TyNI3rNHFkDXV3AkCZnzibS9",
      "include_colab_link": true
    },
    "kernelspec": {
      "name": "python3",
      "display_name": "Python 3"
    },
    "language_info": {
      "name": "python"
    }
  },
  "cells": [
    {
      "cell_type": "markdown",
      "metadata": {
        "id": "view-in-github",
        "colab_type": "text"
      },
      "source": [
        "<a href=\"https://colab.research.google.com/github/Raziel-JKM/Python/blob/python/Indexing_%26_Slicing.ipynb\" target=\"_parent\"><img src=\"https://colab.research.google.com/assets/colab-badge.svg\" alt=\"Open In Colab\"/></a>"
      ]
    },
    {
      "cell_type": "markdown",
      "metadata": {
        "id": "u8jphJpfmPPG"
      },
      "source": [
        "##Indexing & Slicing"
      ]
    },
    {
      "cell_type": "code",
      "metadata": {
        "colab": {
          "base_uri": "https://localhost:8080/"
        },
        "id": "rkJttFMzmmEZ",
        "outputId": "b02bab38-3d0b-4f3b-d123-4a58e3c90a22"
      },
      "source": [
        "import numpy as np\n",
        "\n",
        "matrix = np.arange(1, 13, 1).reshape(3, 4)\n",
        "print(matrix)\n",
        "\n",
        "# 1. Indexing을 통해 값 2를 출력해보세요.\n",
        "answer1 = matrix[0, 1]\n",
        "\n",
        "# 2. Slicing을 통해 매트릭스 일부인 9, 10을 가져와 출력해보세요.\n",
        "answer2 = matrix[2:, :2] #matrix[2, 2]\n",
        "\n",
        "# 3. Boolean indexing을 통해 5보다 작은 수를 찾아 출력해보세요.\n",
        "answer3 = matrix[matrix<5]\n",
        "\n",
        "# 4. Fancy indexing을 통해 두 번째 행만 추출하여 출력해보세요.\n",
        "answer4 = matrix[[1]] #matrix[2]\n",
        "\n",
        "# 위에서 구한 정답을 출력해봅시다.\n",
        "print(answer1)\n",
        "print(answer2)\n",
        "print(answer3)\n",
        "print(answer4)"
      ],
      "execution_count": 7,
      "outputs": [
        {
          "output_type": "stream",
          "text": [
            "[[ 1  2  3  4]\n",
            " [ 5  6  7  8]\n",
            " [ 9 10 11 12]]\n",
            "2\n",
            "[[ 9 10]]\n",
            "[1 2 3 4]\n",
            "[[5 6 7 8]]\n"
          ],
          "name": "stdout"
        }
      ]
    },
    {
      "cell_type": "markdown",
      "metadata": {
        "id": "QGn607LtnYah"
      },
      "source": [
        "배열의 인덱스를 활용하여 값을 찾아내거나 배열의 일부분을 가져올 수 있습니다. 이를 Indexing & Slicing이라 합니다."
      ]
    },
    {
      "cell_type": "code",
      "metadata": {
        "colab": {
          "base_uri": "https://localhost:8080/",
          "height": 131
        },
        "id": "QPdo1U7NnZ-H",
        "outputId": "88c9862b-4335-490b-b29f-f85188c380dd"
      },
      "source": [
        "x = np.arang(7)\n",
        "print(x[3])  # 3\n",
        "print(x[1:4]  # [1 2 3]\n"
      ],
      "execution_count": 6,
      "outputs": [
        {
          "output_type": "error",
          "ename": "SyntaxError",
          "evalue": "ignored",
          "traceback": [
            "\u001b[0;36m  File \u001b[0;32m\"<ipython-input-6-b1e14152a261>\"\u001b[0;36m, line \u001b[0;32m3\u001b[0m\n\u001b[0;31m    print(x[1:4]  # [1 2 3]\u001b[0m\n\u001b[0m                           ^\u001b[0m\n\u001b[0;31mSyntaxError\u001b[0m\u001b[0;31m:\u001b[0m unexpected EOF while parsing\n"
          ]
        }
      ]
    },
    {
      "cell_type": "markdown",
      "metadata": {
        "id": "nKyBuA7knQgr"
      },
      "source": [
        "Boolean mask를 이용하여 원하는 값을 추출하는 것은 Boolean indexing이라 합니다."
      ]
    },
    {
      "cell_type": "code",
      "metadata": {
        "colab": {
          "base_uri": "https://localhost:8080/"
        },
        "id": "wgUzKww3nSCG",
        "outputId": "1b3118e7-e40e-4315-b1bb-73f48fbf88ae"
      },
      "source": [
        "x = np.arange(7)\n",
        "print(x[x < 3])  # [0 1 2]\n",
        "print(x[x % 2 == 0])  # [2 4 6]\n"
      ],
      "execution_count": 4,
      "outputs": [
        {
          "output_type": "stream",
          "text": [
            "[0 1 2]\n",
            "[0 2 4 6]\n"
          ],
          "name": "stdout"
        }
      ]
    },
    {
      "cell_type": "markdown",
      "metadata": {
        "id": "brCuJHcMmTop"
      },
      "source": [
        "배열의 각 요소 선택을 Index 배열을 전달하여 지정하는 방식은 Fancy indexing이라 합니다.\n",
        "\n"
      ]
    },
    {
      "cell_type": "code",
      "metadata": {
        "id": "DBOT3CgHnI76"
      },
      "source": [
        "x = np.arange(7)\n",
        "print(x[[1, 3, 5]]  # [1 3 5]"
      ],
      "execution_count": null,
      "outputs": []
    }
  ]
}