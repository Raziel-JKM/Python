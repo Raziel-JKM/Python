{
  "nbformat": 4,
  "nbformat_minor": 0,
  "metadata": {
    "colab": {
      "name": "[데이터 분석을 위한 라이브러리] 03.ipynb",
      "provenance": [],
      "authorship_tag": "ABX9TyPPNCjlZZs29XzZeVGHPL3p",
      "include_colab_link": true
    },
    "kernelspec": {
      "name": "python3",
      "display_name": "Python 3"
    },
    "language_info": {
      "name": "python"
    }
  },
  "cells": [
    {
      "cell_type": "markdown",
      "metadata": {
        "id": "view-in-github",
        "colab_type": "text"
      },
      "source": [
        "<a href=\"https://colab.research.google.com/github/Raziel-JKM/Python/blob/python/%5B%EB%8D%B0%EC%9D%B4%ED%84%B0_%EB%B6%84%EC%84%9D%EC%9D%84_%EC%9C%84%ED%95%9C_%EB%9D%BC%EC%9D%B4%EB%B8%8C%EB%9F%AC%EB%A6%AC%5D_03.ipynb\" target=\"_parent\"><img src=\"https://colab.research.google.com/assets/colab-badge.svg\" alt=\"Open In Colab\"/></a>"
      ]
    },
    {
      "cell_type": "markdown",
      "metadata": {
        "id": "_b9_s3iU8vR6"
      },
      "source": [
        "##Series"
      ]
    },
    {
      "cell_type": "code",
      "metadata": {
        "colab": {
          "base_uri": "https://localhost:8080/"
        },
        "id": "pG3xPCdM7vzC",
        "outputId": "f78635fc-00f2-4b74-aa9d-a4b70383cfea"
      },
      "source": [
        "import pandas as pd\n",
        "\n",
        "data = pd.Series([1,2,3,4])\n",
        "print(data)"
      ],
      "execution_count": 35,
      "outputs": [
        {
          "output_type": "stream",
          "text": [
            "0    1\n",
            "1    2\n",
            "2    3\n",
            "3    4\n",
            "dtype: int64\n"
          ],
          "name": "stdout"
        }
      ]
    },
    {
      "cell_type": "markdown",
      "metadata": {
        "id": "MSAXZM1o-fnF"
      },
      "source": [
        "앞 0123은 인덱스\n",
        "\n",
        "뒤 1234 데이터\n",
        "\n",
        "\n"
      ]
    },
    {
      "cell_type": "code",
      "metadata": {
        "colab": {
          "base_uri": "https://localhost:8080/"
        },
        "id": "FznNU5zx8pXg",
        "outputId": "d79b7aaf-2f7f-40de-e12e-c2f9ed366635"
      },
      "source": [
        "print(type(data))"
      ],
      "execution_count": 36,
      "outputs": [
        {
          "output_type": "stream",
          "text": [
            "<class 'pandas.core.series.Series'>\n"
          ],
          "name": "stdout"
        }
      ]
    },
    {
      "cell_type": "code",
      "metadata": {
        "colab": {
          "base_uri": "https://localhost:8080/"
        },
        "id": "rEbYXvNK-vDS",
        "outputId": "a74187c7-06b8-4500-d52f-094bd0de4eca"
      },
      "source": [
        "print(data.values)"
      ],
      "execution_count": 37,
      "outputs": [
        {
          "output_type": "stream",
          "text": [
            "[1 2 3 4]\n"
          ],
          "name": "stdout"
        }
      ]
    },
    {
      "cell_type": "code",
      "metadata": {
        "colab": {
          "base_uri": "https://localhost:8080/"
        },
        "id": "KyfaudWg-yXx",
        "outputId": "b0decfc0-8d1a-413d-a7d4-20dd27b259a5"
      },
      "source": [
        "print(type(data.values))"
      ],
      "execution_count": 38,
      "outputs": [
        {
          "output_type": "stream",
          "text": [
            "<class 'numpy.ndarray'>\n"
          ],
          "name": "stdout"
        }
      ]
    },
    {
      "cell_type": "markdown",
      "metadata": {
        "id": "cZI80MIoBOjH"
      },
      "source": [
        "2. Index를 지정할 수 있고 인덱스로 접근 가능"
      ]
    },
    {
      "cell_type": "code",
      "metadata": {
        "colab": {
          "base_uri": "https://localhost:8080/"
        },
        "id": "ok7DI_pM-2wN",
        "outputId": "652bf265-fc68-426c-d4ba-f7416ea6a932"
      },
      "source": [
        "data = pd.Series([1,2,3,4], index = ['a','b','c','d'])\n",
        "print(data)"
      ],
      "execution_count": 39,
      "outputs": [
        {
          "output_type": "stream",
          "text": [
            "a    1\n",
            "b    2\n",
            "c    3\n",
            "d    4\n",
            "dtype: int64\n"
          ],
          "name": "stdout"
        }
      ]
    },
    {
      "cell_type": "code",
      "metadata": {
        "colab": {
          "base_uri": "https://localhost:8080/"
        },
        "id": "bVT2yeIcB1QW",
        "outputId": "dd1ff0b3-5832-4651-b742-86f8911bd24a"
      },
      "source": [
        "data['c']=5\n",
        "#인덱스로 접급하여 요소 변경가능\n",
        "print(data)"
      ],
      "execution_count": 40,
      "outputs": [
        {
          "output_type": "stream",
          "text": [
            "a    1\n",
            "b    2\n",
            "c    5\n",
            "d    4\n",
            "dtype: int64\n"
          ],
          "name": "stdout"
        }
      ]
    },
    {
      "cell_type": "markdown",
      "metadata": {
        "id": "ci-RqhyBCiGs"
      },
      "source": [
        "Dictionary를 활용하여 Series 생성 가능"
      ]
    },
    {
      "cell_type": "code",
      "metadata": {
        "id": "WWZtHAmvB9Ty"
      },
      "source": [
        "population_dict ={\n",
        "      'china': 141500,\n",
        "      'japan': 12718,\n",
        "      'korea' : 5180,\n",
        "      'usa' : 32676\n",
        "}"
      ],
      "execution_count": 41,
      "outputs": []
    },
    {
      "cell_type": "code",
      "metadata": {
        "colab": {
          "base_uri": "https://localhost:8080/"
        },
        "id": "XxOHZSRmD_al",
        "outputId": "9bd4c8d7-c8a0-47ac-e2b1-3db2e55e8b61"
      },
      "source": [
        "poplation = pd.Series(population_dict)\n",
        "print(poplation)"
      ],
      "execution_count": 42,
      "outputs": [
        {
          "output_type": "stream",
          "text": [
            "china    141500\n",
            "japan     12718\n",
            "korea      5180\n",
            "usa       32676\n",
            "dtype: int64\n"
          ],
          "name": "stdout"
        }
      ]
    },
    {
      "cell_type": "markdown",
      "metadata": {
        "id": "Rxq_vsI8qaou"
      },
      "source": [
        "\n",
        "\n",
        "---\n",
        "\n"
      ]
    },
    {
      "cell_type": "code",
      "metadata": {
        "colab": {
          "base_uri": "https://localhost:8080/"
        },
        "id": "zhQZzhKPEKSg",
        "outputId": "f916a104-9c21-488a-8278-08416b5766ec"
      },
      "source": [
        "import numpy as np\n",
        "import pandas as pd\n",
        "\n",
        "#예시) 시리즈 데이터를 만드는 방법\n",
        "\n",
        "series = pd.Series([1,2,3,4,], index = ['a','b','c','d'], name = \"Title\")\n",
        "print(series, \"\\n\")"
      ],
      "execution_count": 43,
      "outputs": [
        {
          "output_type": "stream",
          "text": [
            "a    1\n",
            "b    2\n",
            "c    3\n",
            "d    4\n",
            "Name: Title, dtype: int64 \n",
            "\n"
          ],
          "name": "stdout"
        }
      ]
    },
    {
      "cell_type": "code",
      "metadata": {
        "colab": {
          "base_uri": "https://localhost:8080/"
        },
        "id": "LrwfKWzdq4Lw",
        "outputId": "998b3356-b3e8-4a6c-996f-ce5a1a1fbbcd"
      },
      "source": [
        "#국가별 인구 수 시리즈 데이터를 딕셔너리를 사용하여 만들어보세요.\n",
        "dict = {\n",
        "'korea': 5180,\n",
        "'japan' : 12718,\n",
        "'china': 141500,\n",
        "'usa': 32676\n",
        "}\n",
        "population = pd.Series(dict) #dic을 컨츄리로 만들어 준다\n",
        "print(population)\n",
        "#데이터 타입 정수, 시리즈에 잘 들어감을 확인"
      ],
      "execution_count": 44,
      "outputs": [
        {
          "output_type": "stream",
          "text": [
            "korea      5180\n",
            "japan     12718\n",
            "china    141500\n",
            "usa       32676\n",
            "dtype: int64\n"
          ],
          "name": "stdout"
        }
      ]
    },
    {
      "cell_type": "markdown",
      "metadata": {
        "id": "xWKYzM-qtHPk"
      },
      "source": [
        "\n",
        "\n",
        "---\n",
        "\n"
      ]
    },
    {
      "cell_type": "markdown",
      "metadata": {
        "id": "cBmVT6gKtIVP"
      },
      "source": [
        "여러 개의 Series 가 모여서 행과 열을 이룬 데이터"
      ]
    },
    {
      "cell_type": "code",
      "metadata": {
        "id": "8zyJ4DC-rUfB"
      },
      "source": [
        "gdp_dict = {\n",
        "    'china':1409250000,\n",
        "    'japan':516700000,\n",
        "    'korea':169320000,\n",
        "    'usa':2041280000\n",
        "}\n",
        "\n",
        "gdp = pd.Series(gdp_dict)"
      ],
      "execution_count": 45,
      "outputs": []
    },
    {
      "cell_type": "code",
      "metadata": {
        "colab": {
          "base_uri": "https://localhost:8080/"
        },
        "id": "wImxjDmLsLXA",
        "outputId": "2c90d86d-f427-4225-cdd1-1e12af2f0f06"
      },
      "source": [
        "country = pd.DataFrame({\n",
        "    'gdp':gdp,\n",
        "    'population':population\n",
        "})\n",
        "print(country)"
      ],
      "execution_count": 46,
      "outputs": [
        {
          "output_type": "stream",
          "text": [
            "              gdp  population\n",
            "china  1409250000      141500\n",
            "japan   516700000       12718\n",
            "korea   169320000        5180\n",
            "usa    2041280000       32676\n"
          ],
          "name": "stdout"
        }
      ]
    },
    {
      "cell_type": "markdown",
      "metadata": {
        "id": "RfmYJu8Au6ZD"
      },
      "source": [
        "Dictionary를 활용하여 DataFrame 생성 가능"
      ]
    },
    {
      "cell_type": "code",
      "metadata": {
        "colab": {
          "base_uri": "https://localhost:8080/"
        },
        "id": "t9II9YWft4Vm",
        "outputId": "8197bcd5-704a-4899-ad5a-de9aad225953"
      },
      "source": [
        "data = {\n",
        "    'country':['china','japan','korea','usa'],\n",
        "    'gdp':[1409250000, 516700000,169320000,2041280000],\n",
        "    'population':[141500,12718,5180,32676]\n",
        "    }\n",
        "country = pd.DataFrame(data) #데이터 프레임에 넣고\n",
        "\n",
        "#country_ = country.set_index('country')\n",
        "print(country)\n",
        "#print(data)"
      ],
      "execution_count": 47,
      "outputs": [
        {
          "output_type": "stream",
          "text": [
            "  country         gdp  population\n",
            "0   china  1409250000      141500\n",
            "1   japan   516700000       12718\n",
            "2   korea   169320000        5180\n",
            "3     usa  2041280000       32676\n"
          ],
          "name": "stdout"
        }
      ]
    },
    {
      "cell_type": "markdown",
      "metadata": {
        "id": "vamLbZOpxOsX"
      },
      "source": [
        "1.딕셔너리는 {}로 표시\n",
        "\n",
        "2.시리즈는 ([])\n",
        "\n",
        "3.시리즈에서는 데이터 프레임을 만들 수 있다.\n",
        "\n",
        "4.딕셔너리에서 바로 데이터 프레임을 만들수 있다."
      ]
    },
    {
      "cell_type": "code",
      "metadata": {
        "colab": {
          "base_uri": "https://localhost:8080/"
        },
        "id": "A_nmNG2jvfgJ",
        "outputId": "58bba401-777d-4bb7-fe1d-bfc1ea6824b9"
      },
      "source": [
        "#DataFrame 속성을 확인하는 방법\n",
        "\n",
        "print(country.shape)\n",
        "print(country.size)\n",
        "print(country.ndim)\n",
        "#print(country.value)"
      ],
      "execution_count": 48,
      "outputs": [
        {
          "output_type": "stream",
          "text": [
            "(4, 3)\n",
            "12\n",
            "2\n"
          ],
          "name": "stdout"
        }
      ]
    },
    {
      "cell_type": "markdown",
      "metadata": {
        "id": "Mbhskp4syCGM"
      },
      "source": [
        "#DataFrame의 index와 column에 이름 지정"
      ]
    },
    {
      "cell_type": "markdown",
      "metadata": {
        "id": "B3qp2D0RyP0O"
      },
      "source": [
        ""
      ]
    },
    {
      "cell_type": "code",
      "metadata": {
        "colab": {
          "base_uri": "https://localhost:8080/"
        },
        "id": "eGYzNg_OySW_",
        "outputId": "71f51ece-dad1-4e5f-84f1-ae72b1d2a2a9"
      },
      "source": [
        "country.index.name = \"country\" #인덱스에 이름 지정\n",
        "country.columns.name = \"Info\" #컬럼에 이름 지정\n",
        "\n",
        "print(country.index)\n",
        "print(country.columns)"
      ],
      "execution_count": 49,
      "outputs": [
        {
          "output_type": "stream",
          "text": [
            "RangeIndex(start=0, stop=4, step=1, name='country')\n",
            "Index(['country', 'gdp', 'population'], dtype='object', name='Info')\n"
          ],
          "name": "stdout"
        }
      ]
    },
    {
      "cell_type": "markdown",
      "metadata": {
        "id": "vc-KZA1wy7tJ"
      },
      "source": [
        "데이터 프레임 저장 및 불러오기 기능"
      ]
    },
    {
      "cell_type": "code",
      "metadata": {
        "id": "Kr2teU3lyw_P"
      },
      "source": [
        "country.to_csv(\"./country.csv\")\n",
        "country.to_excel(\"./country.xlsx\")\n",
        "\n",
        "country = pd.read_csv(\"./country.csv\")\n",
        "country = pd.read_csv(\"./country.xlsx\")\n"
      ],
      "execution_count": 50,
      "outputs": []
    },
    {
      "cell_type": "markdown",
      "metadata": {
        "id": "Sag_RDA92wvt"
      },
      "source": [
        "##실습"
      ]
    },
    {
      "cell_type": "code",
      "metadata": {
        "colab": {
          "base_uri": "https://localhost:8080/"
        },
        "id": "_yQ_1jeryq1w",
        "outputId": "dfaa7e89-e5f9-4593-eb60-98986818fae3"
      },
      "source": [
        "import numpy as np\n",
        "import pandas as pd\n",
        "\n",
        "# 두 개의 시리즈 데이터가 있습니다.\n",
        "print(\"Population series data:\")\n",
        "population_dict = {\n",
        "    'korea': 5180,\n",
        "    'japan': 12718,\n",
        "    'china': 141500,\n",
        "    'usa': 32676\n",
        "}\n",
        "population = pd.Series(population_dict)\n",
        "print(population, \"\\n\")\n",
        "\n",
        "print(\"GDP series data:\")\n",
        "gdp_dict = {\n",
        "    'korea': 169320000,\n",
        "    'japan': 516700000,\n",
        "    'china': 1409250000,\n",
        "    'usa': 2041280000,\n",
        "}\n",
        "gdp = pd.Series(gdp_dict)\n",
        "print(gdp, \"\\n\")\n",
        "\n",
        "\n",
        "# 이곳에서 2개의 시리즈 값이 들어간 데이터프레임을 생성합니다.\n",
        "print(\"Country DataFrame\")\n",
        "country = None\n"
      ],
      "execution_count": 51,
      "outputs": [
        {
          "output_type": "stream",
          "text": [
            "Population series data:\n",
            "korea      5180\n",
            "japan     12718\n",
            "china    141500\n",
            "usa       32676\n",
            "dtype: int64 \n",
            "\n",
            "GDP series data:\n",
            "korea     169320000\n",
            "japan     516700000\n",
            "china    1409250000\n",
            "usa      2041280000\n",
            "dtype: int64 \n",
            "\n",
            "Country DataFrame\n"
          ],
          "name": "stdout"
        }
      ]
    },
    {
      "cell_type": "code",
      "metadata": {
        "colab": {
          "base_uri": "https://localhost:8080/"
        },
        "id": "lFy7U24n2uJ4",
        "outputId": "f76551e9-c62e-4147-ffa0-a59f89b62c60"
      },
      "source": [
        "# 이곳에서 2개의 시리즈 값이 들어간 데이터프레임을 생성합니다.\n",
        "print(\"Country DataFrame\")\n",
        "country = pd.DataFrame({\n",
        "    'population':population,\n",
        "    'gdp':gdp\n",
        "})\n",
        "\n",
        "print(country)\n"
      ],
      "execution_count": 52,
      "outputs": [
        {
          "output_type": "stream",
          "text": [
            "Country DataFrame\n",
            "       population         gdp\n",
            "korea        5180   169320000\n",
            "japan       12718   516700000\n",
            "china      141500  1409250000\n",
            "usa         32676  2041280000\n"
          ],
          "name": "stdout"
        }
      ]
    },
    {
      "cell_type": "markdown",
      "metadata": {
        "id": "zLD4vAOz5TtH"
      },
      "source": [
        "\n",
        "\n",
        "---\n",
        "\n",
        "\n",
        "\n",
        "---\n",
        "\n",
        "##03 데이터 선택 및 변경하기"
      ]
    },
    {
      "cell_type": "markdown",
      "metadata": {
        "id": "RuS6U5fE5f0D"
      },
      "source": [
        ".loc : 몇시적인 인덱스를 참조하는 인덱싱 / 슬라이싱"
      ]
    },
    {
      "cell_type": "code",
      "metadata": {
        "colab": {
          "base_uri": "https://localhost:8080/"
        },
        "id": "3iUfqkVP4uFt",
        "outputId": "7ee0a296-30c5-42d5-f90b-45a2b3bb1725"
      },
      "source": [
        "country.loc['china'] # 인덱스가 차이나인 값을 구하라"
      ],
      "execution_count": 53,
      "outputs": [
        {
          "output_type": "execute_result",
          "data": {
            "text/plain": [
              "population        141500\n",
              "gdp           1409250000\n",
              "Name: china, dtype: int64"
            ]
          },
          "metadata": {
            "tags": []
          },
          "execution_count": 53
        }
      ]
    },
    {
      "cell_type": "code",
      "metadata": {
        "colab": {
          "base_uri": "https://localhost:8080/",
          "height": 112
        },
        "id": "jc3KaCC45vIi",
        "outputId": "e7428a97-9748-44b8-dbc6-8232cf390588"
      },
      "source": [
        "country.loc['japan':'china', :'population'] # 인덱스가 차이나인 값을 구하라 (인덱스 , 컬럼)"
      ],
      "execution_count": 54,
      "outputs": [
        {
          "output_type": "execute_result",
          "data": {
            "text/html": [
              "<div>\n",
              "<style scoped>\n",
              "    .dataframe tbody tr th:only-of-type {\n",
              "        vertical-align: middle;\n",
              "    }\n",
              "\n",
              "    .dataframe tbody tr th {\n",
              "        vertical-align: top;\n",
              "    }\n",
              "\n",
              "    .dataframe thead th {\n",
              "        text-align: right;\n",
              "    }\n",
              "</style>\n",
              "<table border=\"1\" class=\"dataframe\">\n",
              "  <thead>\n",
              "    <tr style=\"text-align: right;\">\n",
              "      <th></th>\n",
              "      <th>population</th>\n",
              "    </tr>\n",
              "  </thead>\n",
              "  <tbody>\n",
              "    <tr>\n",
              "      <th>japan</th>\n",
              "      <td>12718</td>\n",
              "    </tr>\n",
              "    <tr>\n",
              "      <th>china</th>\n",
              "      <td>141500</td>\n",
              "    </tr>\n",
              "  </tbody>\n",
              "</table>\n",
              "</div>"
            ],
            "text/plain": [
              "       population\n",
              "japan       12718\n",
              "china      141500"
            ]
          },
          "metadata": {
            "tags": []
          },
          "execution_count": 54
        }
      ]
    },
    {
      "cell_type": "markdown",
      "metadata": {
        "id": "n28OzSCn6PNg"
      },
      "source": [
        ".iloc : 파이썬 스타일의 정수 인덱스 인덱싱/슬라이싱"
      ]
    },
    {
      "cell_type": "code",
      "metadata": {
        "colab": {
          "base_uri": "https://localhost:8080/"
        },
        "id": "kwe4YFOg6An4",
        "outputId": "de713753-ee5a-4be2-dcc4-3aad36ae1f9c"
      },
      "source": [
        "country.iloc[0]"
      ],
      "execution_count": 55,
      "outputs": [
        {
          "output_type": "execute_result",
          "data": {
            "text/plain": [
              "population         5180\n",
              "gdp           169320000\n",
              "Name: korea, dtype: int64"
            ]
          },
          "metadata": {
            "tags": []
          },
          "execution_count": 55
        }
      ]
    },
    {
      "cell_type": "code",
      "metadata": {
        "colab": {
          "base_uri": "https://localhost:8080/",
          "height": 112
        },
        "id": "GRBjxnJL6dkH",
        "outputId": "ab339141-0667-497b-f4f0-34b69d50b8de"
      },
      "source": [
        "country.iloc[1:3,:2]"
      ],
      "execution_count": 56,
      "outputs": [
        {
          "output_type": "execute_result",
          "data": {
            "text/html": [
              "<div>\n",
              "<style scoped>\n",
              "    .dataframe tbody tr th:only-of-type {\n",
              "        vertical-align: middle;\n",
              "    }\n",
              "\n",
              "    .dataframe tbody tr th {\n",
              "        vertical-align: top;\n",
              "    }\n",
              "\n",
              "    .dataframe thead th {\n",
              "        text-align: right;\n",
              "    }\n",
              "</style>\n",
              "<table border=\"1\" class=\"dataframe\">\n",
              "  <thead>\n",
              "    <tr style=\"text-align: right;\">\n",
              "      <th></th>\n",
              "      <th>population</th>\n",
              "      <th>gdp</th>\n",
              "    </tr>\n",
              "  </thead>\n",
              "  <tbody>\n",
              "    <tr>\n",
              "      <th>japan</th>\n",
              "      <td>12718</td>\n",
              "      <td>516700000</td>\n",
              "    </tr>\n",
              "    <tr>\n",
              "      <th>china</th>\n",
              "      <td>141500</td>\n",
              "      <td>1409250000</td>\n",
              "    </tr>\n",
              "  </tbody>\n",
              "</table>\n",
              "</div>"
            ],
            "text/plain": [
              "       population         gdp\n",
              "japan       12718   516700000\n",
              "china      141500  1409250000"
            ]
          },
          "metadata": {
            "tags": []
          },
          "execution_count": 56
        }
      ]
    },
    {
      "cell_type": "code",
      "metadata": {
        "colab": {
          "base_uri": "https://localhost:8080/",
          "height": 175
        },
        "id": "5hOlM0Do6hDc",
        "outputId": "a8f18813-83b3-4765-b61b-b30b9a2d4c96"
      },
      "source": [
        "country "
      ],
      "execution_count": 57,
      "outputs": [
        {
          "output_type": "execute_result",
          "data": {
            "text/html": [
              "<div>\n",
              "<style scoped>\n",
              "    .dataframe tbody tr th:only-of-type {\n",
              "        vertical-align: middle;\n",
              "    }\n",
              "\n",
              "    .dataframe tbody tr th {\n",
              "        vertical-align: top;\n",
              "    }\n",
              "\n",
              "    .dataframe thead th {\n",
              "        text-align: right;\n",
              "    }\n",
              "</style>\n",
              "<table border=\"1\" class=\"dataframe\">\n",
              "  <thead>\n",
              "    <tr style=\"text-align: right;\">\n",
              "      <th></th>\n",
              "      <th>population</th>\n",
              "      <th>gdp</th>\n",
              "    </tr>\n",
              "  </thead>\n",
              "  <tbody>\n",
              "    <tr>\n",
              "      <th>korea</th>\n",
              "      <td>5180</td>\n",
              "      <td>169320000</td>\n",
              "    </tr>\n",
              "    <tr>\n",
              "      <th>japan</th>\n",
              "      <td>12718</td>\n",
              "      <td>516700000</td>\n",
              "    </tr>\n",
              "    <tr>\n",
              "      <th>china</th>\n",
              "      <td>141500</td>\n",
              "      <td>1409250000</td>\n",
              "    </tr>\n",
              "    <tr>\n",
              "      <th>usa</th>\n",
              "      <td>32676</td>\n",
              "      <td>2041280000</td>\n",
              "    </tr>\n",
              "  </tbody>\n",
              "</table>\n",
              "</div>"
            ],
            "text/plain": [
              "       population         gdp\n",
              "korea        5180   169320000\n",
              "japan       12718   516700000\n",
              "china      141500  1409250000\n",
              "usa         32676  2041280000"
            ]
          },
          "metadata": {
            "tags": []
          },
          "execution_count": 57
        }
      ]
    },
    {
      "cell_type": "code",
      "metadata": {
        "colab": {
          "base_uri": "https://localhost:8080/"
        },
        "id": "r-Di3E0764vv",
        "outputId": "7ecb7817-d355-41fe-b700-0be2c798a347"
      },
      "source": [
        "country['gdp'] #= Series값(GDP)을 불러온다"
      ],
      "execution_count": 58,
      "outputs": [
        {
          "output_type": "execute_result",
          "data": {
            "text/plain": [
              "korea     169320000\n",
              "japan     516700000\n",
              "china    1409250000\n",
              "usa      2041280000\n",
              "Name: gdp, dtype: int64"
            ]
          },
          "metadata": {
            "tags": []
          },
          "execution_count": 58
        }
      ]
    },
    {
      "cell_type": "code",
      "metadata": {
        "colab": {
          "base_uri": "https://localhost:8080/",
          "height": 175
        },
        "id": "TV9qdpdT68NQ",
        "outputId": "77b07575-e275-4cbf-d88c-f94b8f54bd98"
      },
      "source": [
        "country[['gdp']] #= Series값(GDP)을 불러온다 거기에 []데이터 프레임을 씌운다"
      ],
      "execution_count": 59,
      "outputs": [
        {
          "output_type": "execute_result",
          "data": {
            "text/html": [
              "<div>\n",
              "<style scoped>\n",
              "    .dataframe tbody tr th:only-of-type {\n",
              "        vertical-align: middle;\n",
              "    }\n",
              "\n",
              "    .dataframe tbody tr th {\n",
              "        vertical-align: top;\n",
              "    }\n",
              "\n",
              "    .dataframe thead th {\n",
              "        text-align: right;\n",
              "    }\n",
              "</style>\n",
              "<table border=\"1\" class=\"dataframe\">\n",
              "  <thead>\n",
              "    <tr style=\"text-align: right;\">\n",
              "      <th></th>\n",
              "      <th>gdp</th>\n",
              "    </tr>\n",
              "  </thead>\n",
              "  <tbody>\n",
              "    <tr>\n",
              "      <th>korea</th>\n",
              "      <td>169320000</td>\n",
              "    </tr>\n",
              "    <tr>\n",
              "      <th>japan</th>\n",
              "      <td>516700000</td>\n",
              "    </tr>\n",
              "    <tr>\n",
              "      <th>china</th>\n",
              "      <td>1409250000</td>\n",
              "    </tr>\n",
              "    <tr>\n",
              "      <th>usa</th>\n",
              "      <td>2041280000</td>\n",
              "    </tr>\n",
              "  </tbody>\n",
              "</table>\n",
              "</div>"
            ],
            "text/plain": [
              "              gdp\n",
              "korea   169320000\n",
              "japan   516700000\n",
              "china  1409250000\n",
              "usa    2041280000"
            ]
          },
          "metadata": {
            "tags": []
          },
          "execution_count": 59
        }
      ]
    },
    {
      "cell_type": "markdown",
      "metadata": {
        "id": "tqfXuurC7cWb"
      },
      "source": [
        "Masking 연산 이나 Query함수를 활용하여 조건에 맞는 DataFrame 행 추출 가능"
      ]
    },
    {
      "cell_type": "code",
      "metadata": {
        "colab": {
          "base_uri": "https://localhost:8080/"
        },
        "id": "-irT94Ny8ysR",
        "outputId": "f06ad779-c4fa-4753-b50e-f8790252eba9"
      },
      "source": [
        "print(country)"
      ],
      "execution_count": 60,
      "outputs": [
        {
          "output_type": "stream",
          "text": [
            "       population         gdp\n",
            "korea        5180   169320000\n",
            "japan       12718   516700000\n",
            "china      141500  1409250000\n",
            "usa         32676  2041280000\n"
          ],
          "name": "stdout"
        }
      ]
    },
    {
      "cell_type": "code",
      "metadata": {
        "colab": {
          "base_uri": "https://localhost:8080/",
          "height": 81
        },
        "id": "1DF2R7hZ69T2",
        "outputId": "335ee283-25ac-46cd-b330-37b87734fa98"
      },
      "source": [
        "country[country['population']< 10000] #Masking 연산"
      ],
      "execution_count": 61,
      "outputs": [
        {
          "output_type": "execute_result",
          "data": {
            "text/html": [
              "<div>\n",
              "<style scoped>\n",
              "    .dataframe tbody tr th:only-of-type {\n",
              "        vertical-align: middle;\n",
              "    }\n",
              "\n",
              "    .dataframe tbody tr th {\n",
              "        vertical-align: top;\n",
              "    }\n",
              "\n",
              "    .dataframe thead th {\n",
              "        text-align: right;\n",
              "    }\n",
              "</style>\n",
              "<table border=\"1\" class=\"dataframe\">\n",
              "  <thead>\n",
              "    <tr style=\"text-align: right;\">\n",
              "      <th></th>\n",
              "      <th>population</th>\n",
              "      <th>gdp</th>\n",
              "    </tr>\n",
              "  </thead>\n",
              "  <tbody>\n",
              "    <tr>\n",
              "      <th>korea</th>\n",
              "      <td>5180</td>\n",
              "      <td>169320000</td>\n",
              "    </tr>\n",
              "  </tbody>\n",
              "</table>\n",
              "</div>"
            ],
            "text/plain": [
              "       population        gdp\n",
              "korea        5180  169320000"
            ]
          },
          "metadata": {
            "tags": []
          },
          "execution_count": 61
        }
      ]
    },
    {
      "cell_type": "code",
      "metadata": {
        "colab": {
          "base_uri": "https://localhost:8080/",
          "height": 81
        },
        "id": "gnhU_POR8kFN",
        "outputId": "85fba2c5-99ef-49bd-b416-46d4856df3a1"
      },
      "source": [
        "country.query(\"population > 100000\") # query 함수 활용"
      ],
      "execution_count": 62,
      "outputs": [
        {
          "output_type": "execute_result",
          "data": {
            "text/html": [
              "<div>\n",
              "<style scoped>\n",
              "    .dataframe tbody tr th:only-of-type {\n",
              "        vertical-align: middle;\n",
              "    }\n",
              "\n",
              "    .dataframe tbody tr th {\n",
              "        vertical-align: top;\n",
              "    }\n",
              "\n",
              "    .dataframe thead th {\n",
              "        text-align: right;\n",
              "    }\n",
              "</style>\n",
              "<table border=\"1\" class=\"dataframe\">\n",
              "  <thead>\n",
              "    <tr style=\"text-align: right;\">\n",
              "      <th></th>\n",
              "      <th>population</th>\n",
              "      <th>gdp</th>\n",
              "    </tr>\n",
              "  </thead>\n",
              "  <tbody>\n",
              "    <tr>\n",
              "      <th>china</th>\n",
              "      <td>141500</td>\n",
              "      <td>1409250000</td>\n",
              "    </tr>\n",
              "  </tbody>\n",
              "</table>\n",
              "</div>"
            ],
            "text/plain": [
              "       population         gdp\n",
              "china      141500  1409250000"
            ]
          },
          "metadata": {
            "tags": []
          },
          "execution_count": 62
        }
      ]
    },
    {
      "cell_type": "markdown",
      "metadata": {
        "id": "Yvgr_vDIDdMf"
      },
      "source": [
        "Series도 Numpy array처럼 연산자 활용 가능"
      ]
    },
    {
      "cell_type": "code",
      "metadata": {
        "colab": {
          "base_uri": "https://localhost:8080/"
        },
        "id": "kSkLKyxz9Mzv",
        "outputId": "e52f7cab-76c3-4627-c57b-5e6ddf84bee7"
      },
      "source": [
        "gdp_per_capita = country['gdp'] / country['population']\n",
        "\n",
        "country['gdp per capita'] = gdp_per_capita #연산하여 컬럼 추가\n",
        "print(country)"
      ],
      "execution_count": 63,
      "outputs": [
        {
          "output_type": "stream",
          "text": [
            "       population         gdp  gdp per capita\n",
            "korea        5180   169320000    32687.258687\n",
            "japan       12718   516700000    40627.457147\n",
            "china      141500  1409250000     9959.363958\n",
            "usa         32676  2041280000    62470.314604\n"
          ],
          "name": "stdout"
        }
      ]
    },
    {
      "cell_type": "markdown",
      "metadata": {
        "id": "IJkrGzlNEHHD"
      },
      "source": [
        "리스트로 추가 또는 딕셔너리로 추가"
      ]
    },
    {
      "cell_type": "code",
      "metadata": {
        "colab": {
          "base_uri": "https://localhost:8080/",
          "height": 112
        },
        "id": "yX1IuPgfD87G",
        "outputId": "20f6caef-6746-403e-a46d-7efa71e447e2"
      },
      "source": [
        "df = pd.DataFrame(columns = ['이름','나이','주소']) # 데이터프레임 생성\n",
        "df.loc[0] = ['길동', '26', '서울'] #리스트로 데이터 추가\n",
        "df.loc[1] = {'이름':'철수', '나이':25, '주소':'인천'} #딕셔너리로 데이터 추가\n",
        "df.loc[1, '이름'] = '영희' # 명시적 인덱스 활용하여 데이터 수정\n",
        "df"
      ],
      "execution_count": 64,
      "outputs": [
        {
          "output_type": "execute_result",
          "data": {
            "text/html": [
              "<div>\n",
              "<style scoped>\n",
              "    .dataframe tbody tr th:only-of-type {\n",
              "        vertical-align: middle;\n",
              "    }\n",
              "\n",
              "    .dataframe tbody tr th {\n",
              "        vertical-align: top;\n",
              "    }\n",
              "\n",
              "    .dataframe thead th {\n",
              "        text-align: right;\n",
              "    }\n",
              "</style>\n",
              "<table border=\"1\" class=\"dataframe\">\n",
              "  <thead>\n",
              "    <tr style=\"text-align: right;\">\n",
              "      <th></th>\n",
              "      <th>이름</th>\n",
              "      <th>나이</th>\n",
              "      <th>주소</th>\n",
              "    </tr>\n",
              "  </thead>\n",
              "  <tbody>\n",
              "    <tr>\n",
              "      <th>0</th>\n",
              "      <td>길동</td>\n",
              "      <td>26</td>\n",
              "      <td>서울</td>\n",
              "    </tr>\n",
              "    <tr>\n",
              "      <th>1</th>\n",
              "      <td>영희</td>\n",
              "      <td>25</td>\n",
              "      <td>인천</td>\n",
              "    </tr>\n",
              "  </tbody>\n",
              "</table>\n",
              "</div>"
            ],
            "text/plain": [
              "   이름  나이  주소\n",
              "0  길동  26  서울\n",
              "1  영희  25  인천"
            ]
          },
          "metadata": {
            "tags": []
          },
          "execution_count": 64
        }
      ]
    },
    {
      "cell_type": "markdown",
      "metadata": {
        "id": "CDh-9Yn75hGX"
      },
      "source": [
        "Nan값으로 초기화 한 새로운 컬럼 추가"
      ]
    },
    {
      "cell_type": "code",
      "metadata": {
        "colab": {
          "base_uri": "https://localhost:8080/",
          "height": 112
        },
        "id": "3q-d9LA4EVcv",
        "outputId": "328bac1b-7854-4022-a081-2f41eb5e42d8"
      },
      "source": [
        "df['전화번호'] = np.nan #새로운 컬럼 추가 후 초기화 (nan = not a number)\n",
        "df"
      ],
      "execution_count": 68,
      "outputs": [
        {
          "output_type": "execute_result",
          "data": {
            "text/html": [
              "<div>\n",
              "<style scoped>\n",
              "    .dataframe tbody tr th:only-of-type {\n",
              "        vertical-align: middle;\n",
              "    }\n",
              "\n",
              "    .dataframe tbody tr th {\n",
              "        vertical-align: top;\n",
              "    }\n",
              "\n",
              "    .dataframe thead th {\n",
              "        text-align: right;\n",
              "    }\n",
              "</style>\n",
              "<table border=\"1\" class=\"dataframe\">\n",
              "  <thead>\n",
              "    <tr style=\"text-align: right;\">\n",
              "      <th></th>\n",
              "      <th>이름</th>\n",
              "      <th>나이</th>\n",
              "      <th>주소</th>\n",
              "      <th>전화번호</th>\n",
              "    </tr>\n",
              "  </thead>\n",
              "  <tbody>\n",
              "    <tr>\n",
              "      <th>0</th>\n",
              "      <td>길동</td>\n",
              "      <td>26</td>\n",
              "      <td>서울</td>\n",
              "      <td>NaN</td>\n",
              "    </tr>\n",
              "    <tr>\n",
              "      <th>1</th>\n",
              "      <td>영희</td>\n",
              "      <td>25</td>\n",
              "      <td>인천</td>\n",
              "      <td>NaN</td>\n",
              "    </tr>\n",
              "  </tbody>\n",
              "</table>\n",
              "</div>"
            ],
            "text/plain": [
              "   이름  나이  주소  전화번호\n",
              "0  길동  26  서울   NaN\n",
              "1  영희  25  인천   NaN"
            ]
          },
          "metadata": {
            "tags": []
          },
          "execution_count": 68
        }
      ]
    },
    {
      "cell_type": "code",
      "metadata": {
        "colab": {
          "base_uri": "https://localhost:8080/",
          "height": 112
        },
        "id": "yQHuvXrS53J6",
        "outputId": "4bdc875e-9b40-42eb-b843-6c4b698f6e60"
      },
      "source": [
        "df.loc[0, '전화번호'] = '01012341234' #명시적 인덱스 활용하여 데이터 수정\n",
        "df"
      ],
      "execution_count": 86,
      "outputs": [
        {
          "output_type": "execute_result",
          "data": {
            "text/html": [
              "<div>\n",
              "<style scoped>\n",
              "    .dataframe tbody tr th:only-of-type {\n",
              "        vertical-align: middle;\n",
              "    }\n",
              "\n",
              "    .dataframe tbody tr th {\n",
              "        vertical-align: top;\n",
              "    }\n",
              "\n",
              "    .dataframe thead th {\n",
              "        text-align: right;\n",
              "    }\n",
              "</style>\n",
              "<table border=\"1\" class=\"dataframe\">\n",
              "  <thead>\n",
              "    <tr style=\"text-align: right;\">\n",
              "      <th></th>\n",
              "      <th>이름</th>\n",
              "      <th>나이</th>\n",
              "      <th>주소</th>\n",
              "      <th>전화번호</th>\n",
              "    </tr>\n",
              "  </thead>\n",
              "  <tbody>\n",
              "    <tr>\n",
              "      <th>0</th>\n",
              "      <td>길동</td>\n",
              "      <td>26</td>\n",
              "      <td>서울</td>\n",
              "      <td>01012341234</td>\n",
              "    </tr>\n",
              "    <tr>\n",
              "      <th>1</th>\n",
              "      <td>영희</td>\n",
              "      <td>25</td>\n",
              "      <td>인천</td>\n",
              "      <td>NaN</td>\n",
              "    </tr>\n",
              "  </tbody>\n",
              "</table>\n",
              "</div>"
            ],
            "text/plain": [
              "   이름  나이  주소         전화번호\n",
              "0  길동  26  서울  01012341234\n",
              "1  영희  25  인천          NaN"
            ]
          },
          "metadata": {
            "tags": []
          },
          "execution_count": 86
        }
      ]
    },
    {
      "cell_type": "code",
      "metadata": {
        "colab": {
          "base_uri": "https://localhost:8080/",
          "height": 112
        },
        "id": "tuQDgJw96wf3",
        "outputId": "779b4f19-de90-4cef-858f-403398480bf2"
      },
      "source": [
        "# DataFrame 에서 컬럼 삭제 후 원본 변경\n",
        "df.drop('전화번호', axis=1, inplace = True) \n",
        "# inplace 원본 변경여부, axis = 가로(0) 세로(1)\n",
        "df"
      ],
      "execution_count": 87,
      "outputs": [
        {
          "output_type": "execute_result",
          "data": {
            "text/html": [
              "<div>\n",
              "<style scoped>\n",
              "    .dataframe tbody tr th:only-of-type {\n",
              "        vertical-align: middle;\n",
              "    }\n",
              "\n",
              "    .dataframe tbody tr th {\n",
              "        vertical-align: top;\n",
              "    }\n",
              "\n",
              "    .dataframe thead th {\n",
              "        text-align: right;\n",
              "    }\n",
              "</style>\n",
              "<table border=\"1\" class=\"dataframe\">\n",
              "  <thead>\n",
              "    <tr style=\"text-align: right;\">\n",
              "      <th></th>\n",
              "      <th>이름</th>\n",
              "      <th>나이</th>\n",
              "      <th>주소</th>\n",
              "    </tr>\n",
              "  </thead>\n",
              "  <tbody>\n",
              "    <tr>\n",
              "      <th>0</th>\n",
              "      <td>길동</td>\n",
              "      <td>26</td>\n",
              "      <td>서울</td>\n",
              "    </tr>\n",
              "    <tr>\n",
              "      <th>1</th>\n",
              "      <td>영희</td>\n",
              "      <td>25</td>\n",
              "      <td>인천</td>\n",
              "    </tr>\n",
              "  </tbody>\n",
              "</table>\n",
              "</div>"
            ],
            "text/plain": [
              "   이름  나이  주소\n",
              "0  길동  26  서울\n",
              "1  영희  25  인천"
            ]
          },
          "metadata": {
            "tags": []
          },
          "execution_count": 87
        }
      ]
    },
    {
      "cell_type": "markdown",
      "metadata": {
        "id": "hKRC_X9X8b-Z"
      },
      "source": [
        "\n",
        "\n",
        "---\n",
        "(실습3 해설) 조건을 충족하는 값 추출"
      ]
    },
    {
      "cell_type": "code",
      "metadata": {
        "colab": {
          "base_uri": "https://localhost:8080/"
        },
        "id": "JjRafNbS7NSz",
        "outputId": "ef7f0510-20b1-41f8-a4b1-1ce4e9fcc147"
      },
      "source": [
        "import numpy as np\n",
        "import pandas as pd\n",
        "\n",
        "print(\"Masking & query\")\n",
        "df = pd.DataFrame(np.random.rand(5, 2), columns=[\"A\", \"B\"])\n",
        "print(df, \"\\n\")"
      ],
      "execution_count": 110,
      "outputs": [
        {
          "output_type": "stream",
          "text": [
            "Masking & query\n",
            "          A         B\n",
            "0  0.242187  0.091524\n",
            "1  0.793784  0.602589\n",
            "2  0.737475  0.922301\n",
            "3  0.493264  0.895933\n",
            "4  0.329592  0.670075 \n",
            "\n"
          ],
          "name": "stdout"
        }
      ]
    },
    {
      "cell_type": "markdown",
      "metadata": {
        "id": "oZLqEGnA-mlL"
      },
      "source": [
        "데이터 프레임에서 A컬럼값이 0.5보다 작고 B컬럼 값이 0.3보다 큰값들을 구해봅시다.\n",
        "- 마스킹 연산을 활용하여 출력해보세요!\n",
        "\n",
        "\n",
        "- query 함수를 활용하여 출력해보세요!"
      ]
    },
    {
      "cell_type": "markdown",
      "metadata": {
        "id": "YFYQksCoAsx9"
      },
      "source": [
        "# 마스킹 연산을 활용하여 출력해보세요!"
      ]
    },
    {
      "cell_type": "code",
      "metadata": {
        "colab": {
          "base_uri": "https://localhost:8080/"
        },
        "id": "6ttwu_2i8ncD",
        "outputId": "1e84101f-44eb-4239-9036-e5da45ee9618"
      },
      "source": [
        "\n",
        "print(df[df['A']<0.5])\n",
        "print(df[df['B']>0.3])"
      ],
      "execution_count": 111,
      "outputs": [
        {
          "output_type": "stream",
          "text": [
            "          A         B\n",
            "0  0.242187  0.091524\n",
            "3  0.493264  0.895933\n",
            "4  0.329592  0.670075\n",
            "          A         B\n",
            "1  0.793784  0.602589\n",
            "2  0.737475  0.922301\n",
            "3  0.493264  0.895933\n",
            "4  0.329592  0.670075\n"
          ],
          "name": "stdout"
        }
      ]
    },
    {
      "cell_type": "code",
      "metadata": {
        "colab": {
          "base_uri": "https://localhost:8080/"
        },
        "id": "Ly3fIJwB-6e_",
        "outputId": "8b25a335-e09d-4a53-9976-a0ad9c85df3e"
      },
      "source": [
        "print(df[(df['A']<0.5) & (df['B']>0.2)]) #두 조건 & 로 연결!!"
      ],
      "execution_count": 116,
      "outputs": [
        {
          "output_type": "stream",
          "text": [
            "          A         B\n",
            "3  0.493264  0.895933\n",
            "4  0.329592  0.670075\n"
          ],
          "name": "stdout"
        }
      ]
    },
    {
      "cell_type": "markdown",
      "metadata": {
        "id": "L_WCNGfhArFk"
      },
      "source": [
        "# query 함수를 활용하여 출력해보세요!"
      ]
    },
    {
      "cell_type": "code",
      "metadata": {
        "colab": {
          "base_uri": "https://localhost:8080/"
        },
        "id": "JfGNVwS__k4h",
        "outputId": "594469bb-0454-4649-f462-0798860e3b54"
      },
      "source": [
        "print(df.query(\"A<0.5 and B>0.3\"))"
      ],
      "execution_count": 118,
      "outputs": [
        {
          "output_type": "stream",
          "text": [
            "          A         B\n",
            "3  0.493264  0.895933\n",
            "4  0.329592  0.670075\n"
          ],
          "name": "stdout"
        }
      ]
    },
    {
      "cell_type": "markdown",
      "metadata": {
        "id": "3OeZH_3-BNbZ"
      },
      "source": [
        "\n",
        "\n",
        "---\n",
        "\n",
        "[실습4 해설] 새로운 컬럼 추가하기\n"
      ]
    },
    {
      "cell_type": "code",
      "metadata": {
        "colab": {
          "base_uri": "https://localhost:8080/"
        },
        "id": "u9EdZ7dYAUZA",
        "outputId": "244288c4-b92e-472b-ceb5-941aeda13137"
      },
      "source": [
        "import numpy as np\n",
        "import pandas as pd\n",
        "\n",
        "# GDP와 인구수 시리즈 값이 들어간 데이터프레임을 생성합니다.\n",
        "population = pd.Series({'korea': 5180,'japan': 12718,'china': 141500,'usa': 32676})\n",
        "gdp = pd.Series({'korea': 169320000,'japan': 516700000,'china': 1409250000,'usa': 2041280000})\n",
        "print(\"Country DataFrame\")\n",
        "country = pd.DataFrame({\"population\" : population,\"gdp\" : gdp})\n",
        "print(country)"
      ],
      "execution_count": 119,
      "outputs": [
        {
          "output_type": "stream",
          "text": [
            "Country DataFrame\n",
            "       population         gdp\n",
            "korea        5180   169320000\n",
            "japan       12718   516700000\n",
            "china      141500  1409250000\n",
            "usa         32676  2041280000\n"
          ],
          "name": "stdout"
        }
      ]
    },
    {
      "cell_type": "code",
      "metadata": {
        "id": "DS0OP4BoBXWd"
      },
      "source": [
        "# #country의 두 컬럼을 이용하여 새로운 컬럼을 만들고자 합니다. \n",
        "#1인당 GDP 를 나타내는 새로운 컬럼인 gdp per capita를 데이터 프레임에 추가해보세요.\n",
        "# 1인당 GDP는 gdp를 population으로 나누어 얻을 수 있습니다.\n",
        "# 완성한 데이터 프레임을 출력해보세요!"
      ],
      "execution_count": null,
      "outputs": []
    },
    {
      "cell_type": "markdown",
      "metadata": {
        "id": "o_5hfTBVBkAr"
      },
      "source": [
        "# 데이터프레임에 gdp per capita 칼럼을 추가하고 출력합니다."
      ]
    },
    {
      "cell_type": "code",
      "metadata": {
        "colab": {
          "base_uri": "https://localhost:8080/"
        },
        "id": "3bzEqA0hBlWS",
        "outputId": "054182e2-588b-46ea-e61e-79c377ff70eb"
      },
      "source": [
        "gdp_per_capita = country['gdp'] / country['population']\n",
        "country['gdp per capita'] =  gdp_per_capita\n",
        "print(country)"
      ],
      "execution_count": 120,
      "outputs": [
        {
          "output_type": "stream",
          "text": [
            "       population         gdp  gdp per capita\n",
            "korea        5180   169320000    32687.258687\n",
            "japan       12718   516700000    40627.457147\n",
            "china      141500  1409250000     9959.363958\n",
            "usa         32676  2041280000    62470.314604\n"
          ],
          "name": "stdout"
        }
      ]
    },
    {
      "cell_type": "code",
      "metadata": {
        "id": "zQGKGjHRB_Zt"
      },
      "source": [
        ""
      ],
      "execution_count": null,
      "outputs": []
    }
  ]
}
