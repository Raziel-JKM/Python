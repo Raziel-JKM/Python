{
  "nbformat": 4,
  "nbformat_minor": 0,
  "metadata": {
    "colab": {
      "name": "python 연습.ipynb",
      "provenance": [],
      "authorship_tag": "ABX9TyMwk2SdshM1tIcRw7/8/TaC",
      "include_colab_link": true
    },
    "kernelspec": {
      "name": "python3",
      "display_name": "Python 3"
    },
    "language_info": {
      "name": "python"
    }
  },
  "cells": [
    {
      "cell_type": "markdown",
      "metadata": {
        "id": "view-in-github",
        "colab_type": "text"
      },
      "source": [
        "<a href=\"https://colab.research.google.com/github/Raziel-JKM/Python/blob/python/python_%EC%97%B0%EC%8A%B5.ipynb\" target=\"_parent\"><img src=\"https://colab.research.google.com/assets/colab-badge.svg\" alt=\"Open In Colab\"/></a>"
      ]
    },
    {
      "cell_type": "markdown",
      "metadata": {
        "id": "4xTbl7zqVB5e"
      },
      "source": [
        "Qiz\n",
        "\n",
        "input()을 이용해서 숫자(정수) 입력을 받고, 변수 num에 이를 넣어봅시다.\n",
        "\n",
        "if-else문을 이용해서 만약 입력받은 수가 홀수면 \"(입력받은 수) 홀수입니다.\"\n",
        "\n",
        "짝수면 \"(입력받은 수) 짝수입니다.\"를 출력해봅시다.\n",
        "\n",
        "괄호는 출력하지 않습니다."
      ]
    },
    {
      "cell_type": "code",
      "metadata": {
        "colab": {
          "base_uri": "https://localhost:8080/"
        },
        "id": "mhidSwFxU5jv",
        "outputId": "d7e4995e-a470-4732-8271-f8ad8667725a"
      },
      "source": [
        "num = int(input())\n",
        "\n",
        "if num % 2 == 0:\n",
        "    print(num,\"짝수입니다.\")\n",
        "else: #num%2 ==1\n",
        "    print(num, \"홀수입니다.\")"
      ],
      "execution_count": 1,
      "outputs": [
        {
          "output_type": "stream",
          "text": [
            "5\n",
            "5 홀수입니다.\n"
          ],
          "name": "stdout"
        }
      ]
    },
    {
      "cell_type": "markdown",
      "metadata": {
        "id": "JNakXO3o-d0B"
      },
      "source": [
        "변수 answer에 수 1~50 중 하나를 넣어봅시다.\n",
        "input을 통해 숫자형으로 입력을 받아서 변수 submit에 저장해봅시다.\n",
        "if-elif-else문으로 Up-Down Game을 구현해봅시다.\n",
        "만약 answer보다 submit이 더 크면 \"정답보다 더 큰 수를 입력했습니다.\"\n",
        "만약 answer보다 submit이 더 작으면 \"정답보다 더 작은 수를 입력했습니다.\"\n",
        "만약 answer와 submit이 같으면 \"정답!\" 를 출력합니다."
      ]
    },
    {
      "cell_type": "code",
      "metadata": {
        "id": "U8Osv3fbAJ7j"
      },
      "source": [
        "anwer = 25\n",
        "submit = int(input())#submit = input(int())\n",
        "\n",
        "if answer < submit:\n",
        "    print(\"정답보다 더 큰 수를 입력했습니다.\")\n",
        "elif answer == submit: # : 이거 빠져먹지 않기!\n",
        "    print(\"정답!\")\n",
        "else: # answer > submit\n",
        "    print(\"정답보다 더 작은 수를 입력했습니다.\")"
      ],
      "execution_count": null,
      "outputs": []
    }
  ]
}