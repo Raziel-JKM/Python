{
  "nbformat": 4,
  "nbformat_minor": 0,
  "metadata": {
    "colab": {
      "name": "Series Data.ipynb",
      "provenance": [],
      "authorship_tag": "ABX9TyOxqXaj38YRv9F+fmXP7EmN",
      "include_colab_link": true
    },
    "kernelspec": {
      "name": "python3",
      "display_name": "Python 3"
    },
    "language_info": {
      "name": "python"
    }
  },
  "cells": [
    {
      "cell_type": "markdown",
      "metadata": {
        "id": "view-in-github",
        "colab_type": "text"
      },
      "source": [
        "<a href=\"https://colab.research.google.com/github/Raziel-JKM/Python/blob/python/Series_Data.ipynb\" target=\"_parent\"><img src=\"https://colab.research.google.com/assets/colab-badge.svg\" alt=\"Open In Colab\"/></a>"
      ]
    },
    {
      "cell_type": "markdown",
      "metadata": {
        "id": "_b9_s3iU8vR6"
      },
      "source": [
        "Series"
      ]
    },
    {
      "cell_type": "code",
      "metadata": {
        "colab": {
          "base_uri": "https://localhost:8080/"
        },
        "id": "pG3xPCdM7vzC",
        "outputId": "5fb3b36a-8bbf-4f8c-edd5-442a2b73102f"
      },
      "source": [
        "import pandas as pd\n",
        "\n",
        "data = pd.Series([1,2,3,4])\n",
        "print(data)"
      ],
      "execution_count": 39,
      "outputs": [
        {
          "output_type": "stream",
          "text": [
            "0    1\n",
            "1    2\n",
            "2    3\n",
            "3    4\n",
            "dtype: int64\n"
          ],
          "name": "stdout"
        }
      ]
    },
    {
      "cell_type": "markdown",
      "metadata": {
        "id": "MSAXZM1o-fnF"
      },
      "source": [
        "앞 0123은 인덱스\n",
        "\n",
        "뒤 1234 데이터\n",
        "\n",
        "\n"
      ]
    },
    {
      "cell_type": "code",
      "metadata": {
        "colab": {
          "base_uri": "https://localhost:8080/"
        },
        "id": "FznNU5zx8pXg",
        "outputId": "5904fa05-4f05-4b9f-e6ce-a452f1a99189"
      },
      "source": [
        "print(type(data))"
      ],
      "execution_count": 40,
      "outputs": [
        {
          "output_type": "stream",
          "text": [
            "<class 'pandas.core.series.Series'>\n"
          ],
          "name": "stdout"
        }
      ]
    },
    {
      "cell_type": "code",
      "metadata": {
        "colab": {
          "base_uri": "https://localhost:8080/"
        },
        "id": "rEbYXvNK-vDS",
        "outputId": "799b58d7-4545-470f-c267-6f6165221e7f"
      },
      "source": [
        "print(data.values)"
      ],
      "execution_count": 41,
      "outputs": [
        {
          "output_type": "stream",
          "text": [
            "[1 2 3 4]\n"
          ],
          "name": "stdout"
        }
      ]
    },
    {
      "cell_type": "code",
      "metadata": {
        "colab": {
          "base_uri": "https://localhost:8080/"
        },
        "id": "KyfaudWg-yXx",
        "outputId": "c153b7d3-405d-428b-a3e2-99a0bb64a8a2"
      },
      "source": [
        "print(type(data.values))"
      ],
      "execution_count": 42,
      "outputs": [
        {
          "output_type": "stream",
          "text": [
            "<class 'numpy.ndarray'>\n"
          ],
          "name": "stdout"
        }
      ]
    },
    {
      "cell_type": "markdown",
      "metadata": {
        "id": "cZI80MIoBOjH"
      },
      "source": [
        "2. Index를 지정할 수 있고 인덱스로 접근 가능"
      ]
    },
    {
      "cell_type": "code",
      "metadata": {
        "colab": {
          "base_uri": "https://localhost:8080/"
        },
        "id": "ok7DI_pM-2wN",
        "outputId": "01452837-c0de-4b19-f977-eccfc1e65bbf"
      },
      "source": [
        "data = pd.Series([1,2,3,4], index = ['a','b','c','d'])\n",
        "print(data)"
      ],
      "execution_count": 43,
      "outputs": [
        {
          "output_type": "stream",
          "text": [
            "a    1\n",
            "b    2\n",
            "c    3\n",
            "d    4\n",
            "dtype: int64\n"
          ],
          "name": "stdout"
        }
      ]
    },
    {
      "cell_type": "code",
      "metadata": {
        "colab": {
          "base_uri": "https://localhost:8080/"
        },
        "id": "bVT2yeIcB1QW",
        "outputId": "cd99e28d-2f34-4dec-caf7-be6b970c1a9b"
      },
      "source": [
        "data['c']=5\n",
        "#인덱스로 접급하여 요소 변경가능\n",
        "print(data)"
      ],
      "execution_count": 44,
      "outputs": [
        {
          "output_type": "stream",
          "text": [
            "a    1\n",
            "b    2\n",
            "c    5\n",
            "d    4\n",
            "dtype: int64\n"
          ],
          "name": "stdout"
        }
      ]
    },
    {
      "cell_type": "markdown",
      "metadata": {
        "id": "ci-RqhyBCiGs"
      },
      "source": [
        "Dictionary를 활용하여 Series 생성 가능"
      ]
    },
    {
      "cell_type": "code",
      "metadata": {
        "id": "WWZtHAmvB9Ty"
      },
      "source": [
        "population_dict ={\n",
        "      'china': 141500,\n",
        "      'japan': 12718,\n",
        "      'korea' : 5180,\n",
        "      'usa' : 32676\n",
        "}"
      ],
      "execution_count": 45,
      "outputs": []
    },
    {
      "cell_type": "code",
      "metadata": {
        "colab": {
          "base_uri": "https://localhost:8080/"
        },
        "id": "XxOHZSRmD_al",
        "outputId": "f6ba1ed6-694d-4363-b5cd-6b417177fc29"
      },
      "source": [
        "poplation = pd.Series(population_dict)\n",
        "print(poplation)"
      ],
      "execution_count": 46,
      "outputs": [
        {
          "output_type": "stream",
          "text": [
            "china    141500\n",
            "japan     12718\n",
            "korea      5180\n",
            "usa       32676\n",
            "dtype: int64\n"
          ],
          "name": "stdout"
        }
      ]
    },
    {
      "cell_type": "markdown",
      "metadata": {
        "id": "Rxq_vsI8qaou"
      },
      "source": [
        "\n",
        "\n",
        "---\n",
        "\n"
      ]
    },
    {
      "cell_type": "code",
      "metadata": {
        "colab": {
          "base_uri": "https://localhost:8080/"
        },
        "id": "zhQZzhKPEKSg",
        "outputId": "8c240e5d-e19e-4e0a-8a28-a7c392553ae0"
      },
      "source": [
        "import numpy as np\n",
        "import pandas as pd\n",
        "\n",
        "#예시) 시리즈 데이터를 만드는 방법\n",
        "\n",
        "series = pd.Series([1,2,3,4,], index = ['a','b','c','d'], name = \"Title\")\n",
        "print(series, \"\\n\")"
      ],
      "execution_count": 47,
      "outputs": [
        {
          "output_type": "stream",
          "text": [
            "a    1\n",
            "b    2\n",
            "c    3\n",
            "d    4\n",
            "Name: Title, dtype: int64 \n",
            "\n"
          ],
          "name": "stdout"
        }
      ]
    },
    {
      "cell_type": "code",
      "metadata": {
        "colab": {
          "base_uri": "https://localhost:8080/"
        },
        "id": "LrwfKWzdq4Lw",
        "outputId": "fd752d1b-aef5-4e8c-ef28-4f8e3aa0c9a5"
      },
      "source": [
        "#국가별 인구 수 시리즈 데이터를 딕셔너리를 사용하여 만들어보세요.\n",
        "dict = {\n",
        "'korea': 5180,\n",
        "'japan' : 12718,\n",
        "'china': 141500,\n",
        "'usa': 32676\n",
        "}\n",
        "population = pd.Series(dict) #dic을 컨츄리로 만들어 준다\n",
        "print(population)\n",
        "#데이터 타입 정수, 시리즈에 잘 들어감을 확인"
      ],
      "execution_count": 48,
      "outputs": [
        {
          "output_type": "stream",
          "text": [
            "korea      5180\n",
            "japan     12718\n",
            "china    141500\n",
            "usa       32676\n",
            "dtype: int64\n"
          ],
          "name": "stdout"
        }
      ]
    },
    {
      "cell_type": "markdown",
      "metadata": {
        "id": "xWKYzM-qtHPk"
      },
      "source": [
        "\n",
        "\n",
        "---\n",
        "\n"
      ]
    },
    {
      "cell_type": "markdown",
      "metadata": {
        "id": "cBmVT6gKtIVP"
      },
      "source": [
        "여러 개의 Series 가 모여서 행과 열을 이룬 데이터"
      ]
    },
    {
      "cell_type": "code",
      "metadata": {
        "id": "8zyJ4DC-rUfB"
      },
      "source": [
        "gdp_dict = {\n",
        "    'china':1409250000,\n",
        "    'japan':516700000,\n",
        "    'korea':169320000,\n",
        "    'usa':2041280000\n",
        "}\n",
        "\n",
        "gdp = pd.Series(gdp_dict)"
      ],
      "execution_count": 49,
      "outputs": []
    },
    {
      "cell_type": "code",
      "metadata": {
        "colab": {
          "base_uri": "https://localhost:8080/"
        },
        "id": "wImxjDmLsLXA",
        "outputId": "a644bcd7-6036-48fe-d539-d8d08e50e2c1"
      },
      "source": [
        "country = pd.DataFrame({\n",
        "    'gdp':gdp,\n",
        "    'population':population\n",
        "})\n",
        "print(country)"
      ],
      "execution_count": 50,
      "outputs": [
        {
          "output_type": "stream",
          "text": [
            "              gdp  population\n",
            "china  1409250000      141500\n",
            "japan   516700000       12718\n",
            "korea   169320000        5180\n",
            "usa    2041280000       32676\n"
          ],
          "name": "stdout"
        }
      ]
    },
    {
      "cell_type": "markdown",
      "metadata": {
        "id": "RfmYJu8Au6ZD"
      },
      "source": [
        "Dictionary를 활용하여 DataFrame 생성 가능"
      ]
    },
    {
      "cell_type": "code",
      "metadata": {
        "colab": {
          "base_uri": "https://localhost:8080/",
          "height": 355
        },
        "id": "t9II9YWft4Vm",
        "outputId": "e0341944-5d79-4cc8-fba9-afdd60bb6255"
      },
      "source": [
        "data = {\n",
        "    'country':['china','japan','korea','usa'],\n",
        "    'gdp':[1409250000, 516700000,169320000,2041280000],\n",
        "    'population':[141500,12718,5180,32676]\n",
        "    }\n",
        "country = pd.DataFram(data) #데이터 프레임에 넣고\n",
        "\n",
        "#country_ = country.set_index('country')\n",
        "print(country)\n",
        "#print(data)"
      ],
      "execution_count": 51,
      "outputs": [
        {
          "output_type": "error",
          "ename": "AttributeError",
          "evalue": "ignored",
          "traceback": [
            "\u001b[0;31m---------------------------------------------------------------------------\u001b[0m",
            "\u001b[0;31mAttributeError\u001b[0m                            Traceback (most recent call last)",
            "\u001b[0;32m<ipython-input-51-fd653748d7f0>\u001b[0m in \u001b[0;36m<module>\u001b[0;34m()\u001b[0m\n\u001b[1;32m      4\u001b[0m     \u001b[0;34m'population'\u001b[0m\u001b[0;34m:\u001b[0m\u001b[0;34m[\u001b[0m\u001b[0;36m141500\u001b[0m\u001b[0;34m,\u001b[0m\u001b[0;36m12718\u001b[0m\u001b[0;34m,\u001b[0m\u001b[0;36m5180\u001b[0m\u001b[0;34m,\u001b[0m\u001b[0;36m32676\u001b[0m\u001b[0;34m]\u001b[0m\u001b[0;34m\u001b[0m\u001b[0;34m\u001b[0m\u001b[0m\n\u001b[1;32m      5\u001b[0m     }\n\u001b[0;32m----> 6\u001b[0;31m \u001b[0mcountry\u001b[0m \u001b[0;34m=\u001b[0m \u001b[0mpd\u001b[0m\u001b[0;34m.\u001b[0m\u001b[0mDataFram\u001b[0m\u001b[0;34m(\u001b[0m\u001b[0mdata\u001b[0m\u001b[0;34m)\u001b[0m \u001b[0;31m#데이터 프레임에 넣고\u001b[0m\u001b[0;34m\u001b[0m\u001b[0;34m\u001b[0m\u001b[0m\n\u001b[0m\u001b[1;32m      7\u001b[0m \u001b[0;34m\u001b[0m\u001b[0m\n\u001b[1;32m      8\u001b[0m \u001b[0;31m#country_ = country.set_index('country')\u001b[0m\u001b[0;34m\u001b[0m\u001b[0;34m\u001b[0m\u001b[0;34m\u001b[0m\u001b[0m\n",
            "\u001b[0;32m/usr/local/lib/python3.7/dist-packages/pandas/__init__.py\u001b[0m in \u001b[0;36m__getattr__\u001b[0;34m(name)\u001b[0m\n\u001b[1;32m    256\u001b[0m             \u001b[0;32mreturn\u001b[0m \u001b[0m_SparseArray\u001b[0m\u001b[0;34m\u001b[0m\u001b[0;34m\u001b[0m\u001b[0m\n\u001b[1;32m    257\u001b[0m \u001b[0;34m\u001b[0m\u001b[0m\n\u001b[0;32m--> 258\u001b[0;31m         \u001b[0;32mraise\u001b[0m \u001b[0mAttributeError\u001b[0m\u001b[0;34m(\u001b[0m\u001b[0;34mf\"module 'pandas' has no attribute '{name}'\"\u001b[0m\u001b[0;34m)\u001b[0m\u001b[0;34m\u001b[0m\u001b[0;34m\u001b[0m\u001b[0m\n\u001b[0m\u001b[1;32m    259\u001b[0m \u001b[0;34m\u001b[0m\u001b[0m\n\u001b[1;32m    260\u001b[0m \u001b[0;34m\u001b[0m\u001b[0m\n",
            "\u001b[0;31mAttributeError\u001b[0m: module 'pandas' has no attribute 'DataFram'"
          ]
        }
      ]
    },
    {
      "cell_type": "markdown",
      "metadata": {
        "id": "vamLbZOpxOsX"
      },
      "source": [
        "1.딕셔너리는 {}로 표시\n",
        "\n",
        "2.시리즈는 ([])\n",
        "\n",
        "3.시리즈에서는 데이터 프레임을 만들 수 있다.\n",
        "\n",
        "4.딕셔너리에서 바로 데이터 프레임을 만들수 있다."
      ]
    },
    {
      "cell_type": "code",
      "metadata": {
        "id": "A_nmNG2jvfgJ"
      },
      "source": [
        "#DataFrame 속성을 확인하는 방법\n",
        "\n",
        "print(country.shape)\n",
        "print(country.size)\n",
        "print(country.ndim)\n",
        "print(country.value)"
      ],
      "execution_count": null,
      "outputs": []
    },
    {
      "cell_type": "markdown",
      "metadata": {
        "id": "Mbhskp4syCGM"
      },
      "source": [
        "#DataFrame의 index와 column에 이름 지정"
      ]
    },
    {
      "cell_type": "markdown",
      "metadata": {
        "id": "B3qp2D0RyP0O"
      },
      "source": [
        ""
      ]
    },
    {
      "cell_type": "code",
      "metadata": {
        "id": "eGYzNg_OySW_"
      },
      "source": [
        "country.index.name = \"country\" #인덱스에 이름 지정\n",
        "country.columns.name = \"Info\" #컬럼에 이름 지정\n",
        "\n",
        "print(country.index)\n",
        "print(country.columns)"
      ],
      "execution_count": null,
      "outputs": []
    },
    {
      "cell_type": "markdown",
      "metadata": {
        "id": "vc-KZA1wy7tJ"
      },
      "source": [
        "데이터 프레임 저장 및 불러오기 기능"
      ]
    },
    {
      "cell_type": "code",
      "metadata": {
        "id": "Kr2teU3lyw_P"
      },
      "source": [
        "country.to_csv(\"./country.csv\")\n",
        "country.to_excel(\"./country.xlsx\")\n",
        "\n",
        "country = pd.read_csv(\"./country.csv\")\n",
        "country = pd.read_csv(\"./country.xlsx\")\n"
      ],
      "execution_count": null,
      "outputs": []
    },
    {
      "cell_type": "markdown",
      "metadata": {
        "id": "Sag_RDA92wvt"
      },
      "source": [
        "##실습"
      ]
    },
    {
      "cell_type": "code",
      "metadata": {
        "colab": {
          "base_uri": "https://localhost:8080/"
        },
        "id": "_yQ_1jeryq1w",
        "outputId": "de8c20d1-81c0-4851-e627-f45410b676a9"
      },
      "source": [
        "import numpy as np\n",
        "import pandas as pd\n",
        "\n",
        "# 두 개의 시리즈 데이터가 있습니다.\n",
        "print(\"Population series data:\")\n",
        "population_dict = {\n",
        "    'korea': 5180,\n",
        "    'japan': 12718,\n",
        "    'china': 141500,\n",
        "    'usa': 32676\n",
        "}\n",
        "population = pd.Series(population_dict)\n",
        "print(population, \"\\n\")\n",
        "\n",
        "print(\"GDP series data:\")\n",
        "gdp_dict = {\n",
        "    'korea': 169320000,\n",
        "    'japan': 516700000,\n",
        "    'china': 1409250000,\n",
        "    'usa': 2041280000,\n",
        "}\n",
        "gdp = pd.Series(gdp_dict)\n",
        "print(gdp, \"\\n\")\n",
        "\n",
        "\n",
        "# 이곳에서 2개의 시리즈 값이 들어간 데이터프레임을 생성합니다.\n",
        "print(\"Country DataFrame\")\n",
        "country = None\n"
      ],
      "execution_count": 52,
      "outputs": [
        {
          "output_type": "stream",
          "text": [
            "Population series data:\n",
            "korea      5180\n",
            "japan     12718\n",
            "china    141500\n",
            "usa       32676\n",
            "dtype: int64 \n",
            "\n",
            "GDP series data:\n",
            "korea     169320000\n",
            "japan     516700000\n",
            "china    1409250000\n",
            "usa      2041280000\n",
            "dtype: int64 \n",
            "\n",
            "Country DataFrame\n"
          ],
          "name": "stdout"
        }
      ]
    },
    {
      "cell_type": "code",
      "metadata": {
        "colab": {
          "base_uri": "https://localhost:8080/"
        },
        "id": "lFy7U24n2uJ4",
        "outputId": "0104e3d5-4d87-498b-893f-f2ee94ad2165"
      },
      "source": [
        "# 이곳에서 2개의 시리즈 값이 들어간 데이터프레임을 생성합니다.\n",
        "print(\"Country DataFrame\")\n",
        "country = pd.DataFrame({\n",
        "    'population':population,\n",
        "    'gdp':gdp\n",
        "})\n",
        "\n",
        "print(country)\n"
      ],
      "execution_count": 60,
      "outputs": [
        {
          "output_type": "stream",
          "text": [
            "Country DataFrame\n",
            "       population         gdp\n",
            "korea        5180   169320000\n",
            "japan       12718   516700000\n",
            "china      141500  1409250000\n",
            "usa         32676  2041280000\n"
          ],
          "name": "stdout"
        }
      ]
    },
    {
      "cell_type": "markdown",
      "metadata": {
        "id": "zLD4vAOz5TtH"
      },
      "source": [
        "\n",
        "\n",
        "---\n",
        "\n",
        "\n",
        "\n",
        "---\n",
        "\n",
        "03 데이터 선택 및 변경하기"
      ]
    },
    {
      "cell_type": "markdown",
      "metadata": {
        "id": "RuS6U5fE5f0D"
      },
      "source": [
        ".loc : 몇시적인 인덱스를 참조하는 인덱싱 / 슬라이싱"
      ]
    },
    {
      "cell_type": "code",
      "metadata": {
        "colab": {
          "base_uri": "https://localhost:8080/"
        },
        "id": "3iUfqkVP4uFt",
        "outputId": "d0a4a041-af13-4a53-d5d5-951a9a0de808"
      },
      "source": [
        "country.loc['china'] # 인덱스가 차이나인 값을 구하라"
      ],
      "execution_count": 66,
      "outputs": [
        {
          "output_type": "execute_result",
          "data": {
            "text/plain": [
              "population        141500\n",
              "gdp           1409250000\n",
              "Name: china, dtype: int64"
            ]
          },
          "metadata": {
            "tags": []
          },
          "execution_count": 66
        }
      ]
    },
    {
      "cell_type": "code",
      "metadata": {
        "colab": {
          "base_uri": "https://localhost:8080/",
          "height": 112
        },
        "id": "jc3KaCC45vIi",
        "outputId": "8df03ba9-83bc-4654-bb13-5c1360aa4df6"
      },
      "source": [
        "country.loc['japan':'china', :'population'] # 인덱스가 차이나인 값을 구하라 (인덱스 , 컬럼)"
      ],
      "execution_count": 68,
      "outputs": [
        {
          "output_type": "execute_result",
          "data": {
            "text/html": [
              "<div>\n",
              "<style scoped>\n",
              "    .dataframe tbody tr th:only-of-type {\n",
              "        vertical-align: middle;\n",
              "    }\n",
              "\n",
              "    .dataframe tbody tr th {\n",
              "        vertical-align: top;\n",
              "    }\n",
              "\n",
              "    .dataframe thead th {\n",
              "        text-align: right;\n",
              "    }\n",
              "</style>\n",
              "<table border=\"1\" class=\"dataframe\">\n",
              "  <thead>\n",
              "    <tr style=\"text-align: right;\">\n",
              "      <th></th>\n",
              "      <th>population</th>\n",
              "    </tr>\n",
              "  </thead>\n",
              "  <tbody>\n",
              "    <tr>\n",
              "      <th>japan</th>\n",
              "      <td>12718</td>\n",
              "    </tr>\n",
              "    <tr>\n",
              "      <th>china</th>\n",
              "      <td>141500</td>\n",
              "    </tr>\n",
              "  </tbody>\n",
              "</table>\n",
              "</div>"
            ],
            "text/plain": [
              "       population\n",
              "japan       12718\n",
              "china      141500"
            ]
          },
          "metadata": {
            "tags": []
          },
          "execution_count": 68
        }
      ]
    },
    {
      "cell_type": "markdown",
      "metadata": {
        "id": "n28OzSCn6PNg"
      },
      "source": [
        ".iloc : 파이썬 스타일의 정수 인덱스 인덱싱/슬라이싱"
      ]
    },
    {
      "cell_type": "code",
      "metadata": {
        "colab": {
          "base_uri": "https://localhost:8080/"
        },
        "id": "kwe4YFOg6An4",
        "outputId": "fa68b4d7-1d7f-4f3d-85a5-e08d18a61569"
      },
      "source": [
        "country.iloc[0]"
      ],
      "execution_count": 69,
      "outputs": [
        {
          "output_type": "execute_result",
          "data": {
            "text/plain": [
              "population         5180\n",
              "gdp           169320000\n",
              "Name: korea, dtype: int64"
            ]
          },
          "metadata": {
            "tags": []
          },
          "execution_count": 69
        }
      ]
    },
    {
      "cell_type": "code",
      "metadata": {
        "colab": {
          "base_uri": "https://localhost:8080/",
          "height": 112
        },
        "id": "GRBjxnJL6dkH",
        "outputId": "79d4c692-1bf7-4068-f35c-69f50b989987"
      },
      "source": [
        "country.iloc[1:3,:2]"
      ],
      "execution_count": 70,
      "outputs": [
        {
          "output_type": "execute_result",
          "data": {
            "text/html": [
              "<div>\n",
              "<style scoped>\n",
              "    .dataframe tbody tr th:only-of-type {\n",
              "        vertical-align: middle;\n",
              "    }\n",
              "\n",
              "    .dataframe tbody tr th {\n",
              "        vertical-align: top;\n",
              "    }\n",
              "\n",
              "    .dataframe thead th {\n",
              "        text-align: right;\n",
              "    }\n",
              "</style>\n",
              "<table border=\"1\" class=\"dataframe\">\n",
              "  <thead>\n",
              "    <tr style=\"text-align: right;\">\n",
              "      <th></th>\n",
              "      <th>population</th>\n",
              "      <th>gdp</th>\n",
              "    </tr>\n",
              "  </thead>\n",
              "  <tbody>\n",
              "    <tr>\n",
              "      <th>japan</th>\n",
              "      <td>12718</td>\n",
              "      <td>516700000</td>\n",
              "    </tr>\n",
              "    <tr>\n",
              "      <th>china</th>\n",
              "      <td>141500</td>\n",
              "      <td>1409250000</td>\n",
              "    </tr>\n",
              "  </tbody>\n",
              "</table>\n",
              "</div>"
            ],
            "text/plain": [
              "       population         gdp\n",
              "japan       12718   516700000\n",
              "china      141500  1409250000"
            ]
          },
          "metadata": {
            "tags": []
          },
          "execution_count": 70
        }
      ]
    },
    {
      "cell_type": "code",
      "metadata": {
        "colab": {
          "base_uri": "https://localhost:8080/",
          "height": 175
        },
        "id": "5hOlM0Do6hDc",
        "outputId": "f44f65b3-67a0-4b5b-91cf-d40c8b104540"
      },
      "source": [
        "country "
      ],
      "execution_count": 71,
      "outputs": [
        {
          "output_type": "execute_result",
          "data": {
            "text/html": [
              "<div>\n",
              "<style scoped>\n",
              "    .dataframe tbody tr th:only-of-type {\n",
              "        vertical-align: middle;\n",
              "    }\n",
              "\n",
              "    .dataframe tbody tr th {\n",
              "        vertical-align: top;\n",
              "    }\n",
              "\n",
              "    .dataframe thead th {\n",
              "        text-align: right;\n",
              "    }\n",
              "</style>\n",
              "<table border=\"1\" class=\"dataframe\">\n",
              "  <thead>\n",
              "    <tr style=\"text-align: right;\">\n",
              "      <th></th>\n",
              "      <th>gdp</th>\n",
              "    </tr>\n",
              "  </thead>\n",
              "  <tbody>\n",
              "    <tr>\n",
              "      <th>korea</th>\n",
              "      <td>169320000</td>\n",
              "    </tr>\n",
              "    <tr>\n",
              "      <th>japan</th>\n",
              "      <td>516700000</td>\n",
              "    </tr>\n",
              "    <tr>\n",
              "      <th>china</th>\n",
              "      <td>1409250000</td>\n",
              "    </tr>\n",
              "    <tr>\n",
              "      <th>usa</th>\n",
              "      <td>2041280000</td>\n",
              "    </tr>\n",
              "  </tbody>\n",
              "</table>\n",
              "</div>"
            ],
            "text/plain": [
              "              gdp\n",
              "korea   169320000\n",
              "japan   516700000\n",
              "china  1409250000\n",
              "usa    2041280000"
            ]
          },
          "metadata": {
            "tags": []
          },
          "execution_count": 71
        }
      ]
    },
    {
      "cell_type": "code",
      "metadata": {
        "colab": {
          "base_uri": "https://localhost:8080/"
        },
        "id": "r-Di3E0764vv",
        "outputId": "0ec43e22-fa77-4916-eb18-3eb5eab26400"
      },
      "source": [
        "country['gdp'] #= Series값(GDP)을 불러온다"
      ],
      "execution_count": 73,
      "outputs": [
        {
          "output_type": "execute_result",
          "data": {
            "text/plain": [
              "korea     169320000\n",
              "japan     516700000\n",
              "china    1409250000\n",
              "usa      2041280000\n",
              "Name: gdp, dtype: int64"
            ]
          },
          "metadata": {
            "tags": []
          },
          "execution_count": 73
        }
      ]
    },
    {
      "cell_type": "code",
      "metadata": {
        "colab": {
          "base_uri": "https://localhost:8080/",
          "height": 175
        },
        "id": "TV9qdpdT68NQ",
        "outputId": "1d764dd6-493f-4c7b-d6b3-fa40aa8aaf9b"
      },
      "source": [
        "country[['gdp']] #= Series값(GDP)을 불러온다 거기에 []데이터 프레임을 씌운다"
      ],
      "execution_count": 72,
      "outputs": [
        {
          "output_type": "execute_result",
          "data": {
            "text/html": [
              "<div>\n",
              "<style scoped>\n",
              "    .dataframe tbody tr th:only-of-type {\n",
              "        vertical-align: middle;\n",
              "    }\n",
              "\n",
              "    .dataframe tbody tr th {\n",
              "        vertical-align: top;\n",
              "    }\n",
              "\n",
              "    .dataframe thead th {\n",
              "        text-align: right;\n",
              "    }\n",
              "</style>\n",
              "<table border=\"1\" class=\"dataframe\">\n",
              "  <thead>\n",
              "    <tr style=\"text-align: right;\">\n",
              "      <th></th>\n",
              "      <th>gdp</th>\n",
              "    </tr>\n",
              "  </thead>\n",
              "  <tbody>\n",
              "    <tr>\n",
              "      <th>korea</th>\n",
              "      <td>169320000</td>\n",
              "    </tr>\n",
              "    <tr>\n",
              "      <th>japan</th>\n",
              "      <td>516700000</td>\n",
              "    </tr>\n",
              "    <tr>\n",
              "      <th>china</th>\n",
              "      <td>1409250000</td>\n",
              "    </tr>\n",
              "    <tr>\n",
              "      <th>usa</th>\n",
              "      <td>2041280000</td>\n",
              "    </tr>\n",
              "  </tbody>\n",
              "</table>\n",
              "</div>"
            ],
            "text/plain": [
              "              gdp\n",
              "korea   169320000\n",
              "japan   516700000\n",
              "china  1409250000\n",
              "usa    2041280000"
            ]
          },
          "metadata": {
            "tags": []
          },
          "execution_count": 72
        }
      ]
    },
    {
      "cell_type": "markdown",
      "metadata": {
        "id": "tqfXuurC7cWb"
      },
      "source": [
        "Masking 연산 이나 Query함수를 활용하여 조건에 맞는 DataFrame 행 추출 가능"
      ]
    },
    {
      "cell_type": "code",
      "metadata": {
        "colab": {
          "base_uri": "https://localhost:8080/"
        },
        "id": "-irT94Ny8ysR",
        "outputId": "c7ea4db8-f13c-4f5a-e810-9668fc681804"
      },
      "source": [
        "print(country)"
      ],
      "execution_count": 80,
      "outputs": [
        {
          "output_type": "stream",
          "text": [
            "       population         gdp\n",
            "korea        5180   169320000\n",
            "japan       12718   516700000\n",
            "china      141500  1409250000\n",
            "usa         32676  2041280000\n"
          ],
          "name": "stdout"
        }
      ]
    },
    {
      "cell_type": "code",
      "metadata": {
        "colab": {
          "base_uri": "https://localhost:8080/",
          "height": 81
        },
        "id": "1DF2R7hZ69T2",
        "outputId": "3af38daa-16dc-48bf-c386-5afeee7f0818"
      },
      "source": [
        "country[country['population']< 10000] #Masking 연산"
      ],
      "execution_count": 87,
      "outputs": [
        {
          "output_type": "execute_result",
          "data": {
            "text/html": [
              "<div>\n",
              "<style scoped>\n",
              "    .dataframe tbody tr th:only-of-type {\n",
              "        vertical-align: middle;\n",
              "    }\n",
              "\n",
              "    .dataframe tbody tr th {\n",
              "        vertical-align: top;\n",
              "    }\n",
              "\n",
              "    .dataframe thead th {\n",
              "        text-align: right;\n",
              "    }\n",
              "</style>\n",
              "<table border=\"1\" class=\"dataframe\">\n",
              "  <thead>\n",
              "    <tr style=\"text-align: right;\">\n",
              "      <th></th>\n",
              "      <th>population</th>\n",
              "      <th>gdp</th>\n",
              "    </tr>\n",
              "  </thead>\n",
              "  <tbody>\n",
              "    <tr>\n",
              "      <th>korea</th>\n",
              "      <td>5180</td>\n",
              "      <td>169320000</td>\n",
              "    </tr>\n",
              "  </tbody>\n",
              "</table>\n",
              "</div>"
            ],
            "text/plain": [
              "       population        gdp\n",
              "korea        5180  169320000"
            ]
          },
          "metadata": {
            "tags": []
          },
          "execution_count": 87
        }
      ]
    },
    {
      "cell_type": "code",
      "metadata": {
        "colab": {
          "base_uri": "https://localhost:8080/",
          "height": 81
        },
        "id": "gnhU_POR8kFN",
        "outputId": "4bb1c0b6-87a4-4f0d-be40-410fd2dc9ea5"
      },
      "source": [
        "country.query(\"population > 100000\") # query 함수 활용"
      ],
      "execution_count": 83,
      "outputs": [
        {
          "output_type": "execute_result",
          "data": {
            "text/html": [
              "<div>\n",
              "<style scoped>\n",
              "    .dataframe tbody tr th:only-of-type {\n",
              "        vertical-align: middle;\n",
              "    }\n",
              "\n",
              "    .dataframe tbody tr th {\n",
              "        vertical-align: top;\n",
              "    }\n",
              "\n",
              "    .dataframe thead th {\n",
              "        text-align: right;\n",
              "    }\n",
              "</style>\n",
              "<table border=\"1\" class=\"dataframe\">\n",
              "  <thead>\n",
              "    <tr style=\"text-align: right;\">\n",
              "      <th></th>\n",
              "      <th>population</th>\n",
              "      <th>gdp</th>\n",
              "    </tr>\n",
              "  </thead>\n",
              "  <tbody>\n",
              "    <tr>\n",
              "      <th>china</th>\n",
              "      <td>141500</td>\n",
              "      <td>1409250000</td>\n",
              "    </tr>\n",
              "  </tbody>\n",
              "</table>\n",
              "</div>"
            ],
            "text/plain": [
              "       population         gdp\n",
              "china      141500  1409250000"
            ]
          },
          "metadata": {
            "tags": []
          },
          "execution_count": 83
        }
      ]
    },
    {
      "cell_type": "code",
      "metadata": {
        "id": "kSkLKyxz9Mzv"
      },
      "source": [
        ""
      ],
      "execution_count": null,
      "outputs": []
    }
  ]
}