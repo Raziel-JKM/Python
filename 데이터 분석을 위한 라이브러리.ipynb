{
  "nbformat": 4,
  "nbformat_minor": 0,
  "metadata": {
    "colab": {
      "name": "데이터 분석을 위한 라이브러리.ipynb",
      "provenance": [],
      "authorship_tag": "ABX9TyMh9C9l34grgpmfqUPE7EUq",
      "include_colab_link": true
    },
    "kernelspec": {
      "name": "python3",
      "display_name": "Python 3"
    },
    "language_info": {
      "name": "python"
    }
  },
  "cells": [
    {
      "cell_type": "markdown",
      "metadata": {
        "id": "view-in-github",
        "colab_type": "text"
      },
      "source": [
        "<a href=\"https://colab.research.google.com/github/Raziel-JKM/Python/blob/python/%EB%8D%B0%EC%9D%B4%ED%84%B0%20%EB%B6%84%EC%84%9D%EC%9D%84%20%EC%9C%84%ED%95%9C%20%EB%9D%BC%EC%9D%B4%EB%B8%8C%EB%9F%AC%EB%A6%AC.ipynb\" target=\"_parent\"><img src=\"https://colab.research.google.com/assets/colab-badge.svg\" alt=\"Open In Colab\"/></a>"
      ]
    },
    {
      "cell_type": "markdown",
      "metadata": {
        "id": "sF7uo44hGbnQ"
      },
      "source": [
        "##모듈"
      ]
    },
    {
      "cell_type": "markdown",
      "metadata": {
        "id": "arVjAqEOEFjs"
      },
      "source": [
        "계산기 모듈을 직접 만들어봅시다!\n",
        "\n",
        "random, math와 같이 이미 다른 개발자들이 만들어놓은 모듈도 있지만, 직접 우리가 모듈을 만들어서 사용할 수도 있습니다! 이번 실습에서는 모듈을 직접 만들어보고, 사용해보겠습니다.\n",
        "\n",
        "**cal.py 모듈**은 계산기 기능이 담긴 모듈입니다. \n",
        "이 안에는 plus() 와 minus() 함수가 있고, 모델명이 담긴 변수 modelName이 있습니다. \n",
        "오른쪽 실습에서 직접 이 cal.py를 만들어보고, main.py에서 이를 불러와봅시다.\n",
        "이렇게 해보세요!\n",
        "\n",
        "cal.py 파일을 열고, a,b를 인자로 갖는 함수 plus, minus를 정의해봅니다.\n",
        "\n",
        "plus : a+b를 반환하는 함수\n",
        "\n",
        "minus : a-b를 반환하는 함수\n",
        "\n",
        "cal.py 파일에서 변수 modelName을 만들고 ‘ELI-C2’를 대입해봅시다.\n",
        "\n",
        "main.py 파일을 열고, import cal을 이용해 저장된 모듈 cal을 불러와봅시다.\n",
        "\n",
        "변수 var1에 모듈 cal의 모델이름(modelName)을 넣어봅시다.\n",
        "\n",
        "변수 var2에 모듈 cal의 plus 함수를 이용해서 3+4의 값을 넣어봅시다.\n",
        "\n",
        "변수 var3에 모듈 cal의 minus 함수를 이용해서 7-2의 값을 넣어봅시다.\n",
        "\n",
        "var1, var2, var3의 값을 출력하여 확인해봅시다."
      ]
    },
    {
      "cell_type": "code",
      "metadata": {
        "id": "ofOsfrIvEEBG"
      },
      "source": [
        "def plus(a, b):\n",
        "    return a+b\n",
        "\n",
        "def minus(a, b):\n",
        "    return a-b\n",
        "\n",
        "modelName = \"ELI-C2\" # 문자 이기 떄문에 \"\" 필요"
      ],
      "execution_count": null,
      "outputs": []
    },
    {
      "cell_type": "code",
      "metadata": {
        "id": "L0zW09O1F8JJ"
      },
      "source": [
        "## 이렇게 해보세요!를 따라 수행해보세요.\n",
        "import cal\n",
        "\n",
        "\n",
        "var1 = cal.modelName\n",
        "\n",
        "var2 = cal.plus(3,4)\n",
        "\n",
        "var3 = cal.minus(7,2)\n",
        "\n",
        "## 변수의 값을 확인하는 출력문입니다.\n",
        "print(var1, var2, var3)"
      ],
      "execution_count": null,
      "outputs": []
    },
    {
      "cell_type": "markdown",
      "metadata": {
        "id": "xkmY-75UGjkC"
      },
      "source": [
        "##패키지"
      ]
    },
    {
      "cell_type": "markdown",
      "metadata": {
        "id": "y53_pAfQIPYQ"
      },
      "source": [
        "모듈을 편리하게 관리하기 위해서\n",
        "ex)\n",
        "projrct/\n",
        "script/\n",
        "모듈을 편리하게 관리하기 위해서\n",
        "\n",
        "\n",
        "패키지 불러오는법 \n",
        "\n",
        "1. import\n",
        "2. from-import"
      ]
    },
    {
      "cell_type": "markdown",
      "metadata": {
        "id": "7OSyx4RwItv3"
      },
      "source": [
        "1. import"
      ]
    },
    {
      "cell_type": "code",
      "metadata": {
        "id": "4cWvBgUcIVls"
      },
      "source": [
        "#import를 이용해서 폴더를 불러온 후, 함수 실행\n",
        "import user.cal\n",
        "print(cal.plus(3,4))"
      ],
      "execution_count": null,
      "outputs": []
    },
    {
      "cell_type": "markdown",
      "metadata": {
        "id": "LS1csecYIpH2"
      },
      "source": [
        "2. from  import"
      ]
    },
    {
      "cell_type": "code",
      "metadata": {
        "id": "fMe5uz5dHGC1"
      },
      "source": [
        "from user.cal import plus \n",
        "#.   폴더  모듈         함수\n",
        "\n",
        "print(plus(3,4))\n",
        "# cal.plus()라고 적어주지 않아도된다\n",
        "\n",
        "#주의\n",
        "# main.py -> plus함수\n",
        "# cal.py -> plus함수\n",
        "# 다음과 같이 두 패키지에 같은 함수가 있는 경우 주의가 필요하다"
      ],
      "execution_count": null,
      "outputs": []
    },
    {
      "cell_type": "markdown",
      "metadata": {
        "id": "BkzAj3ddMr2e"
      },
      "source": [
        "#모듈을 불러오는 방법에는 크게 2가지가 있습니다.\n",
        "\n",
        "from a import b : a 모듈(혹은 패키지)에서 b 함수를 가져오겠다. b를 사용하기 위해선 b() 꼴 로 사용 가능\n",
        "import a : a 모듈을 불러오겠다. a 모듈 안에있는 b 함수를 사용하기 위해선 a.b() 꼴로 사용해야함"
      ]
    },
    {
      "cell_type": "markdown",
      "metadata": {
        "id": "aydLB_B9MuCD"
      },
      "source": [
        "\n",
        "\n",
        "1. from a import b를 이용해서 random의 randrange()를 불러와봅시다.\n",
        "2. import a를 이용해서 math 모듈을 불러와봅시다.\n",
        "3. 변수 var1에 randrange 함수를 이용해 1이상 10이하의 임의의 정수를 넣어봅시다.\n",
        "4. 변수 var2에 math.log 함수를 이용해 **log밑72 5184의 값**을 넣어봅시다.\n",
        "5. var1, var2를 출력하여 결과값을 확인해봅시다."
      ]
    },
    {
      "cell_type": "markdown",
      "metadata": {
        "id": "ada4g94NNR3n"
      },
      "source": [
        "#Tip!\n",
        "\n",
        "random.randrange(x, y) 함수는\n",
        "x부터 y-1까지의 숫자에서 임의의 숫자를 하나 반환합니다."
      ]
    },
    {
      "cell_type": "code",
      "metadata": {
        "id": "M-txMA97NprV"
      },
      "source": [
        "## 이렇게 해보세요!를 따라 수행해보세요.\n",
        "from a import b #에이 모듈에서 비를 가져오겠다\n",
        "\n",
        "import a\n",
        "\n",
        "from random import randrange # 1 .\n",
        "\n",
        "import math # 2 ."
      ],
      "execution_count": null,
      "outputs": []
    },
    {
      "cell_type": "code",
      "metadata": {
        "colab": {
          "base_uri": "https://localhost:8080/"
        },
        "id": "hvnOkhrYHZcG",
        "outputId": "aba048f2-0a5b-442a-bc9e-b7d912a55735"
      },
      "source": [
        "from random import randrange\n",
        "var1 = randrange(1,11) # 3. 1~10은 11이 들어간다 매우 중요!\n",
        "\n",
        "var2 = math.log(5184,72)# 4.\n",
        "\n",
        "print(var1, var2)"
      ],
      "execution_count": 5,
      "outputs": [
        {
          "output_type": "stream",
          "text": [
            "5 2.0\n"
          ],
          "name": "stdout"
        }
      ]
    },
    {
      "cell_type": "markdown",
      "metadata": {
        "id": "8XBK6qEyRipu"
      },
      "source": [
        "\n",
        "\n",
        "---\n",
        "\n"
      ]
    },
    {
      "cell_type": "markdown",
      "metadata": {
        "id": "9iLmSGMwRnU3"
      },
      "source": [
        "웹페이지 어떻게 구성되어있을까"
      ]
    },
    {
      "cell_type": "markdown",
      "metadata": {
        "id": "jxqoRpRYShT-"
      },
      "source": [
        "Python에서는 쉽게 웹페이지의 정보를 가져올 수 있는 urllib패키지를 제공합니다. 이 중에서 urllib.request.urlopen 함수는 해당 url의 html 파일을 가져옵니다.\n",
        "\n",
        "위 함수를 이용해서 https://en.wikipedia.org/wiki/Lorem_ipsum 홈페이지의 정보를 가져와봅시다."
      ]
    },
    {
      "cell_type": "markdown",
      "metadata": {
        "id": "zq-qEW03Sltk"
      },
      "source": [
        "1. from-import를 이용해서 urllib패키지 안 request 모듈에서 urlopen 함수를 불러오는 코드를 작성해봅시다.\n",
        "2. 다음 주소를 urlopen하고, read() 한 다음, 이를 utf-8으로 decode 한 결과를 변수 webpage에 넣어봅시다.\n",
        "https://en.wikipedia.org/wiki/Lorem_ipsum\n",
        "Copy\n",
        "3. 변수 webpage를 출력해봅시다. 무엇이 나오나요?"
      ]
    },
    {
      "cell_type": "code",
      "metadata": {
        "colab": {
          "base_uri": "https://localhost:8080/"
        },
        "id": "EU232gVSRmTI",
        "outputId": "2607422e-5a7b-42fe-edeb-18954f59b752"
      },
      "source": [
        "from urllib.request import urlopen\n",
        "webpage = urlopen(\"https://en.wikipedia.org/wiki/Lorem_ipsum\").read().decode(\"utf-8\")\n",
        "\n",
        "print()\n"
      ],
      "execution_count": 10,
      "outputs": [
        {
          "output_type": "stream",
          "text": [
            "\n"
          ],
          "name": "stdout"
        }
      ]
    }
  ]
}