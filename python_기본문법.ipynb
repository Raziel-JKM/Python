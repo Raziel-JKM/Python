{
  "nbformat": 4,
  "nbformat_minor": 0,
  "metadata": {
    "colab": {
      "name": "python 기본문법.ipynb",
      "provenance": [],
      "authorship_tag": "ABX9TyNk2Vgm2tYt2/rT/Crov3TR",
      "include_colab_link": true
    },
    "kernelspec": {
      "name": "python3",
      "display_name": "Python 3"
    },
    "language_info": {
      "name": "python"
    }
  },
  "cells": [
    {
      "cell_type": "markdown",
      "metadata": {
        "id": "view-in-github",
        "colab_type": "text"
      },
      "source": [
        "<a href=\"https://colab.research.google.com/github/Raziel-JKM/Python/blob/python/python_%EA%B8%B0%EB%B3%B8%EB%AC%B8%EB%B2%95.ipynb\" target=\"_parent\"><img src=\"https://colab.research.google.com/assets/colab-badge.svg\" alt=\"Open In Colab\"/></a>"
      ]
    },
    {
      "cell_type": "code",
      "metadata": {
        "id": "AAnIM-mffdCy"
      },
      "source": [
        "#def 함수이름():\n",
        "\n",
        "def first_func():\n",
        "    for i in range(1,20):\n",
        "        print(i)\n",
        "\n",
        "first()\n",
        "\n",
        "def second(a,b):\n",
        "    retund a + b\n",
        "  \n",
        "second(1,1) # 여기서는 정확하게 값을 정해줘야한다."
      ],
      "execution_count": null,
      "outputs": []
    },
    {
      "cell_type": "code",
      "metadata": {
        "id": "yTQLCqpPlX0J"
      },
      "source": [
        "for i in range(5):\n",
        "    #range(5)=> 0, 1, 2, 3, 4\n",
        "    print(i)\n",
        "    # i = 0\n",
        "    # i = 1\n",
        "      ~\n",
        "    # i = 4"
      ],
      "execution_count": null,
      "outputs": []
    },
    {
      "cell_type": "code",
      "metadata": {
        "colab": {
          "base_uri": "https://localhost:8080/"
        },
        "id": "Xn6lxPDhmGes",
        "outputId": "10c01f74-a9fd-4f84-e8ee-3f85c295dd71"
      },
      "source": [
        "y = {\n",
        "    'a':1,\n",
        "    'b':2,\n",
        "    'c':3\n",
        "}\n",
        "\n",
        "#a만 출력\n",
        "for i in y.items():\n",
        "    print(i)"
      ],
      "execution_count": null,
      "outputs": [
        {
          "output_type": "stream",
          "text": [
            "('a', 1)\n",
            "('b', 2)\n",
            "('c', 3)\n"
          ],
          "name": "stdout"
        }
      ]
    },
    {
      "cell_type": "code",
      "metadata": {
        "colab": {
          "base_uri": "https://localhost:8080/"
        },
        "id": "EP7KV0aAoEjj",
        "outputId": "faad3d66-bfc6-473a-fca1-ce8aaf9fa7c9"
      },
      "source": [
        "y = {\n",
        "    'c':1,\n",
        "    'b':2,\n",
        "    'c':3\n",
        "}\n",
        "\n",
        "\n",
        "for key, item in y.items():\n",
        "\n",
        "        print('key: ',key)\n",
        "        print('item: ', item)"
      ],
      "execution_count": null,
      "outputs": [
        {
          "output_type": "stream",
          "text": [
            "key:  c\n",
            "item:  3\n",
            "key:  b\n",
            "item:  2\n"
          ],
          "name": "stdout"
        }
      ]
    },
    {
      "cell_type": "code",
      "metadata": {
        "colab": {
          "base_uri": "https://localhost:8080/"
        },
        "id": "VU2yz63BqscR",
        "outputId": "2987dffb-c8c7-4399-d589-04d6ab17cccf"
      },
      "source": [
        "y = {\n",
        "    'c':1,\n",
        "    'b':2,\n",
        "    'c':3\n",
        "}\n",
        "\n",
        "\n",
        "for key in y.keys():\n",
        "    print(key )\n"
      ],
      "execution_count": null,
      "outputs": [
        {
          "output_type": "stream",
          "text": [
            "\n",
            "\n"
          ],
          "name": "stdout"
        }
      ]
    },
    {
      "cell_type": "code",
      "metadata": {
        "id": "nOFnl6CZvRfQ",
        "colab": {
          "base_uri": "https://localhost:8080/"
        },
        "outputId": "b9c7c5ed-2623-45d9-c0d8-172033f89a6a"
      },
      "source": [
        "count = 1\n",
        "while count < 8:\n",
        "        print(count)\n",
        "        count += 2\n",
        "print('end while loop')"
      ],
      "execution_count": 14,
      "outputs": [
        {
          "output_type": "stream",
          "text": [
            "1\n",
            "3\n",
            "5\n",
            "7\n",
            "end while loop\n"
          ],
          "name": "stdout"
        }
      ]
    },
    {
      "cell_type": "code",
      "metadata": {
        "id": "i_szYyTL1E9G"
      },
      "source": [
        "print(count)\n",
        "count += 2\n",
        "#count = 12 => 12>10 => 참 , True. Truthy\n",
        "if count > 10:\n",
        "   break\n",
        "  \n",
        "print('end while loop')"
      ],
      "execution_count": null,
      "outputs": []
    },
    {
      "cell_type": "code",
      "metadata": {
        "id": "LKwa-qYc1rF_"
      },
      "source": [
        "if True: # => Falsy 값들은 실행 안됨. 예를 들어 0. '' , False\n",
        "  print('if condition is truthy')\n",
        "\n",
        "  print('end file')"
      ],
      "execution_count": null,
      "outputs": []
    }
  ]
}